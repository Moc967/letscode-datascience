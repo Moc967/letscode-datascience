{
 "cells": [
  {
   "cell_type": "markdown",
   "id": "4f51956c",
   "metadata": {
    "pycharm": {
     "name": "#%% md\n"
    }
   },
   "source": [
    "# Aula 4 - Exercício de Pandas\n",
    "\n",
    "Vamos praticando com o Pandas enquanto discutimos cada ponto de manipulação de dados com ele."
   ]
  },
  {
   "cell_type": "markdown",
   "id": "7db9134f",
   "metadata": {
    "pycharm": {
     "name": "#%% md\n"
    }
   },
   "source": [
    "---"
   ]
  },
  {
   "cell_type": "markdown",
   "id": "803b4259",
   "metadata": {
    "pycharm": {
     "name": "#%% md\n"
    }
   },
   "source": [
    "Vamos usar [dados do IBGE sobre a população Brasileira](https://www.ibge.gov.br/estatisticas/sociais/populacao.html), e tentar aproveitar o Pandas para extrair algumas informações.\n",
    "\n",
    "O objetivo dessa primeira parte é aprendermos algumas funcionalidades básicas para começarmos a olhar os nossos dados. É sempre importante sabermos qual tipo de dados nós temos, qual a cara deles, se tem algum erro, quantas linhas temos, etc...\n",
    "\n",
    "Isso nos ajuda muito a nos preparar para de fato começar a fazer análises de dados."
   ]
  },
  {
   "cell_type": "markdown",
   "id": "b30a3159",
   "metadata": {
    "pycharm": {
     "name": "#%% md\n"
    }
   },
   "source": [
    "## Lendo o arquivo"
   ]
  },
  {
   "cell_type": "code",
   "execution_count": 1,
   "id": "041bc1af",
   "metadata": {
    "pycharm": {
     "name": "#%%\n"
    }
   },
   "outputs": [],
   "source": [
    "# Começamos sempre importando nossas bibliotecas.\n",
    "import numpy as np\n",
    "import pandas as pd"
   ]
  },
  {
   "cell_type": "code",
   "execution_count": 2,
   "id": "8467ea4e",
   "metadata": {
    "pycharm": {
     "name": "#%%\n"
    }
   },
   "outputs": [
    {
     "data": {
      "text/plain": "   UF  COD. UF  COD. MUNIC      NOME DO MUNICÍPIO  POPULAÇÃO ESTIMADA\n0  RO       11          15  Alta Floresta D'Oeste               22516\n1  RO       11          23              Ariquemes              111148\n2  RO       11          31                 Cabixi                5067\n3  RO       11          49                 Cacoal               86416\n4  RO       11          56             Cerejeiras               16088",
      "text/html": "<div>\n<style scoped>\n    .dataframe tbody tr th:only-of-type {\n        vertical-align: middle;\n    }\n\n    .dataframe tbody tr th {\n        vertical-align: top;\n    }\n\n    .dataframe thead th {\n        text-align: right;\n    }\n</style>\n<table border=\"1\" class=\"dataframe\">\n  <thead>\n    <tr style=\"text-align: right;\">\n      <th></th>\n      <th>UF</th>\n      <th>COD. UF</th>\n      <th>COD. MUNIC</th>\n      <th>NOME DO MUNICÍPIO</th>\n      <th>POPULAÇÃO ESTIMADA</th>\n    </tr>\n  </thead>\n  <tbody>\n    <tr>\n      <th>0</th>\n      <td>RO</td>\n      <td>11</td>\n      <td>15</td>\n      <td>Alta Floresta D'Oeste</td>\n      <td>22516</td>\n    </tr>\n    <tr>\n      <th>1</th>\n      <td>RO</td>\n      <td>11</td>\n      <td>23</td>\n      <td>Ariquemes</td>\n      <td>111148</td>\n    </tr>\n    <tr>\n      <th>2</th>\n      <td>RO</td>\n      <td>11</td>\n      <td>31</td>\n      <td>Cabixi</td>\n      <td>5067</td>\n    </tr>\n    <tr>\n      <th>3</th>\n      <td>RO</td>\n      <td>11</td>\n      <td>49</td>\n      <td>Cacoal</td>\n      <td>86416</td>\n    </tr>\n    <tr>\n      <th>4</th>\n      <td>RO</td>\n      <td>11</td>\n      <td>56</td>\n      <td>Cerejeiras</td>\n      <td>16088</td>\n    </tr>\n  </tbody>\n</table>\n</div>"
     },
     "execution_count": 2,
     "metadata": {},
     "output_type": "execute_result"
    }
   ],
   "source": [
    "# Tente ler abaixo os dados de população para um dataframe, usando pd.read_table\n",
    "df = pd.read_table('/Users/magnovaldo/Documents/Training/lets_code/ds_boticario/boti_pipe/data/populacao_brasileira_por_municipio.txt', sep=';', decimal=',', thousands='.')\n",
    "\n",
    "df.head()"
   ]
  },
  {
   "cell_type": "code",
   "execution_count": 3,
   "id": "fdd13227",
   "metadata": {
    "pycharm": {
     "name": "#%%\n"
    }
   },
   "outputs": [
    {
     "name": "stdout",
     "output_type": "stream",
     "text": [
      "<class 'pandas.core.frame.DataFrame'>\n",
      "RangeIndex: 5570 entries, 0 to 5569\n",
      "Data columns (total 5 columns):\n",
      " #   Column              Non-Null Count  Dtype \n",
      "---  ------              --------------  ----- \n",
      " 0   UF                  5570 non-null   object\n",
      " 1   COD. UF             5570 non-null   int64 \n",
      " 2   COD. MUNIC          5570 non-null   int64 \n",
      " 3   NOME DO MUNICÍPIO   5570 non-null   object\n",
      " 4   POPULAÇÃO ESTIMADA  5570 non-null   int64 \n",
      "dtypes: int64(3), object(2)\n",
      "memory usage: 217.7+ KB\n"
     ]
    }
   ],
   "source": [
    "# Tem duas coisas que olhamos, antes de mais nada:\n",
    "# 1. Quais tipos de dados eu tenho? \n",
    "df.info()\n",
    "\n"
   ]
  },
  {
   "cell_type": "code",
   "execution_count": 4,
   "id": "327f63c1",
   "metadata": {
    "pycharm": {
     "name": "#%%\n"
    }
   },
   "outputs": [
    {
     "data": {
      "text/plain": "   UF  COD. UF  COD. MUNIC      NOME DO MUNICÍPIO  POPULAÇÃO ESTIMADA\n0  RO       11          15  Alta Floresta D'Oeste               22516\n1  RO       11          23              Ariquemes              111148\n2  RO       11          31                 Cabixi                5067\n3  RO       11          49                 Cacoal               86416\n4  RO       11          56             Cerejeiras               16088\n5  RO       11          64      Colorado do Oeste               15213\n6  RO       11          72             Corumbiara                7052",
      "text/html": "<div>\n<style scoped>\n    .dataframe tbody tr th:only-of-type {\n        vertical-align: middle;\n    }\n\n    .dataframe tbody tr th {\n        vertical-align: top;\n    }\n\n    .dataframe thead th {\n        text-align: right;\n    }\n</style>\n<table border=\"1\" class=\"dataframe\">\n  <thead>\n    <tr style=\"text-align: right;\">\n      <th></th>\n      <th>UF</th>\n      <th>COD. UF</th>\n      <th>COD. MUNIC</th>\n      <th>NOME DO MUNICÍPIO</th>\n      <th>POPULAÇÃO ESTIMADA</th>\n    </tr>\n  </thead>\n  <tbody>\n    <tr>\n      <th>0</th>\n      <td>RO</td>\n      <td>11</td>\n      <td>15</td>\n      <td>Alta Floresta D'Oeste</td>\n      <td>22516</td>\n    </tr>\n    <tr>\n      <th>1</th>\n      <td>RO</td>\n      <td>11</td>\n      <td>23</td>\n      <td>Ariquemes</td>\n      <td>111148</td>\n    </tr>\n    <tr>\n      <th>2</th>\n      <td>RO</td>\n      <td>11</td>\n      <td>31</td>\n      <td>Cabixi</td>\n      <td>5067</td>\n    </tr>\n    <tr>\n      <th>3</th>\n      <td>RO</td>\n      <td>11</td>\n      <td>49</td>\n      <td>Cacoal</td>\n      <td>86416</td>\n    </tr>\n    <tr>\n      <th>4</th>\n      <td>RO</td>\n      <td>11</td>\n      <td>56</td>\n      <td>Cerejeiras</td>\n      <td>16088</td>\n    </tr>\n    <tr>\n      <th>5</th>\n      <td>RO</td>\n      <td>11</td>\n      <td>64</td>\n      <td>Colorado do Oeste</td>\n      <td>15213</td>\n    </tr>\n    <tr>\n      <th>6</th>\n      <td>RO</td>\n      <td>11</td>\n      <td>72</td>\n      <td>Corumbiara</td>\n      <td>7052</td>\n    </tr>\n  </tbody>\n</table>\n</div>"
     },
     "execution_count": 4,
     "metadata": {},
     "output_type": "execute_result"
    }
   ],
   "source": [
    "# 2. Quais são as entradas para as 7 primeiras linhas?\n",
    "df.head(7)\n",
    "\n"
   ]
  },
  {
   "cell_type": "code",
   "execution_count": 5,
   "id": "015f67d1",
   "metadata": {
    "pycharm": {
     "name": "#%%\n"
    }
   },
   "outputs": [
    {
     "data": {
      "text/plain": "5570"
     },
     "execution_count": 5,
     "metadata": {},
     "output_type": "execute_result"
    }
   ],
   "source": [
    "# Quantas linhas temos no nosso dataframe?\n",
    "df.shape[0]\n",
    "\n",
    "\n"
   ]
  },
  {
   "cell_type": "code",
   "execution_count": 6,
   "id": "6dc3c7dc",
   "metadata": {
    "pycharm": {
     "name": "#%%\n"
    }
   },
   "outputs": [
    {
     "data": {
      "text/plain": "Index(['UF', 'COD. UF', 'COD. MUNIC', 'NOME DO MUNICÍPIO',\n       'POPULAÇÃO ESTIMADA'],\n      dtype='object')"
     },
     "execution_count": 6,
     "metadata": {},
     "output_type": "execute_result"
    }
   ],
   "source": [
    "# Extraia o nome das colunas do dataframe como um array.\n",
    "cols = df.columns\n",
    "cols"
   ]
  },
  {
   "cell_type": "code",
   "execution_count": 7,
   "id": "5e971efd",
   "metadata": {
    "pycharm": {
     "name": "#%%\n"
    }
   },
   "outputs": [
    {
     "data": {
      "text/plain": "Index(['UF', 'COD._UF', 'COD._MUNIC', 'NOME_DO_MUNICÍPIO',\n       'POPULAÇÃO_ESTIMADA'],\n      dtype='object')"
     },
     "execution_count": 7,
     "metadata": {},
     "output_type": "execute_result"
    }
   ],
   "source": [
    "# Renomeie as colunas do dataframe de forma que nenhuma delas possua espaço\n",
    "df.columns = df.columns.str.replace(' ', '_')\n",
    "df.columns\n"
   ]
  },
  {
   "cell_type": "markdown",
   "id": "4e343779",
   "metadata": {
    "pycharm": {
     "name": "#%% md\n"
    }
   },
   "source": [
    "## Manipulando meu dataframe e infos básicas"
   ]
  },
  {
   "cell_type": "code",
   "execution_count": 8,
   "id": "7e64d14f",
   "metadata": {
    "pycharm": {
     "name": "#%%\n"
    }
   },
   "outputs": [
    {
     "data": {
      "text/plain": "'São Paulo de Olivença'"
     },
     "execution_count": 8,
     "metadata": {},
     "output_type": "execute_result"
    }
   ],
   "source": [
    "# Qual é o município que aparece na centésima vigésima sétima linha?\n",
    "df.iloc[126, 3]\n",
    "\n"
   ]
  },
  {
   "cell_type": "code",
   "execution_count": 9,
   "outputs": [
    {
     "data": {
      "text/plain": "MG    853\nSP    645\nRS    497\nBA    417\nPR    399\nSC    295\nGO    246\nPI    224\nPB    223\nMA    217\nPE    185\nCE    184\nRN    167\nPA    144\nMT    141\nTO    139\nAL    102\nRJ     92\nMS     79\nES     78\nSE     75\nAM     62\nRO     52\nAC     22\nAP     16\nRR     15\nDF      1\nName: UF, dtype: int64"
     },
     "execution_count": 9,
     "metadata": {},
     "output_type": "execute_result"
    }
   ],
   "source": [
    "UF = df['UF']\n",
    "UF.value_counts()"
   ],
   "metadata": {
    "collapsed": false,
    "pycharm": {
     "name": "#%%\n"
    }
   }
  },
  {
   "cell_type": "code",
   "execution_count": 10,
   "id": "90f26cf5",
   "metadata": {
    "pycharm": {
     "name": "#%%\n"
    }
   },
   "outputs": [
    {
     "data": {
      "text/plain": "UF\nAC     22\nAL    102\nAM     62\nAP     16\nBA    417\nCE    184\nDF      1\nES     78\nGO    246\nMA    217\nMG    853\nMS     79\nMT    141\nPA    144\nPB    223\nPE    185\nPI    224\nPR    399\nRJ     92\nRN    167\nRO     52\nRR     15\nRS    497\nSC    295\nSE     75\nSP    645\nTO    139\nName: UF, dtype: int64"
     },
     "execution_count": 10,
     "metadata": {},
     "output_type": "execute_result"
    }
   ],
   "source": [
    "# Quantos municípios em tenho para cada unidade da federação?\n",
    "df.groupby('UF')['UF'].count()\n"
   ]
  },
  {
   "cell_type": "code",
   "execution_count": 11,
   "outputs": [
    {
     "ename": "AttributeError",
     "evalue": "'SeriesGroupBy' object has no attribute 'UF'",
     "output_type": "error",
     "traceback": [
      "\u001B[0;31m---------------------------------------------------------------------------\u001B[0m",
      "\u001B[0;31mAttributeError\u001B[0m                            Traceback (most recent call last)",
      "\u001B[0;32m/var/folders/bb/fw10kpq94778xr97pn87n8jnddvh42/T/ipykernel_39243/1382632378.py\u001B[0m in \u001B[0;36m<module>\u001B[0;34m\u001B[0m\n\u001B[0;32m----> 1\u001B[0;31m \u001B[0mdf\u001B[0m\u001B[0;34m.\u001B[0m\u001B[0mgroupby\u001B[0m\u001B[0;34m(\u001B[0m\u001B[0;34m'UF'\u001B[0m\u001B[0;34m)\u001B[0m\u001B[0;34m.\u001B[0m\u001B[0magg\u001B[0m\u001B[0;34m(\u001B[0m\u001B[0;34m{\u001B[0m\u001B[0;34m'UF'\u001B[0m\u001B[0;34m}\u001B[0m\u001B[0;34m)\u001B[0m\u001B[0;34m\u001B[0m\u001B[0;34m\u001B[0m\u001B[0m\n\u001B[0m",
      "\u001B[0;32m~/opt/anaconda3/lib/python3.9/site-packages/pandas/core/groupby/generic.py\u001B[0m in \u001B[0;36maggregate\u001B[0;34m(self, func, engine, engine_kwargs, *args, **kwargs)\u001B[0m\n\u001B[1;32m    977\u001B[0m \u001B[0;34m\u001B[0m\u001B[0m\n\u001B[1;32m    978\u001B[0m         \u001B[0mop\u001B[0m \u001B[0;34m=\u001B[0m \u001B[0mGroupByApply\u001B[0m\u001B[0;34m(\u001B[0m\u001B[0mself\u001B[0m\u001B[0;34m,\u001B[0m \u001B[0mfunc\u001B[0m\u001B[0;34m,\u001B[0m \u001B[0margs\u001B[0m\u001B[0;34m,\u001B[0m \u001B[0mkwargs\u001B[0m\u001B[0;34m)\u001B[0m\u001B[0;34m\u001B[0m\u001B[0;34m\u001B[0m\u001B[0m\n\u001B[0;32m--> 979\u001B[0;31m         \u001B[0mresult\u001B[0m \u001B[0;34m=\u001B[0m \u001B[0mop\u001B[0m\u001B[0;34m.\u001B[0m\u001B[0magg\u001B[0m\u001B[0;34m(\u001B[0m\u001B[0;34m)\u001B[0m\u001B[0;34m\u001B[0m\u001B[0;34m\u001B[0m\u001B[0m\n\u001B[0m\u001B[1;32m    980\u001B[0m         \u001B[0;32mif\u001B[0m \u001B[0;32mnot\u001B[0m \u001B[0mis_dict_like\u001B[0m\u001B[0;34m(\u001B[0m\u001B[0mfunc\u001B[0m\u001B[0;34m)\u001B[0m \u001B[0;32mand\u001B[0m \u001B[0mresult\u001B[0m \u001B[0;32mis\u001B[0m \u001B[0;32mnot\u001B[0m \u001B[0;32mNone\u001B[0m\u001B[0;34m:\u001B[0m\u001B[0;34m\u001B[0m\u001B[0;34m\u001B[0m\u001B[0m\n\u001B[1;32m    981\u001B[0m             \u001B[0;32mreturn\u001B[0m \u001B[0mresult\u001B[0m\u001B[0;34m\u001B[0m\u001B[0;34m\u001B[0m\u001B[0m\n",
      "\u001B[0;32m~/opt/anaconda3/lib/python3.9/site-packages/pandas/core/apply.py\u001B[0m in \u001B[0;36magg\u001B[0;34m(self)\u001B[0m\n\u001B[1;32m    162\u001B[0m         \u001B[0;32melif\u001B[0m \u001B[0mis_list_like\u001B[0m\u001B[0;34m(\u001B[0m\u001B[0marg\u001B[0m\u001B[0;34m)\u001B[0m\u001B[0;34m:\u001B[0m\u001B[0;34m\u001B[0m\u001B[0;34m\u001B[0m\u001B[0m\n\u001B[1;32m    163\u001B[0m             \u001B[0;31m# we require a list, but not a 'str'\u001B[0m\u001B[0;34m\u001B[0m\u001B[0;34m\u001B[0m\u001B[0m\n\u001B[0;32m--> 164\u001B[0;31m             \u001B[0;32mreturn\u001B[0m \u001B[0mself\u001B[0m\u001B[0;34m.\u001B[0m\u001B[0magg_list_like\u001B[0m\u001B[0;34m(\u001B[0m\u001B[0;34m)\u001B[0m\u001B[0;34m\u001B[0m\u001B[0;34m\u001B[0m\u001B[0m\n\u001B[0m\u001B[1;32m    165\u001B[0m \u001B[0;34m\u001B[0m\u001B[0m\n\u001B[1;32m    166\u001B[0m         \u001B[0;32mif\u001B[0m \u001B[0mcallable\u001B[0m\u001B[0;34m(\u001B[0m\u001B[0marg\u001B[0m\u001B[0;34m)\u001B[0m\u001B[0;34m:\u001B[0m\u001B[0;34m\u001B[0m\u001B[0;34m\u001B[0m\u001B[0m\n",
      "\u001B[0;32m~/opt/anaconda3/lib/python3.9/site-packages/pandas/core/apply.py\u001B[0m in \u001B[0;36magg_list_like\u001B[0;34m(self)\u001B[0m\n\u001B[1;32m    353\u001B[0m                 \u001B[0mcolg\u001B[0m \u001B[0;34m=\u001B[0m \u001B[0mobj\u001B[0m\u001B[0;34m.\u001B[0m\u001B[0m_gotitem\u001B[0m\u001B[0;34m(\u001B[0m\u001B[0mcol\u001B[0m\u001B[0;34m,\u001B[0m \u001B[0mndim\u001B[0m\u001B[0;34m=\u001B[0m\u001B[0;36m1\u001B[0m\u001B[0;34m,\u001B[0m \u001B[0msubset\u001B[0m\u001B[0;34m=\u001B[0m\u001B[0mselected_obj\u001B[0m\u001B[0;34m.\u001B[0m\u001B[0miloc\u001B[0m\u001B[0;34m[\u001B[0m\u001B[0;34m:\u001B[0m\u001B[0;34m,\u001B[0m \u001B[0mindex\u001B[0m\u001B[0;34m]\u001B[0m\u001B[0;34m)\u001B[0m\u001B[0;34m\u001B[0m\u001B[0;34m\u001B[0m\u001B[0m\n\u001B[1;32m    354\u001B[0m                 \u001B[0;32mtry\u001B[0m\u001B[0;34m:\u001B[0m\u001B[0;34m\u001B[0m\u001B[0;34m\u001B[0m\u001B[0m\n\u001B[0;32m--> 355\u001B[0;31m                     \u001B[0mnew_res\u001B[0m \u001B[0;34m=\u001B[0m \u001B[0mcolg\u001B[0m\u001B[0;34m.\u001B[0m\u001B[0maggregate\u001B[0m\u001B[0;34m(\u001B[0m\u001B[0marg\u001B[0m\u001B[0;34m)\u001B[0m\u001B[0;34m\u001B[0m\u001B[0;34m\u001B[0m\u001B[0m\n\u001B[0m\u001B[1;32m    356\u001B[0m                 \u001B[0;32mexcept\u001B[0m \u001B[0;34m(\u001B[0m\u001B[0mTypeError\u001B[0m\u001B[0;34m,\u001B[0m \u001B[0mDataError\u001B[0m\u001B[0;34m)\u001B[0m\u001B[0;34m:\u001B[0m\u001B[0;34m\u001B[0m\u001B[0;34m\u001B[0m\u001B[0m\n\u001B[1;32m    357\u001B[0m                     \u001B[0;32mpass\u001B[0m\u001B[0;34m\u001B[0m\u001B[0;34m\u001B[0m\u001B[0m\n",
      "\u001B[0;32m~/opt/anaconda3/lib/python3.9/site-packages/pandas/core/groupby/generic.py\u001B[0m in \u001B[0;36maggregate\u001B[0;34m(self, func, engine, engine_kwargs, *args, **kwargs)\u001B[0m\n\u001B[1;32m    247\u001B[0m             \u001B[0;31m# but not the class list / tuple itself.\u001B[0m\u001B[0;34m\u001B[0m\u001B[0;34m\u001B[0m\u001B[0m\n\u001B[1;32m    248\u001B[0m             \u001B[0mfunc\u001B[0m \u001B[0;34m=\u001B[0m \u001B[0mmaybe_mangle_lambdas\u001B[0m\u001B[0;34m(\u001B[0m\u001B[0mfunc\u001B[0m\u001B[0;34m)\u001B[0m\u001B[0;34m\u001B[0m\u001B[0;34m\u001B[0m\u001B[0m\n\u001B[0;32m--> 249\u001B[0;31m             \u001B[0mret\u001B[0m \u001B[0;34m=\u001B[0m \u001B[0mself\u001B[0m\u001B[0;34m.\u001B[0m\u001B[0m_aggregate_multiple_funcs\u001B[0m\u001B[0;34m(\u001B[0m\u001B[0mfunc\u001B[0m\u001B[0;34m)\u001B[0m\u001B[0;34m\u001B[0m\u001B[0;34m\u001B[0m\u001B[0m\n\u001B[0m\u001B[1;32m    250\u001B[0m             \u001B[0;32mif\u001B[0m \u001B[0mrelabeling\u001B[0m\u001B[0;34m:\u001B[0m\u001B[0;34m\u001B[0m\u001B[0;34m\u001B[0m\u001B[0m\n\u001B[1;32m    251\u001B[0m                 \u001B[0;31m# error: Incompatible types in assignment (expression has type\u001B[0m\u001B[0;34m\u001B[0m\u001B[0;34m\u001B[0m\u001B[0m\n",
      "\u001B[0;32m~/opt/anaconda3/lib/python3.9/site-packages/pandas/core/groupby/generic.py\u001B[0m in \u001B[0;36m_aggregate_multiple_funcs\u001B[0;34m(self, arg)\u001B[0m\n\u001B[1;32m    301\u001B[0m \u001B[0;34m\u001B[0m\u001B[0m\n\u001B[1;32m    302\u001B[0m             \u001B[0mkey\u001B[0m \u001B[0;34m=\u001B[0m \u001B[0mbase\u001B[0m\u001B[0;34m.\u001B[0m\u001B[0mOutputKey\u001B[0m\u001B[0;34m(\u001B[0m\u001B[0mlabel\u001B[0m\u001B[0;34m=\u001B[0m\u001B[0mname\u001B[0m\u001B[0;34m,\u001B[0m \u001B[0mposition\u001B[0m\u001B[0;34m=\u001B[0m\u001B[0midx\u001B[0m\u001B[0;34m)\u001B[0m\u001B[0;34m\u001B[0m\u001B[0;34m\u001B[0m\u001B[0m\n\u001B[0;32m--> 303\u001B[0;31m             \u001B[0mresults\u001B[0m\u001B[0;34m[\u001B[0m\u001B[0mkey\u001B[0m\u001B[0;34m]\u001B[0m \u001B[0;34m=\u001B[0m \u001B[0mself\u001B[0m\u001B[0;34m.\u001B[0m\u001B[0maggregate\u001B[0m\u001B[0;34m(\u001B[0m\u001B[0mfunc\u001B[0m\u001B[0;34m)\u001B[0m\u001B[0;34m\u001B[0m\u001B[0;34m\u001B[0m\u001B[0m\n\u001B[0m\u001B[1;32m    304\u001B[0m \u001B[0;34m\u001B[0m\u001B[0m\n\u001B[1;32m    305\u001B[0m         \u001B[0;32mif\u001B[0m \u001B[0many\u001B[0m\u001B[0;34m(\u001B[0m\u001B[0misinstance\u001B[0m\u001B[0;34m(\u001B[0m\u001B[0mx\u001B[0m\u001B[0;34m,\u001B[0m \u001B[0mDataFrame\u001B[0m\u001B[0;34m)\u001B[0m \u001B[0;32mfor\u001B[0m \u001B[0mx\u001B[0m \u001B[0;32min\u001B[0m \u001B[0mresults\u001B[0m\u001B[0;34m.\u001B[0m\u001B[0mvalues\u001B[0m\u001B[0;34m(\u001B[0m\u001B[0;34m)\u001B[0m\u001B[0;34m)\u001B[0m\u001B[0;34m:\u001B[0m\u001B[0;34m\u001B[0m\u001B[0;34m\u001B[0m\u001B[0m\n",
      "\u001B[0;32m~/opt/anaconda3/lib/python3.9/site-packages/pandas/core/groupby/generic.py\u001B[0m in \u001B[0;36maggregate\u001B[0;34m(self, func, engine, engine_kwargs, *args, **kwargs)\u001B[0m\n\u001B[1;32m    241\u001B[0m \u001B[0;34m\u001B[0m\u001B[0m\n\u001B[1;32m    242\u001B[0m         \u001B[0;32mif\u001B[0m \u001B[0misinstance\u001B[0m\u001B[0;34m(\u001B[0m\u001B[0mfunc\u001B[0m\u001B[0;34m,\u001B[0m \u001B[0mstr\u001B[0m\u001B[0;34m)\u001B[0m\u001B[0;34m:\u001B[0m\u001B[0;34m\u001B[0m\u001B[0;34m\u001B[0m\u001B[0m\n\u001B[0;32m--> 243\u001B[0;31m             \u001B[0;32mreturn\u001B[0m \u001B[0mgetattr\u001B[0m\u001B[0;34m(\u001B[0m\u001B[0mself\u001B[0m\u001B[0;34m,\u001B[0m \u001B[0mfunc\u001B[0m\u001B[0;34m)\u001B[0m\u001B[0;34m(\u001B[0m\u001B[0;34m*\u001B[0m\u001B[0margs\u001B[0m\u001B[0;34m,\u001B[0m \u001B[0;34m**\u001B[0m\u001B[0mkwargs\u001B[0m\u001B[0;34m)\u001B[0m\u001B[0;34m\u001B[0m\u001B[0;34m\u001B[0m\u001B[0m\n\u001B[0m\u001B[1;32m    244\u001B[0m \u001B[0;34m\u001B[0m\u001B[0m\n\u001B[1;32m    245\u001B[0m         \u001B[0;32melif\u001B[0m \u001B[0misinstance\u001B[0m\u001B[0;34m(\u001B[0m\u001B[0mfunc\u001B[0m\u001B[0;34m,\u001B[0m \u001B[0mabc\u001B[0m\u001B[0;34m.\u001B[0m\u001B[0mIterable\u001B[0m\u001B[0;34m)\u001B[0m\u001B[0;34m:\u001B[0m\u001B[0;34m\u001B[0m\u001B[0;34m\u001B[0m\u001B[0m\n",
      "\u001B[0;32m~/opt/anaconda3/lib/python3.9/site-packages/pandas/core/groupby/groupby.py\u001B[0m in \u001B[0;36m__getattr__\u001B[0;34m(self, attr)\u001B[0m\n\u001B[1;32m    909\u001B[0m             \u001B[0;32mreturn\u001B[0m \u001B[0mself\u001B[0m\u001B[0;34m[\u001B[0m\u001B[0mattr\u001B[0m\u001B[0;34m]\u001B[0m\u001B[0;34m\u001B[0m\u001B[0;34m\u001B[0m\u001B[0m\n\u001B[1;32m    910\u001B[0m \u001B[0;34m\u001B[0m\u001B[0m\n\u001B[0;32m--> 911\u001B[0;31m         raise AttributeError(\n\u001B[0m\u001B[1;32m    912\u001B[0m             \u001B[0;34mf\"'{type(self).__name__}' object has no attribute '{attr}'\"\u001B[0m\u001B[0;34m\u001B[0m\u001B[0;34m\u001B[0m\u001B[0m\n\u001B[1;32m    913\u001B[0m         )\n",
      "\u001B[0;31mAttributeError\u001B[0m: 'SeriesGroupBy' object has no attribute 'UF'"
     ]
    }
   ],
   "source": [
    "df.groupby('UF').agg({'UF'})"
   ],
   "metadata": {
    "collapsed": false,
    "pycharm": {
     "name": "#%%\n"
    }
   }
  },
  {
   "cell_type": "code",
   "execution_count": 12,
   "id": "daf7ecc6",
   "metadata": {
    "pycharm": {
     "name": "#%%\n"
    }
   },
   "outputs": [
    {
     "data": {
      "text/plain": "5244"
     },
     "execution_count": 12,
     "metadata": {},
     "output_type": "execute_result"
    }
   ],
   "source": [
    "# Quantos municípios têm menos de 100 mil habitantes?\n",
    "menos_100k = df.query(\"POPULAÇÃO_ESTIMADA < 100000\").shape[0]\n",
    "\n",
    "menos_100k"
   ]
  },
  {
   "cell_type": "code",
   "execution_count": 13,
   "id": "75b02eda",
   "metadata": {
    "pycharm": {
     "name": "#%%\n"
    }
   },
   "outputs": [
    {
     "data": {
      "text/plain": "      UF  COD._UF  COD._MUNIC NOME_DO_MUNICÍPIO  POPULAÇÃO_ESTIMADA\n3829  SP       35       50308         São Paulo            12396372\n3242  RJ       33        4557    Rio de Janeiro             6775561\n5569  DF       53         108          Brasília             3094325\n2162  BA       29       27408          Salvador             2900319\n949   CE       23        4400         Fortaleza             2703391",
      "text/html": "<div>\n<style scoped>\n    .dataframe tbody tr th:only-of-type {\n        vertical-align: middle;\n    }\n\n    .dataframe tbody tr th {\n        vertical-align: top;\n    }\n\n    .dataframe thead th {\n        text-align: right;\n    }\n</style>\n<table border=\"1\" class=\"dataframe\">\n  <thead>\n    <tr style=\"text-align: right;\">\n      <th></th>\n      <th>UF</th>\n      <th>COD._UF</th>\n      <th>COD._MUNIC</th>\n      <th>NOME_DO_MUNICÍPIO</th>\n      <th>POPULAÇÃO_ESTIMADA</th>\n    </tr>\n  </thead>\n  <tbody>\n    <tr>\n      <th>3829</th>\n      <td>SP</td>\n      <td>35</td>\n      <td>50308</td>\n      <td>São Paulo</td>\n      <td>12396372</td>\n    </tr>\n    <tr>\n      <th>3242</th>\n      <td>RJ</td>\n      <td>33</td>\n      <td>4557</td>\n      <td>Rio de Janeiro</td>\n      <td>6775561</td>\n    </tr>\n    <tr>\n      <th>5569</th>\n      <td>DF</td>\n      <td>53</td>\n      <td>108</td>\n      <td>Brasília</td>\n      <td>3094325</td>\n    </tr>\n    <tr>\n      <th>2162</th>\n      <td>BA</td>\n      <td>29</td>\n      <td>27408</td>\n      <td>Salvador</td>\n      <td>2900319</td>\n    </tr>\n    <tr>\n      <th>949</th>\n      <td>CE</td>\n      <td>23</td>\n      <td>4400</td>\n      <td>Fortaleza</td>\n      <td>2703391</td>\n    </tr>\n  </tbody>\n</table>\n</div>"
     },
     "execution_count": 13,
     "metadata": {},
     "output_type": "execute_result"
    }
   ],
   "source": [
    "# Quais são os 5 municípios com maior número de habitantes no Brasil?\n",
    "\n",
    "df.sort_values(by='POPULAÇÃO_ESTIMADA', ascending=False).head(5)\n"
   ]
  },
  {
   "cell_type": "code",
   "execution_count": 14,
   "id": "33d53f7b",
   "metadata": {
    "pycharm": {
     "name": "#%%\n"
    }
   },
   "outputs": [
    {
     "data": {
      "text/plain": "      UF  COD._UF  COD._MUNIC NOME_DO_MUNICÍPIO  POPULAÇÃO_ESTIMADA\n3026  MG       31       66600  Serra da Saudade                 771\n3348  SP       35        7209              Borá                 839\n5192  MT       51        1209        Araguainha                 909\n4749  RS       43        6924     Engenho Velho                 932\n5077  RS       43       22350    União da Serra                1084",
      "text/html": "<div>\n<style scoped>\n    .dataframe tbody tr th:only-of-type {\n        vertical-align: middle;\n    }\n\n    .dataframe tbody tr th {\n        vertical-align: top;\n    }\n\n    .dataframe thead th {\n        text-align: right;\n    }\n</style>\n<table border=\"1\" class=\"dataframe\">\n  <thead>\n    <tr style=\"text-align: right;\">\n      <th></th>\n      <th>UF</th>\n      <th>COD._UF</th>\n      <th>COD._MUNIC</th>\n      <th>NOME_DO_MUNICÍPIO</th>\n      <th>POPULAÇÃO_ESTIMADA</th>\n    </tr>\n  </thead>\n  <tbody>\n    <tr>\n      <th>3026</th>\n      <td>MG</td>\n      <td>31</td>\n      <td>66600</td>\n      <td>Serra da Saudade</td>\n      <td>771</td>\n    </tr>\n    <tr>\n      <th>3348</th>\n      <td>SP</td>\n      <td>35</td>\n      <td>7209</td>\n      <td>Borá</td>\n      <td>839</td>\n    </tr>\n    <tr>\n      <th>5192</th>\n      <td>MT</td>\n      <td>51</td>\n      <td>1209</td>\n      <td>Araguainha</td>\n      <td>909</td>\n    </tr>\n    <tr>\n      <th>4749</th>\n      <td>RS</td>\n      <td>43</td>\n      <td>6924</td>\n      <td>Engenho Velho</td>\n      <td>932</td>\n    </tr>\n    <tr>\n      <th>5077</th>\n      <td>RS</td>\n      <td>43</td>\n      <td>22350</td>\n      <td>União da Serra</td>\n      <td>1084</td>\n    </tr>\n  </tbody>\n</table>\n</div>"
     },
     "execution_count": 14,
     "metadata": {},
     "output_type": "execute_result"
    }
   ],
   "source": [
    "# Quais são os 5 municípios com menor número de habitantes no Brasil?\n",
    "\n",
    "df.sort_values(by='POPULAÇÃO_ESTIMADA', ascending=True).head(5)\n"
   ]
  },
  {
   "cell_type": "code",
   "execution_count": 15,
   "outputs": [
    {
     "data": {
      "text/plain": "      UF  COD._UF  COD._MUNIC NOME_DO_MUNICÍPIO  POPULAÇÃO_ESTIMADA\n3829  SP       35       50308         São Paulo            12396372\n3242  RJ       33        4557    Rio de Janeiro             6775561\n5569  DF       53         108          Brasília             3094325\n2162  BA       29       27408          Salvador             2900319\n949   CE       23        4400         Fortaleza             2703391",
      "text/html": "<div>\n<style scoped>\n    .dataframe tbody tr th:only-of-type {\n        vertical-align: middle;\n    }\n\n    .dataframe tbody tr th {\n        vertical-align: top;\n    }\n\n    .dataframe thead th {\n        text-align: right;\n    }\n</style>\n<table border=\"1\" class=\"dataframe\">\n  <thead>\n    <tr style=\"text-align: right;\">\n      <th></th>\n      <th>UF</th>\n      <th>COD._UF</th>\n      <th>COD._MUNIC</th>\n      <th>NOME_DO_MUNICÍPIO</th>\n      <th>POPULAÇÃO_ESTIMADA</th>\n    </tr>\n  </thead>\n  <tbody>\n    <tr>\n      <th>3829</th>\n      <td>SP</td>\n      <td>35</td>\n      <td>50308</td>\n      <td>São Paulo</td>\n      <td>12396372</td>\n    </tr>\n    <tr>\n      <th>3242</th>\n      <td>RJ</td>\n      <td>33</td>\n      <td>4557</td>\n      <td>Rio de Janeiro</td>\n      <td>6775561</td>\n    </tr>\n    <tr>\n      <th>5569</th>\n      <td>DF</td>\n      <td>53</td>\n      <td>108</td>\n      <td>Brasília</td>\n      <td>3094325</td>\n    </tr>\n    <tr>\n      <th>2162</th>\n      <td>BA</td>\n      <td>29</td>\n      <td>27408</td>\n      <td>Salvador</td>\n      <td>2900319</td>\n    </tr>\n    <tr>\n      <th>949</th>\n      <td>CE</td>\n      <td>23</td>\n      <td>4400</td>\n      <td>Fortaleza</td>\n      <td>2703391</td>\n    </tr>\n  </tbody>\n</table>\n</div>"
     },
     "execution_count": 15,
     "metadata": {},
     "output_type": "execute_result"
    }
   ],
   "source": [
    "\n",
    "df.nlargest(5, 'POPULAÇÃO_ESTIMADA')"
   ],
   "metadata": {
    "collapsed": false,
    "pycharm": {
     "name": "#%%\n"
    }
   }
  },
  {
   "cell_type": "code",
   "execution_count": 16,
   "id": "817e1abe",
   "metadata": {
    "pycharm": {
     "name": "#%%\n"
    }
   },
   "outputs": [
    {
     "data": {
      "text/plain": "      UF  COD._UF  COD._MUNIC NOME_DO_MUNICÍPIO  POPULAÇÃO_ESTIMADA\n3026  MG       31       66600  Serra da Saudade                 771\n3348  SP       35        7209              Borá                 839\n5192  MT       51        1209        Araguainha                 909\n4749  RS       43        6924     Engenho Velho                 932\n5077  RS       43       22350    União da Serra                1084",
      "text/html": "<div>\n<style scoped>\n    .dataframe tbody tr th:only-of-type {\n        vertical-align: middle;\n    }\n\n    .dataframe tbody tr th {\n        vertical-align: top;\n    }\n\n    .dataframe thead th {\n        text-align: right;\n    }\n</style>\n<table border=\"1\" class=\"dataframe\">\n  <thead>\n    <tr style=\"text-align: right;\">\n      <th></th>\n      <th>UF</th>\n      <th>COD._UF</th>\n      <th>COD._MUNIC</th>\n      <th>NOME_DO_MUNICÍPIO</th>\n      <th>POPULAÇÃO_ESTIMADA</th>\n    </tr>\n  </thead>\n  <tbody>\n    <tr>\n      <th>3026</th>\n      <td>MG</td>\n      <td>31</td>\n      <td>66600</td>\n      <td>Serra da Saudade</td>\n      <td>771</td>\n    </tr>\n    <tr>\n      <th>3348</th>\n      <td>SP</td>\n      <td>35</td>\n      <td>7209</td>\n      <td>Borá</td>\n      <td>839</td>\n    </tr>\n    <tr>\n      <th>5192</th>\n      <td>MT</td>\n      <td>51</td>\n      <td>1209</td>\n      <td>Araguainha</td>\n      <td>909</td>\n    </tr>\n    <tr>\n      <th>4749</th>\n      <td>RS</td>\n      <td>43</td>\n      <td>6924</td>\n      <td>Engenho Velho</td>\n      <td>932</td>\n    </tr>\n    <tr>\n      <th>5077</th>\n      <td>RS</td>\n      <td>43</td>\n      <td>22350</td>\n      <td>União da Serra</td>\n      <td>1084</td>\n    </tr>\n  </tbody>\n</table>\n</div>"
     },
     "execution_count": 16,
     "metadata": {},
     "output_type": "execute_result"
    }
   ],
   "source": [
    "# Teste fazer as duas questões acima usando nlargest e nsmallest. \n",
    "# Se você fez as acima usando nlargest e nsmallets, então tente refazer com sort_values.\n",
    "\n",
    "df.nsmallest(5, 'POPULAÇÃO_ESTIMADA')\n",
    "\n"
   ]
  },
  {
   "cell_type": "code",
   "execution_count": 17,
   "outputs": [
    {
     "data": {
      "text/plain": "array(['RO', 'AC', 'AM', 'RR', 'PA', 'AP', 'TO', 'MA', 'PI', 'CE', 'RN',\n       'PB', 'PE', 'AL', 'SE', 'BA', 'MG', 'ES', 'RJ', 'SP', 'PR', 'SC',\n       'RS', 'MS', 'MT', 'GO', 'DF'], dtype=object)"
     },
     "execution_count": 17,
     "metadata": {},
     "output_type": "execute_result"
    }
   ],
   "source": [
    "# Quais são os códigos únicos de UF que temos?\n",
    "df.UF.unique()\n",
    "\n"
   ],
   "metadata": {
    "collapsed": false,
    "pycharm": {
     "name": "#%%\n"
    }
   }
  },
  {
   "cell_type": "code",
   "execution_count": 18,
   "outputs": [
    {
     "data": {
      "text/plain": "           COD._UF    COD._MUNIC  POPULAÇÃO_ESTIMADA\ncount  5570.000000   5570.000000        5.570000e+03\nmean     32.377738  15816.982585        3.829760e+04\nstd       9.833862  15997.299780        2.242882e+05\nmin      11.000000     13.000000        7.710000e+02\n25%      25.000000   4507.250000        5.454000e+03\n50%      31.000000  10400.500000        1.173200e+04\n75%      41.000000  20853.000000        2.576475e+04\nmax      53.000000  72202.000000        1.239637e+07",
      "text/html": "<div>\n<style scoped>\n    .dataframe tbody tr th:only-of-type {\n        vertical-align: middle;\n    }\n\n    .dataframe tbody tr th {\n        vertical-align: top;\n    }\n\n    .dataframe thead th {\n        text-align: right;\n    }\n</style>\n<table border=\"1\" class=\"dataframe\">\n  <thead>\n    <tr style=\"text-align: right;\">\n      <th></th>\n      <th>COD._UF</th>\n      <th>COD._MUNIC</th>\n      <th>POPULAÇÃO_ESTIMADA</th>\n    </tr>\n  </thead>\n  <tbody>\n    <tr>\n      <th>count</th>\n      <td>5570.000000</td>\n      <td>5570.000000</td>\n      <td>5.570000e+03</td>\n    </tr>\n    <tr>\n      <th>mean</th>\n      <td>32.377738</td>\n      <td>15816.982585</td>\n      <td>3.829760e+04</td>\n    </tr>\n    <tr>\n      <th>std</th>\n      <td>9.833862</td>\n      <td>15997.299780</td>\n      <td>2.242882e+05</td>\n    </tr>\n    <tr>\n      <th>min</th>\n      <td>11.000000</td>\n      <td>13.000000</td>\n      <td>7.710000e+02</td>\n    </tr>\n    <tr>\n      <th>25%</th>\n      <td>25.000000</td>\n      <td>4507.250000</td>\n      <td>5.454000e+03</td>\n    </tr>\n    <tr>\n      <th>50%</th>\n      <td>31.000000</td>\n      <td>10400.500000</td>\n      <td>1.173200e+04</td>\n    </tr>\n    <tr>\n      <th>75%</th>\n      <td>41.000000</td>\n      <td>20853.000000</td>\n      <td>2.576475e+04</td>\n    </tr>\n    <tr>\n      <th>max</th>\n      <td>53.000000</td>\n      <td>72202.000000</td>\n      <td>1.239637e+07</td>\n    </tr>\n  </tbody>\n</table>\n</div>"
     },
     "execution_count": 18,
     "metadata": {},
     "output_type": "execute_result"
    }
   ],
   "source": [
    "df.describe()"
   ],
   "metadata": {
    "collapsed": false,
    "pycharm": {
     "name": "#%%\n"
    }
   }
  }
 ],
 "metadata": {
  "kernelspec": {
   "name": "python3",
   "language": "python",
   "display_name": "Python 3 (ipykernel)"
  },
  "language_info": {
   "codemirror_mode": {
    "name": "ipython",
    "version": 3
   },
   "file_extension": ".py",
   "mimetype": "text/x-python",
   "name": "python",
   "nbconvert_exporter": "python",
   "pygments_lexer": "ipython3",
   "version": "3.7.2"
  }
 },
 "nbformat": 4,
 "nbformat_minor": 5
}