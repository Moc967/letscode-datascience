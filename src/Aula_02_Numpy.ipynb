{
 "cells": [
  {
   "cell_type": "code",
   "execution_count": null,
   "metadata": {
    "id": "PlDCx8fk7TWt",
    "pycharm": {
     "name": "#%%\n"
    }
   },
   "outputs": [],
   "source": []
  },
  {
   "cell_type": "markdown",
   "metadata": {
    "id": "W_PARhOR70ZR",
    "pycharm": {
     "name": "#%% md\n"
    }
   },
   "source": [
    "8. Reverse a vector (first element becomes last) (★☆☆)\n",
    "9. Create a 3x3 matrix with values ranging from 0 to 8 (★☆☆)\n",
    "10. Find indices of non-zero elements from [1,2,0,0,4,0] (★☆☆)\n",
    "11. Create a 3x3 identity matrix (★☆☆)\n",
    "12. Create a 3x3x3 array with random values (★☆☆)\n",
    "13. Create a 10x10 array with random values and find the minimum and maximum values (★☆☆)\n",
    "15. Create a 2d array with 1 on the border and 0 inside (★☆"
   ]
  },
  {
   "cell_type": "markdown",
   "metadata": {
    "id": "5HxeU_z67-FW",
    "pycharm": {
     "name": "#%% md\n"
    }
   },
   "source": [
    "https://numpy.org/doc/1.22/reference/index.html#reference"
   ]
  },
  {
   "cell_type": "markdown",
   "metadata": {
    "id": "53lw1JB08AwP",
    "pycharm": {
     "name": "#%% md\n"
    }
   },
   "source": [
    "https://github.com/rougier/numpy-100/blob/master/100_Numpy_exercises.ipynb"
   ]
  },
  {
   "cell_type": "code",
   "execution_count": 1,
   "metadata": {
    "id": "rmisHP_A8O1O",
    "pycharm": {
     "name": "#%%\n"
    }
   },
   "outputs": [],
   "source": [
    "import numpy as np\n"
   ]
  },
  {
   "cell_type": "markdown",
   "metadata": {
    "id": "MWaBSVcf8XTw",
    "pycharm": {
     "name": "#%% md\n"
    }
   },
   "source": [
    "# 8 - Reverse a vector (first element becomes last) "
   ]
  },
  {
   "cell_type": "code",
   "execution_count": 2,
   "metadata": {
    "colab": {
     "base_uri": "https://localhost:8080/"
    },
    "id": "xPpMdTjj8S3o",
    "outputId": "fbbbad8a-7b50-44be-889e-a64bd6deaca6",
    "pycharm": {
     "name": "#%%\n"
    }
   },
   "outputs": [
    {
     "name": "stdout",
     "output_type": "stream",
     "text": [
      "original vector: [1 2 3 4 5 6 7 8]\n"
     ]
    }
   ],
   "source": [
    "v1 = np.arange(1,9)\n",
    "print(\"original vector:\", v1)"
   ]
  },
  {
   "cell_type": "code",
   "execution_count": 4,
   "metadata": {
    "colab": {
     "base_uri": "https://localhost:8080/"
    },
    "id": "6nSVHBSg9pqb",
    "outputId": "d5f3ebc7-e87c-408f-8e1c-c8e2e318151f",
    "pycharm": {
     "name": "#%%\n"
    }
   },
   "outputs": [
    {
     "name": "stdout",
     "output_type": "stream",
     "text": [
      "reverse vector: [8 7 6 5 4 3 2 1]\n"
     ]
    }
   ],
   "source": [
    "rev_v1 = v1[::-1]\n",
    "print(\"reverse vector:\", rev_v1)"
   ]
  },
  {
   "cell_type": "code",
   "execution_count": null,
   "metadata": {
    "pycharm": {
     "name": "#%%\n"
    }
   },
   "outputs": [],
   "source": [
    "# 9 - Create a 3x3 matrix with values ranging from 0 to 8"
   ]
  },
  {
   "cell_type": "code",
   "execution_count": 5,
   "metadata": {
    "colab": {
     "base_uri": "https://localhost:8080/"
    },
    "id": "bKZEn2os-A3W",
    "outputId": "db37de23-89d4-47b3-a986-36660d4adfb9",
    "pycharm": {
     "name": "#%%\n"
    }
   },
   "outputs": [
    {
     "name": "stdout",
     "output_type": "stream",
     "text": [
      "the matrix is :  [[0 1 2]\n",
      " [3 4 5]\n",
      " [6 7 8]]\n"
     ]
    }
   ],
   "source": [
    "mat1 = np.arange(0,9).reshape(3,3)\n",
    "print(\"the matrix is : \", mat1)"
   ]
  },
  {
   "cell_type": "markdown",
   "metadata": {
    "id": "0wxkEecm-nxh",
    "pycharm": {
     "name": "#%% md\n"
    }
   },
   "source": [
    "# 10 - Find indices of non-zero elements from [1,2,0,0,4,0]"
   ]
  },
  {
   "cell_type": "code",
   "execution_count": 6,
   "metadata": {
    "colab": {
     "base_uri": "https://localhost:8080/"
    },
    "id": "TK-IzUlJ-iow",
    "outputId": "724b678a-2bb9-4064-f732-9baaf23de1ce",
    "pycharm": {
     "name": "#%%\n"
    }
   },
   "outputs": [
    {
     "name": "stdout",
     "output_type": "stream",
     "text": [
      "the test array is [1 2 0 0 4 0]\n",
      "the non-zero elements is (array([0, 1, 4]),)\n"
     ]
    }
   ],
   "source": [
    "arr_test = np.array([1,2,0,0,4,0])\n",
    "print(\"the test array is\", arr_test)\n",
    "\n",
    "non_zero_elements = np.nonzero(arr_test)\n",
    "print( \"the non-zero elements is\", non_zero_elements)"
   ]
  },
  {
   "cell_type": "markdown",
   "metadata": {
    "id": "-RxRyKVVAeuo",
    "pycharm": {
     "name": "#%% md\n"
    }
   },
   "source": [
    "# 11 - Create a 3x3 identity matrix "
   ]
  },
  {
   "cell_type": "code",
   "execution_count": 7,
   "metadata": {
    "colab": {
     "base_uri": "https://localhost:8080/"
    },
    "id": "AIfNrPwS_x7c",
    "outputId": "084210b7-8533-4802-eae6-9bc5fb761254",
    "pycharm": {
     "name": "#%%\n"
    }
   },
   "outputs": [
    {
     "name": "stdout",
     "output_type": "stream",
     "text": [
      "the identity matrix is \n",
      " [[1. 0. 0. 0.]\n",
      " [0. 1. 0. 0.]\n",
      " [0. 0. 1. 0.]\n",
      " [0. 0. 0. 1.]]\n"
     ]
    }
   ],
   "source": [
    "from numpy.core.numeric import identity\n",
    "ident_mat = np.identity(4)\n",
    "print(\"the identity matrix is \\n\", ident_mat)"
   ]
  },
  {
   "cell_type": "markdown",
   "metadata": {
    "id": "fjZ4sn4hBRdw",
    "pycharm": {
     "name": "#%% md\n"
    }
   },
   "source": [
    "# 12 - Create a 3x3x3 array with random values"
   ]
  },
  {
   "cell_type": "code",
   "execution_count": 8,
   "metadata": {
    "colab": {
     "base_uri": "https://localhost:8080/"
    },
    "id": "LJTDYP9nAv0u",
    "outputId": "718e7045-6b04-474b-a641-bce8501f00f8",
    "pycharm": {
     "name": "#%%\n"
    }
   },
   "outputs": [
    {
     "name": "stdout",
     "output_type": "stream",
     "text": [
      "the randon array is \n",
      " [[[0.1268967  0.77840121 0.95104774]\n",
      "  [0.22540823 0.18359625 0.16918368]\n",
      "  [0.87565212 0.41666728 0.16789073]]\n",
      "\n",
      " [[0.46931257 0.016642   0.52685633]\n",
      "  [0.41582742 0.69745521 0.91987304]\n",
      "  [0.99546611 0.76172341 0.53222193]]\n",
      "\n",
      " [[0.75925531 0.30094552 0.70779651]\n",
      "  [0.7273576  0.30417351 0.95754357]\n",
      "  [0.99046312 0.77291101 0.00442329]]]\n"
     ]
    }
   ],
   "source": [
    "rand_arr = np.random.random((3,3,3))\n",
    "\n",
    "print (\"the randon array is \\n\", rand_arr)"
   ]
  },
  {
   "cell_type": "markdown",
   "metadata": {
    "id": "JV_0wnLbB263",
    "pycharm": {
     "name": "#%% md\n"
    }
   },
   "source": [
    "# 13 - Create a 10x10 array with random values and find the minimum and maximum values"
   ]
  },
  {
   "cell_type": "code",
   "execution_count": 9,
   "metadata": {
    "colab": {
     "base_uri": "https://localhost:8080/"
    },
    "id": "08LHopHsBuJQ",
    "outputId": "1353061a-6cfb-429c-a24a-a0bff9e260e4",
    "pycharm": {
     "name": "#%%\n"
    }
   },
   "outputs": [
    {
     "name": "stdout",
     "output_type": "stream",
     "text": [
      "the randon array is \n",
      " [[0.65327965 0.96227898 0.51484231 0.42067361 0.60129767 0.82901223\n",
      "  0.75065994 0.68716553 0.87269427 0.94623752]\n",
      " [0.87419254 0.55445996 0.60337121 0.60768165 0.98986162 0.58512606\n",
      "  0.53165173 0.07340191 0.29104185 0.88479841]\n",
      " [0.75827525 0.22141536 0.11787662 0.20714215 0.23731834 0.53937534\n",
      "  0.69578878 0.8630827  0.03113218 0.04848542]\n",
      " [0.20158589 0.99011217 0.64831037 0.92185517 0.13599232 0.59775031\n",
      "  0.32710794 0.17805017 0.5133845  0.37526537]\n",
      " [0.75528589 0.07094733 0.33103463 0.08825902 0.84335599 0.11202107\n",
      "  0.8346856  0.47473076 0.10423714 0.02805963]\n",
      " [0.08289409 0.78534748 0.0916534  0.36699268 0.35795193 0.05395844\n",
      "  0.99048559 0.83898167 0.78163489 0.70011207]\n",
      " [0.16312019 0.59626734 0.89750978 0.92079598 0.89937192 0.55663545\n",
      "  0.9002038  0.47879075 0.62936358 0.98388568]\n",
      " [0.37256541 0.97157289 0.3695664  0.31314437 0.23583429 0.20807701\n",
      "  0.14174406 0.76984734 0.54418551 0.89953135]\n",
      " [0.96747119 0.5599287  0.34587712 0.75486133 0.00636759 0.46285254\n",
      "  0.32517938 0.32236223 0.95954357 0.6780628 ]\n",
      " [0.97055453 0.38878566 0.8418486  0.54122659 0.65386423 0.27858857\n",
      "  0.11128441 0.6894642  0.30707918 0.8988188 ]]\n",
      "\n",
      "the min value is  0.006367586496301092 \n",
      " the max value is  0.9904855931509945\n"
     ]
    }
   ],
   "source": [
    "r_arr = np.random.random((10,10))\n",
    "r_arr_min, r_arr_max = r_arr.min(), r_arr.max()\n",
    "\n",
    "print(\"the randon array is \\n\", r_arr)\n",
    "print(\"\\nthe min value is \", r_arr_min,\"\\n the max value is \", r_arr_max)"
   ]
  },
  {
   "cell_type": "markdown",
   "metadata": {
    "id": "tyIG13FkD25H",
    "pycharm": {
     "name": "#%% md\n"
    }
   },
   "source": [
    "# 15 - Create a 2d array with 1 on the border and 0 inside"
   ]
  },
  {
   "cell_type": "code",
   "execution_count": null,
   "metadata": {
    "colab": {
     "base_uri": "https://localhost:8080/"
    },
    "id": "ccHNNAqECM2_",
    "outputId": "5096fada-7ab0-4d50-cfcc-eefb21d96a36",
    "pycharm": {
     "name": "#%%\n"
    }
   },
   "outputs": [
    {
     "name": "stdout",
     "output_type": "stream",
     "text": [
      " the 2d array is \n",
      " [[1. 1. 1. 1. 1. 1. 1. 1.]\n",
      " [1. 1. 1. 1. 1. 1. 1. 1.]\n",
      " [1. 1. 1. 1. 1. 1. 1. 1.]\n",
      " [1. 1. 1. 1. 1. 1. 1. 1.]\n",
      " [1. 1. 1. 1. 1. 1. 1. 1.]\n",
      " [1. 1. 1. 1. 1. 1. 1. 1.]\n",
      " [1. 1. 1. 1. 1. 1. 1. 1.]\n",
      " [1. 1. 1. 1. 1. 1. 1. 1.]]\n",
      " the new 2d array is \n",
      " [[1. 1. 1. 1. 1. 1. 1. 1.]\n",
      " [1. 0. 0. 0. 0. 0. 0. 1.]\n",
      " [1. 0. 0. 0. 0. 0. 0. 1.]\n",
      " [1. 0. 0. 0. 0. 0. 0. 1.]\n",
      " [1. 0. 0. 0. 0. 0. 0. 1.]\n",
      " [1. 0. 0. 0. 0. 0. 0. 1.]\n",
      " [1. 0. 0. 0. 0. 0. 0. 1.]\n",
      " [1. 1. 1. 1. 1. 1. 1. 1.]]\n"
     ]
    }
   ],
   "source": [
    "arr = np.ones((8,8))\n",
    "print(\" the 2d array is \\n\", arr)\n",
    "\n",
    "arr[1:-1,1:-1] = 0\n",
    "print(\" the new 2d array is \\n\", arr)\n"
   ]
  },
  {
   "cell_type": "markdown",
   "metadata": {
    "id": "2czEY-BUFcCb",
    "pycharm": {
     "name": "#%% md\n"
    }
   },
   "source": [
    "# 18 - Create a 5x5 matrix with values 1,2,3,4 just below the diagonal "
   ]
  },
  {
   "cell_type": "code",
   "execution_count": null,
   "metadata": {
    "id": "8tAbzTFZEk3v",
    "pycharm": {
     "name": "#%%\n"
    }
   },
   "outputs": [],
   "source": []
  }
 ],
 "metadata": {
  "colab": {
   "name": "Aula 02 - Numpy.ipynb",
   "provenance": []
  },
  "kernelspec": {
   "display_name": "Python 3 (ipykernel)",
   "language": "python",
   "name": "python3"
  },
  "language_info": {
   "codemirror_mode": {
    "name": "ipython",
    "version": 3
   },
   "file_extension": ".py",
   "mimetype": "text/x-python",
   "name": "python",
   "nbconvert_exporter": "python",
   "pygments_lexer": "ipython3",
   "version": "3.9.7"
  }
 },
 "nbformat": 4,
 "nbformat_minor": 1
}