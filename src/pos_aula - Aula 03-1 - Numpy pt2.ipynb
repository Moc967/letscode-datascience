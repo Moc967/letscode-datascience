{
 "cells": [
  {
   "cell_type": "markdown",
   "id": "b63823cb",
   "metadata": {},
   "source": [
    "# Aula 3.1 - Numpy pt2\n",
    "\n",
    "Na última aula, vimos o básico da biblioteca NumPy, utilizada para computação científica. Hoje, vamos tentar sedimentar nosso conhecimento com uma rápida revisão, e depois conversar um pouco sobre maiores detalhes da biblioteca. "
   ]
  },
  {
   "cell_type": "markdown",
   "id": "f6d42e0e",
   "metadata": {},
   "source": [
    "---"
   ]
  },
  {
   "cell_type": "markdown",
   "id": "6cb31112",
   "metadata": {},
   "source": [
    "## Revisão"
   ]
  },
  {
   "cell_type": "code",
   "execution_count": 1,
   "id": "55d1ce62",
   "metadata": {},
   "outputs": [],
   "source": [
    "# Lembrando do import do numpy como \"np\"\n",
    "import numpy as np"
   ]
  },
  {
   "cell_type": "code",
   "execution_count": 3,
   "id": "a264200a",
   "metadata": {},
   "outputs": [
    {
     "name": "stdout",
     "output_type": "stream",
     "text": [
      "Dimensões: 3\n",
      "Formato: (2, 3, 3)\n",
      "Número de elementos: 18\n",
      "Tipo dos elementos: int64\n"
     ]
    }
   ],
   "source": [
    "# A estrutura de dados básica do numpy é o \"ndarray\"\n",
    "var = np.array([[[1, 2, 3],\n",
    "                 [4, 5, 6],\n",
    "                 [7, 8, 9]],\n",
    "                [[-1, 0, 0],\n",
    "                 [0, -1, 0],\n",
    "                 [0,  0, 1]]])\n",
    "\n",
    "# Ela possui atributos básicos de dimensão, formato, número de elementos,\n",
    "# e tipo dos elementos\n",
    "print(\"Dimensões:\",var.ndim)\n",
    "print(\"Formato:\",var.shape)\n",
    "print(\"Número de elementos:\",var.size)\n",
    "print(\"Tipo dos elementos:\",var.dtype)"
   ]
  },
  {
   "cell_type": "code",
   "execution_count": 4,
   "id": "751652cc",
   "metadata": {},
   "outputs": [
    {
     "name": "stdout",
     "output_type": "stream",
     "text": [
      "Array de zeros\n",
      "[[[0. 0.]\n",
      "  [0. 0.]\n",
      "  [0. 0.]]\n",
      "\n",
      " [[0. 0.]\n",
      "  [0. 0.]\n",
      "  [0. 0.]]]\n",
      "-----\n",
      "Array de uns\n",
      "[[1. 1. 1. 1. 1.]\n",
      " [1. 1. 1. 1. 1.]\n",
      " [1. 1. 1. 1. 1.]\n",
      " [1. 1. 1. 1. 1.]]\n",
      "-----\n",
      "Array com todos os elementos 29.123\n",
      "[[29.123 29.123 29.123 29.123 29.123]\n",
      " [29.123 29.123 29.123 29.123 29.123]\n",
      " [29.123 29.123 29.123 29.123 29.123]\n",
      " [29.123 29.123 29.123 29.123 29.123]]\n"
     ]
    }
   ],
   "source": [
    "# Nós também podemos criar alguns arrays específicos com métodos pré-definidos\n",
    "print(\"Array de zeros\")\n",
    "arr_zero = np.zeros((2,3,2))\n",
    "print(arr_zero) # Criar um array de zeros\n",
    "print('-----')\n",
    "print(\"Array de uns\")\n",
    "arr_uns = np.ones((4, 5))\n",
    "print(arr_uns) # Criar um array de zeros\n",
    "print('-----')\n",
    "\n",
    "# O numpy tem muitos mais métodos do que os que vimos. \n",
    "# É bom sempre olharmos na documentação ou na internet se precisarmos de algum específico\n",
    "# que não sabemos se existe.\n",
    "print(\"Array com todos os elementos 29.123\")\n",
    "arr_float = np.full((4, 5), fill_value=29.123, dtype=np.float64)\n",
    "print(arr_float)"
   ]
  },
  {
   "cell_type": "code",
   "execution_count": 5,
   "id": "4eeddc7c",
   "metadata": {},
   "outputs": [
    {
     "name": "stdout",
     "output_type": "stream",
     "text": [
      "[2 5 8]\n",
      "[8 5 2]\n",
      "[4 5 6]\n",
      "[ 5 -1]\n",
      "[ 1  5 -1 -1]\n"
     ]
    }
   ],
   "source": [
    "# Também aprendemos sobre indexação (indexing) e fatiamento (slicing)\n",
    "print(var[0,:,1])\n",
    "print(var[0,::-1,1])\n",
    "print(var[0,1,:])\n",
    "print(var[:,1,1])\n",
    "print(var[[0, 0, 1, 1],[0, 1, 0, 1],[0, 1, 0, 1]]) #Podemos também usar indexação por listas"
   ]
  },
  {
   "cell_type": "code",
   "execution_count": 19,
   "id": "87de329b",
   "metadata": {},
   "outputs": [
    {
     "data": {
      "text/plain": [
       "array([ 1,  5, -1, -1])"
      ]
     },
     "execution_count": 19,
     "metadata": {},
     "output_type": "execute_result"
    }
   ],
   "source": [
    "indices = np.array([[0, 0, 0],\n",
    "                    [0, 1, 1],\n",
    "                    [1, 0, 0],\n",
    "                    [1, 1, 1]])\n",
    "\n",
    "var[indices.T[0, :], indices.T[1, :], indices.T[2, :]]"
   ]
  },
  {
   "cell_type": "code",
   "execution_count": 10,
   "id": "b7f2d527",
   "metadata": {},
   "outputs": [
    {
     "name": "stdout",
     "output_type": "stream",
     "text": [
      "[[[ 1  2  3]\n",
      "  [ 4  5  6]\n",
      "  [ 7  8  9]]\n",
      "\n",
      " [[-1  0  0]\n",
      "  [ 0 -1  0]\n",
      "  [ 0  0  1]]]\n"
     ]
    }
   ],
   "source": [
    "print(var)"
   ]
  },
  {
   "cell_type": "code",
   "execution_count": 9,
   "id": "e48f0bfc",
   "metadata": {},
   "outputs": [
    {
     "data": {
      "text/plain": [
       "-1"
      ]
     },
     "execution_count": 9,
     "metadata": {},
     "output_type": "execute_result"
    }
   ],
   "source": [
    "var[0,1,1]"
   ]
  },
  {
   "cell_type": "code",
   "execution_count": 6,
   "id": "09448a5a",
   "metadata": {},
   "outputs": [
    {
     "data": {
      "text/plain": [
       "(2, 3, 3)"
      ]
     },
     "execution_count": 6,
     "metadata": {},
     "output_type": "execute_result"
    }
   ],
   "source": [
    "var.shape"
   ]
  },
  {
   "cell_type": "code",
   "execution_count": 21,
   "id": "53882a9a",
   "metadata": {},
   "outputs": [
    {
     "name": "stdout",
     "output_type": "stream",
     "text": [
      "[1 2 3 4 5 6 7 8 9 1]\n"
     ]
    }
   ],
   "source": [
    "# Podemos passar máscaras booleanas para o nosso array\n",
    "print(var[var > 0])"
   ]
  },
  {
   "cell_type": "code",
   "execution_count": 20,
   "id": "5692d674",
   "metadata": {},
   "outputs": [
    {
     "data": {
      "text/plain": [
       "array([[[ True,  True,  True],\n",
       "        [ True,  True,  True],\n",
       "        [ True,  True,  True]],\n",
       "\n",
       "       [[False, False, False],\n",
       "        [False, False, False],\n",
       "        [False, False,  True]]])"
      ]
     },
     "execution_count": 20,
     "metadata": {},
     "output_type": "execute_result"
    }
   ],
   "source": [
    "var > 0"
   ]
  },
  {
   "cell_type": "code",
   "execution_count": 23,
   "id": "fd9bc260",
   "metadata": {},
   "outputs": [
    {
     "data": {
      "text/plain": [
       "array([[0, 0, 0],\n",
       "       [0, 0, 1],\n",
       "       [0, 0, 2],\n",
       "       [0, 1, 0],\n",
       "       [0, 1, 1],\n",
       "       [0, 1, 2],\n",
       "       [0, 2, 0],\n",
       "       [0, 2, 1],\n",
       "       [0, 2, 2],\n",
       "       [1, 2, 2]])"
      ]
     },
     "execution_count": 23,
     "metadata": {},
     "output_type": "execute_result"
    }
   ],
   "source": [
    "np.argwhere(var > 0)"
   ]
  },
  {
   "cell_type": "code",
   "execution_count": 24,
   "id": "f6409aa4",
   "metadata": {},
   "outputs": [
    {
     "name": "stdout",
     "output_type": "stream",
     "text": [
      "[1 3 1]\n",
      "[ 1  1 -1]\n",
      "[0 2 0]\n",
      "[inf  2.  0.]\n",
      "2\n",
      "-5\n"
     ]
    },
    {
     "name": "stderr",
     "output_type": "stream",
     "text": [
      "/home/alexandre/miniconda3/envs/data_science/lib/python3.7/site-packages/ipykernel_launcher.py:11: RuntimeWarning: divide by zero encountered in true_divide\n",
      "  # This is added back by InteractiveShellApp.init_path()\n"
     ]
    }
   ],
   "source": [
    "# Por fim, temos também as operações matemáticas básicas\n",
    "vec1 = np.array([1, 2, 0])\n",
    "vec2 = np.array([0, 1, 1])\n",
    "matriz = np.array([[-1, 0, 0],\n",
    "                   [0, -1, 0],\n",
    "                   [0, 0, 1]])\n",
    "\n",
    "print(vec1 + vec2) # Soma é elemento a elemento\n",
    "print(vec1 - vec2) # Subtração também\n",
    "print(vec1 * vec2) # Multiplicação também\n",
    "print(vec1 / vec2) # Divisão também\n",
    "\n",
    "print(vec2 @ vec1) # Produto matricial e produto interno\n",
    "print((matriz @ vec1) @ vec1) # Produto matricial e produto interno"
   ]
  },
  {
   "cell_type": "markdown",
   "id": "2bc36591",
   "metadata": {},
   "source": [
    "## Mais detalhes\n",
    "\n",
    "Vamos agora ver alguns detalhes extras da biblioteca que nos ajudam bastante a usá-la em momentos não triviais."
   ]
  },
  {
   "cell_type": "markdown",
   "id": "dc23b2b0",
   "metadata": {},
   "source": [
    "### Manipulação de arrays"
   ]
  },
  {
   "cell_type": "code",
   "execution_count": 59,
   "id": "8a38e1ac",
   "metadata": {},
   "outputs": [],
   "source": [
    "# Transforme o vetor abaixo em uma matriz 3x3\n",
    "x = np.array([0.1, 0.4, 1.0, 0.2, 0.7, 1.2, 1.1, 1.0, 0.9])"
   ]
  },
  {
   "cell_type": "code",
   "execution_count": 61,
   "id": "6978f54f",
   "metadata": {},
   "outputs": [
    {
     "data": {
      "text/plain": [
       "array([[0.1, 0.4, 1. ],\n",
       "       [0.2, 0.7, 1.2],\n",
       "       [1.1, 1. , 0.9]])"
      ]
     },
     "execution_count": 61,
     "metadata": {},
     "output_type": "execute_result"
    }
   ],
   "source": [
    "x.reshape(3, 3)"
   ]
  },
  {
   "cell_type": "code",
   "execution_count": 36,
   "id": "8d49e6a0",
   "metadata": {},
   "outputs": [],
   "source": [
    "x = np.array([0.1, 0.4, 1.0, 0.2, 0.7, 1.2, 1.1, 1.0, 0.9, 2.0,\n",
    "              1.5, 1.6])"
   ]
  },
  {
   "cell_type": "code",
   "execution_count": 41,
   "id": "dbe19de2",
   "metadata": {},
   "outputs": [
    {
     "ename": "ValueError",
     "evalue": "cannot reshape array of size 12 into shape (3,3)",
     "output_type": "error",
     "traceback": [
      "\u001b[0;31m---------------------------------------------------------------------------\u001b[0m",
      "\u001b[0;31mValueError\u001b[0m                                Traceback (most recent call last)",
      "\u001b[0;32m<ipython-input-41-095900b14388>\u001b[0m in \u001b[0;36m<module>\u001b[0;34m\u001b[0m\n\u001b[0;32m----> 1\u001b[0;31m \u001b[0mx\u001b[0m\u001b[0;34m.\u001b[0m\u001b[0mreshape\u001b[0m\u001b[0;34m(\u001b[0m\u001b[0;36m3\u001b[0m\u001b[0;34m,\u001b[0m\u001b[0;36m3\u001b[0m\u001b[0;34m)\u001b[0m\u001b[0;34m\u001b[0m\u001b[0;34m\u001b[0m\u001b[0m\n\u001b[0m",
      "\u001b[0;31mValueError\u001b[0m: cannot reshape array of size 12 into shape (3,3)"
     ]
    }
   ],
   "source": [
    "x.reshape(3,3)"
   ]
  },
  {
   "cell_type": "code",
   "execution_count": 48,
   "id": "c171f87d",
   "metadata": {},
   "outputs": [],
   "source": [
    "# Transforme a matriz abaixo em uma lista de valores crescentes\n",
    "x = np.array([[1, 2, 3],\n",
    "              [4, 5, 6],\n",
    "              [7, 8, 9]])"
   ]
  },
  {
   "cell_type": "code",
   "execution_count": 44,
   "id": "208611d3",
   "metadata": {},
   "outputs": [
    {
     "data": {
      "text/plain": [
       "array([1, 2, 3, 4, 5, 6, 7, 8, 9])"
      ]
     },
     "execution_count": 44,
     "metadata": {},
     "output_type": "execute_result"
    }
   ],
   "source": [
    "x.flatten()"
   ]
  },
  {
   "cell_type": "code",
   "execution_count": 51,
   "id": "367e4c4f",
   "metadata": {
    "scrolled": true
   },
   "outputs": [],
   "source": [
    "v = np.reshape(x, -1)"
   ]
  },
  {
   "cell_type": "code",
   "execution_count": 53,
   "id": "36318611",
   "metadata": {},
   "outputs": [
    {
     "data": {
      "text/plain": [
       "array([[1],\n",
       "       [2],\n",
       "       [3],\n",
       "       [4],\n",
       "       [5],\n",
       "       [6],\n",
       "       [7],\n",
       "       [8],\n",
       "       [9]])"
      ]
     },
     "execution_count": 53,
     "metadata": {},
     "output_type": "execute_result"
    }
   ],
   "source": [
    "v.reshape(-1, 1)"
   ]
  },
  {
   "cell_type": "code",
   "execution_count": 54,
   "id": "5d3a13cd",
   "metadata": {},
   "outputs": [
    {
     "data": {
      "text/plain": [
       "array([1, 2, 3, 4, 5, 6, 7, 8, 9])"
      ]
     },
     "execution_count": 54,
     "metadata": {},
     "output_type": "execute_result"
    }
   ],
   "source": [
    "x.reshape(-1)"
   ]
  },
  {
   "cell_type": "code",
   "execution_count": 55,
   "id": "c3a2f122",
   "metadata": {},
   "outputs": [
    {
     "data": {
      "text/plain": [
       "array([[[1, 2, 3],\n",
       "        [4, 5, 6],\n",
       "        [7, 8, 9]]])"
      ]
     },
     "execution_count": 55,
     "metadata": {},
     "output_type": "execute_result"
    }
   ],
   "source": [
    "x.reshape(1, 3, 3)"
   ]
  },
  {
   "cell_type": "code",
   "execution_count": 58,
   "id": "14bdb753",
   "metadata": {},
   "outputs": [
    {
     "data": {
      "text/plain": [
       "array([1, 4, 7, 2, 5, 8, 3, 6, 9])"
      ]
     },
     "execution_count": 58,
     "metadata": {},
     "output_type": "execute_result"
    }
   ],
   "source": [
    "x.flatten(order='F')"
   ]
  },
  {
   "cell_type": "code",
   "execution_count": 62,
   "id": "5f134a8d",
   "metadata": {},
   "outputs": [],
   "source": [
    "# Faça a transposta da matriz abaixo. Ou seja, troque os valores \n",
    "# com relação à diagonal. \n",
    "# O elemento na posição (1,2) vai para a posição (2,1), e vice versa.\n",
    "x = np.array([[0, 1, 1],\n",
    "              [2, 0, 1],\n",
    "              [2, 2, 0]])"
   ]
  },
  {
   "cell_type": "code",
   "execution_count": 63,
   "id": "9ae3d605",
   "metadata": {},
   "outputs": [
    {
     "data": {
      "text/plain": [
       "array([[0, 2, 2],\n",
       "       [1, 0, 2],\n",
       "       [1, 1, 0]])"
      ]
     },
     "execution_count": 63,
     "metadata": {},
     "output_type": "execute_result"
    }
   ],
   "source": [
    "x.T"
   ]
  },
  {
   "cell_type": "code",
   "execution_count": 68,
   "id": "480cf317",
   "metadata": {},
   "outputs": [
    {
     "data": {
      "text/plain": [
       "array([[0, 2, 2],\n",
       "       [1, 0, 2],\n",
       "       [1, 1, 0]])"
      ]
     },
     "execution_count": 68,
     "metadata": {},
     "output_type": "execute_result"
    }
   ],
   "source": [
    "x.flatten(order='F').reshape(3, 3, order='C')"
   ]
  },
  {
   "cell_type": "code",
   "execution_count": 64,
   "id": "c4afb49f",
   "metadata": {},
   "outputs": [
    {
     "data": {
      "text/plain": [
       "array([[0, 2, 2],\n",
       "       [1, 0, 2],\n",
       "       [1, 1, 0]])"
      ]
     },
     "execution_count": 64,
     "metadata": {},
     "output_type": "execute_result"
    }
   ],
   "source": [
    "np.transpose(x)"
   ]
  },
  {
   "cell_type": "code",
   "execution_count": 69,
   "id": "056fdf0f",
   "metadata": {},
   "outputs": [
    {
     "data": {
      "text/plain": [
       "array([[0, 2, 2],\n",
       "       [1, 0, 2],\n",
       "       [1, 1, 0]])"
      ]
     },
     "execution_count": 69,
     "metadata": {},
     "output_type": "execute_result"
    }
   ],
   "source": [
    "x.transpose()"
   ]
  },
  {
   "cell_type": "code",
   "execution_count": 70,
   "id": "43c6f453",
   "metadata": {},
   "outputs": [],
   "source": [
    "# Também podemos combinar arrays diferentes.\n",
    "# Imagina que temos duas features, altura e peso de pessoas físicas.\n",
    "x1 = np.array([[1.67, 89.],\n",
    "               [1.79, 85.],\n",
    "               [1.69, 65.],\n",
    "               [1.54, 57.],\n",
    "               [1.50, 45.]])\n",
    "\n",
    "# Porém, nós queremos testar agora adicionar uma terceira feature, se a pessoa é homem ou mulher.\n",
    "# 1 é mulher, 0 é homem\n",
    "x2 = np.array([1, 0, 1, 0, 1])\n",
    "\n",
    "# Como podemos fazer?"
   ]
  },
  {
   "cell_type": "code",
   "execution_count": 78,
   "id": "3c0b1e51",
   "metadata": {},
   "outputs": [
    {
     "data": {
      "text/plain": [
       "array([[ 1.67, 89.  ,  1.  ],\n",
       "       [ 1.79, 85.  ,  0.  ],\n",
       "       [ 1.69, 65.  ,  1.  ],\n",
       "       [ 1.54, 57.  ,  0.  ],\n",
       "       [ 1.5 , 45.  ,  1.  ]])"
      ]
     },
     "execution_count": 78,
     "metadata": {},
     "output_type": "execute_result"
    }
   ],
   "source": [
    "np.concatenate((x1, x2.reshape(-1, 1)), axis=1)"
   ]
  },
  {
   "cell_type": "code",
   "execution_count": 82,
   "id": "88be8d6d",
   "metadata": {},
   "outputs": [
    {
     "data": {
      "text/plain": [
       "array([[ 1.67, 89.  ,  1.  ],\n",
       "       [ 1.79, 85.  ,  0.  ],\n",
       "       [ 1.69, 65.  ,  1.  ],\n",
       "       [ 1.54, 57.  ,  0.  ],\n",
       "       [ 1.5 , 45.  ,  1.  ]])"
      ]
     },
     "execution_count": 82,
     "metadata": {},
     "output_type": "execute_result"
    }
   ],
   "source": [
    "np.append(x1, x2.reshape(-1, 1), axis=1)"
   ]
  },
  {
   "cell_type": "code",
   "execution_count": 86,
   "id": "371f1bcc",
   "metadata": {},
   "outputs": [
    {
     "data": {
      "text/plain": [
       "array([[ 1.67, 89.  ,  1.  ],\n",
       "       [ 1.79, 85.  ,  0.  ],\n",
       "       [ 1.69, 65.  ,  1.  ],\n",
       "       [ 1.54, 57.  ,  0.  ],\n",
       "       [ 1.5 , 45.  ,  1.  ]])"
      ]
     },
     "execution_count": 86,
     "metadata": {},
     "output_type": "execute_result"
    }
   ],
   "source": [
    "np.vstack([x1.T, x2]).T"
   ]
  },
  {
   "cell_type": "code",
   "execution_count": 102,
   "id": "6573ec40",
   "metadata": {
    "scrolled": true
   },
   "outputs": [
    {
     "data": {
      "text/plain": [
       "array([ 1.67,  1.79,  1.69,  1.54,  1.5 , 89.  , 85.  , 65.  , 57.  ,\n",
       "       45.  ,  1.  ,  0.  ,  1.  ,  0.  ,  1.  ])"
      ]
     },
     "execution_count": 102,
     "metadata": {},
     "output_type": "execute_result"
    }
   ],
   "source": [
    "np.append(x1.T, x2.reshape(1,5))"
   ]
  },
  {
   "cell_type": "code",
   "execution_count": 103,
   "id": "35b54b70",
   "metadata": {},
   "outputs": [
    {
     "data": {
      "text/plain": [
       "array([[ 1.67,  1.  , 89.  ],\n",
       "       [ 1.79,  0.  , 85.  ],\n",
       "       [ 1.69,  1.  , 65.  ],\n",
       "       [ 1.54,  0.  , 57.  ],\n",
       "       [ 1.5 ,  1.  , 45.  ]])"
      ]
     },
     "execution_count": 103,
     "metadata": {},
     "output_type": "execute_result"
    }
   ],
   "source": [
    "np.insert(x1, 1, x2, axis=1)"
   ]
  },
  {
   "cell_type": "code",
   "execution_count": 88,
   "id": "d8e4f0d1",
   "metadata": {},
   "outputs": [
    {
     "data": {
      "text/plain": [
       "array([[ 1.67, 89.  ,  1.  ],\n",
       "       [ 1.79, 85.  ,  0.  ],\n",
       "       [ 1.69, 65.  ,  1.  ],\n",
       "       [ 1.54, 57.  ,  0.  ],\n",
       "       [ 1.5 , 45.  ,  1.  ]])"
      ]
     },
     "execution_count": 88,
     "metadata": {},
     "output_type": "execute_result"
    }
   ],
   "source": [
    "np.column_stack([x1, x2])"
   ]
  },
  {
   "cell_type": "code",
   "execution_count": 90,
   "id": "d13be674",
   "metadata": {},
   "outputs": [
    {
     "data": {
      "text/plain": [
       "array([[ 1.67, 89.  ,  1.  ],\n",
       "       [ 1.79, 85.  ,  0.  ],\n",
       "       [ 1.69, 65.  ,  1.  ],\n",
       "       [ 1.54, 57.  ,  0.  ],\n",
       "       [ 1.5 , 45.  ,  1.  ]])"
      ]
     },
     "execution_count": 90,
     "metadata": {},
     "output_type": "execute_result"
    }
   ],
   "source": [
    "np.hstack([x1, x2.reshape(-1, 1)])"
   ]
  },
  {
   "cell_type": "code",
   "execution_count": 92,
   "id": "1322df81",
   "metadata": {},
   "outputs": [
    {
     "data": {
      "text/plain": [
       "array([[ 1.67, 89.  ,  1.  ],\n",
       "       [ 1.79, 85.  ,  0.  ],\n",
       "       [ 1.69, 65.  ,  1.  ],\n",
       "       [ 1.54, 57.  ,  0.  ],\n",
       "       [ 1.5 , 45.  ,  1.  ]])"
      ]
     },
     "execution_count": 92,
     "metadata": {},
     "output_type": "execute_result"
    }
   ],
   "source": [
    "np.c_[x1,x2]"
   ]
  },
  {
   "cell_type": "code",
   "execution_count": 104,
   "id": "1eed91de",
   "metadata": {},
   "outputs": [],
   "source": [
    "# Agora temos a tabela de dados abaixo.\n",
    "table = np.array([[1.67, 89., 1],\n",
    "                  [1.79, 85., 0],\n",
    "                  [1.69, 65., 1],\n",
    "                  [1.54, 57., 0],\n",
    "                  [1.50, 45., 1]])\n",
    "\n",
    "# Mas tinhamos esquecido de outras 3 pessoas!\n",
    "new_table = np.array([[1.78, 91, 0],\n",
    "                      [1.72, 67, 1],\n",
    "                      [1.77, 76, 1]])\n",
    "\n",
    "# Como podemos juntar as tabelas?"
   ]
  },
  {
   "cell_type": "code",
   "execution_count": 106,
   "id": "271251b1",
   "metadata": {},
   "outputs": [
    {
     "data": {
      "text/plain": [
       "array([[ 1.67, 89.  ,  1.  ],\n",
       "       [ 1.79, 85.  ,  0.  ],\n",
       "       [ 1.69, 65.  ,  1.  ],\n",
       "       [ 1.54, 57.  ,  0.  ],\n",
       "       [ 1.5 , 45.  ,  1.  ],\n",
       "       [ 1.78, 91.  ,  0.  ],\n",
       "       [ 1.72, 67.  ,  1.  ],\n",
       "       [ 1.77, 76.  ,  1.  ]])"
      ]
     },
     "execution_count": 106,
     "metadata": {},
     "output_type": "execute_result"
    }
   ],
   "source": [
    "np.concatenate([table, new_table])"
   ]
  },
  {
   "cell_type": "markdown",
   "id": "44dfd808",
   "metadata": {},
   "source": [
    "### Funções matemáticas"
   ]
  },
  {
   "cell_type": "code",
   "execution_count": 107,
   "id": "cbc68bc1",
   "metadata": {},
   "outputs": [],
   "source": [
    "# NÃO VAMOS FALAR DE VISUALIZAÇÃO DE DADOS AINDA!\n",
    "# Porém, vou importar aqui uma biblioteca de visualização por questões pedagógicas,\n",
    "# para vermos visualmente os resultados de algumas operações\n",
    "import matplotlib.pyplot as plt"
   ]
  },
  {
   "cell_type": "markdown",
   "id": "9a8ea573",
   "metadata": {},
   "source": [
    "!conda activate ds_boti\n",
    "\n",
    "!conda install matplotlib"
   ]
  },
  {
   "cell_type": "code",
   "execution_count": 123,
   "id": "1e6c84fb",
   "metadata": {},
   "outputs": [],
   "source": [
    "# Como podemos desenhar a função coseno entre x=-6.3 e x=6.3?\n",
    "# Faça uma variável x com os pontos entre -6.3 e 6.3 que você escolher.\n",
    "# Faça uma variável y com o valor do coseno nesses pontos.\n",
    "x = np.linspace(-6.3, 6.3, 1000)\n",
    "y = np.cos(x)"
   ]
  },
  {
   "cell_type": "code",
   "execution_count": 124,
   "id": "beb1bdc3",
   "metadata": {},
   "outputs": [
    {
     "data": {
      "image/png": "[encoded data removed]",
      "text/plain": [
       "<Figure size 432x288 with 1 Axes>"
      ]
     },
     "metadata": {
      "needs_background": "light"
     },
     "output_type": "display_data"
    }
   ],
   "source": [
    "# Agora rode o código abaixo.\n",
    "plt.plot(x, y)\n",
    "plt.show()"
   ]
  },
  {
   "cell_type": "code",
   "execution_count": 135,
   "id": "9b97d5fc",
   "metadata": {},
   "outputs": [],
   "source": [
    "# Faça o mesmo de antes, mas agora a função é:\n",
    "# exp(-|x|)\n",
    "# Pesquisa pela função \"abs\" no numpy\n",
    "x = np.linspace(-6.3, 6.3, 1000)\n",
    "y = np.exp(-abs(x))"
   ]
  },
  {
   "cell_type": "code",
   "execution_count": 138,
   "id": "3235e512",
   "metadata": {},
   "outputs": [
    {
     "data": {
      "text/plain": [
       "array([6.3       , 6.28738739, 6.27477477, 6.26216216, 6.24954955,\n",
       "       6.23693694, 6.22432432, 6.21171171, 6.1990991 , 6.18648649,\n",
       "       6.17387387, 6.16126126, 6.14864865, 6.13603604, 6.12342342,\n",
       "       6.11081081, 6.0981982 , 6.08558559, 6.07297297, 6.06036036,\n",
       "       6.04774775, 6.03513514, 6.02252252, 6.00990991, 5.9972973 ,\n",
       "       5.98468468, 5.97207207, 5.95945946, 5.94684685, 5.93423423,\n",
       "       5.92162162, 5.90900901, 5.8963964 , 5.88378378, 5.87117117,\n",
       "       5.85855856, 5.84594595, 5.83333333, 5.82072072, 5.80810811,\n",
       "       5.7954955 , 5.78288288, 5.77027027, 5.75765766, 5.74504505,\n",
       "       5.73243243, 5.71981982, 5.70720721, 5.69459459, 5.68198198,\n",
       "       5.66936937, 5.65675676, 5.64414414, 5.63153153, 5.61891892,\n",
       "       5.60630631, 5.59369369, 5.58108108, 5.56846847, 5.55585586,\n",
       "       5.54324324, 5.53063063, 5.51801802, 5.50540541, 5.49279279,\n",
       "       5.48018018, 5.46756757, 5.45495495, 5.44234234, 5.42972973,\n",
       "       5.41711712, 5.4045045 , 5.39189189, 5.37927928, 5.36666667,\n",
       "       5.35405405, 5.34144144, 5.32882883, 5.31621622, 5.3036036 ,\n",
       "       5.29099099, 5.27837838, 5.26576577, 5.25315315, 5.24054054,\n",
       "       5.22792793, 5.21531532, 5.2027027 , 5.19009009, 5.17747748,\n",
       "       5.16486486, 5.15225225, 5.13963964, 5.12702703, 5.11441441,\n",
       "       5.1018018 , 5.08918919, 5.07657658, 5.06396396, 5.05135135,\n",
       "       5.03873874, 5.02612613, 5.01351351, 5.0009009 , 4.98828829,\n",
       "       4.97567568, 4.96306306, 4.95045045, 4.93783784, 4.92522523,\n",
       "       4.91261261, 4.9       , 4.88738739, 4.87477477, 4.86216216,\n",
       "       4.84954955, 4.83693694, 4.82432432, 4.81171171, 4.7990991 ,\n",
       "       4.78648649, 4.77387387, 4.76126126, 4.74864865, 4.73603604,\n",
       "       4.72342342, 4.71081081, 4.6981982 , 4.68558559, 4.67297297,\n",
       "       4.66036036, 4.64774775, 4.63513514, 4.62252252, 4.60990991,\n",
       "       4.5972973 , 4.58468468, 4.57207207, 4.55945946, 4.54684685,\n",
       "       4.53423423, 4.52162162, 4.50900901, 4.4963964 , 4.48378378,\n",
       "       4.47117117, 4.45855856, 4.44594595, 4.43333333, 4.42072072,\n",
       "       4.40810811, 4.3954955 , 4.38288288, 4.37027027, 4.35765766,\n",
       "       4.34504505, 4.33243243, 4.31981982, 4.30720721, 4.29459459,\n",
       "       4.28198198, 4.26936937, 4.25675676, 4.24414414, 4.23153153,\n",
       "       4.21891892, 4.20630631, 4.19369369, 4.18108108, 4.16846847,\n",
       "       4.15585586, 4.14324324, 4.13063063, 4.11801802, 4.10540541,\n",
       "       4.09279279, 4.08018018, 4.06756757, 4.05495495, 4.04234234,\n",
       "       4.02972973, 4.01711712, 4.0045045 , 3.99189189, 3.97927928,\n",
       "       3.96666667, 3.95405405, 3.94144144, 3.92882883, 3.91621622,\n",
       "       3.9036036 , 3.89099099, 3.87837838, 3.86576577, 3.85315315,\n",
       "       3.84054054, 3.82792793, 3.81531532, 3.8027027 , 3.79009009,\n",
       "       3.77747748, 3.76486486, 3.75225225, 3.73963964, 3.72702703,\n",
       "       3.71441441, 3.7018018 , 3.68918919, 3.67657658, 3.66396396,\n",
       "       3.65135135, 3.63873874, 3.62612613, 3.61351351, 3.6009009 ,\n",
       "       3.58828829, 3.57567568, 3.56306306, 3.55045045, 3.53783784,\n",
       "       3.52522523, 3.51261261, 3.5       , 3.48738739, 3.47477477,\n",
       "       3.46216216, 3.44954955, 3.43693694, 3.42432432, 3.41171171,\n",
       "       3.3990991 , 3.38648649, 3.37387387, 3.36126126, 3.34864865,\n",
       "       3.33603604, 3.32342342, 3.31081081, 3.2981982 , 3.28558559,\n",
       "       3.27297297, 3.26036036, 3.24774775, 3.23513514, 3.22252252,\n",
       "       3.20990991, 3.1972973 , 3.18468468, 3.17207207, 3.15945946,\n",
       "       3.14684685, 3.13423423, 3.12162162, 3.10900901, 3.0963964 ,\n",
       "       3.08378378, 3.07117117, 3.05855856, 3.04594595, 3.03333333,\n",
       "       3.02072072, 3.00810811, 2.9954955 , 2.98288288, 2.97027027,\n",
       "       2.95765766, 2.94504505, 2.93243243, 2.91981982, 2.90720721,\n",
       "       2.89459459, 2.88198198, 2.86936937, 2.85675676, 2.84414414,\n",
       "       2.83153153, 2.81891892, 2.80630631, 2.79369369, 2.78108108,\n",
       "       2.76846847, 2.75585586, 2.74324324, 2.73063063, 2.71801802,\n",
       "       2.70540541, 2.69279279, 2.68018018, 2.66756757, 2.65495495,\n",
       "       2.64234234, 2.62972973, 2.61711712, 2.6045045 , 2.59189189,\n",
       "       2.57927928, 2.56666667, 2.55405405, 2.54144144, 2.52882883,\n",
       "       2.51621622, 2.5036036 , 2.49099099, 2.47837838, 2.46576577,\n",
       "       2.45315315, 2.44054054, 2.42792793, 2.41531532, 2.4027027 ,\n",
       "       2.39009009, 2.37747748, 2.36486486, 2.35225225, 2.33963964,\n",
       "       2.32702703, 2.31441441, 2.3018018 , 2.28918919, 2.27657658,\n",
       "       2.26396396, 2.25135135, 2.23873874, 2.22612613, 2.21351351,\n",
       "       2.2009009 , 2.18828829, 2.17567568, 2.16306306, 2.15045045,\n",
       "       2.13783784, 2.12522523, 2.11261261, 2.1       , 2.08738739,\n",
       "       2.07477477, 2.06216216, 2.04954955, 2.03693694, 2.02432432,\n",
       "       2.01171171, 1.9990991 , 1.98648649, 1.97387387, 1.96126126,\n",
       "       1.94864865, 1.93603604, 1.92342342, 1.91081081, 1.8981982 ,\n",
       "       1.88558559, 1.87297297, 1.86036036, 1.84774775, 1.83513514,\n",
       "       1.82252252, 1.80990991, 1.7972973 , 1.78468468, 1.77207207,\n",
       "       1.75945946, 1.74684685, 1.73423423, 1.72162162, 1.70900901,\n",
       "       1.6963964 , 1.68378378, 1.67117117, 1.65855856, 1.64594595,\n",
       "       1.63333333, 1.62072072, 1.60810811, 1.5954955 , 1.58288288,\n",
       "       1.57027027, 1.55765766, 1.54504505, 1.53243243, 1.51981982,\n",
       "       1.50720721, 1.49459459, 1.48198198, 1.46936937, 1.45675676,\n",
       "       1.44414414, 1.43153153, 1.41891892, 1.40630631, 1.39369369,\n",
       "       1.38108108, 1.36846847, 1.35585586, 1.34324324, 1.33063063,\n",
       "       1.31801802, 1.30540541, 1.29279279, 1.28018018, 1.26756757,\n",
       "       1.25495495, 1.24234234, 1.22972973, 1.21711712, 1.2045045 ,\n",
       "       1.19189189, 1.17927928, 1.16666667, 1.15405405, 1.14144144,\n",
       "       1.12882883, 1.11621622, 1.1036036 , 1.09099099, 1.07837838,\n",
       "       1.06576577, 1.05315315, 1.04054054, 1.02792793, 1.01531532,\n",
       "       1.0027027 , 0.99009009, 0.97747748, 0.96486486, 0.95225225,\n",
       "       0.93963964, 0.92702703, 0.91441441, 0.9018018 , 0.88918919,\n",
       "       0.87657658, 0.86396396, 0.85135135, 0.83873874, 0.82612613,\n",
       "       0.81351351, 0.8009009 , 0.78828829, 0.77567568, 0.76306306,\n",
       "       0.75045045, 0.73783784, 0.72522523, 0.71261261, 0.7       ,\n",
       "       0.68738739, 0.67477477, 0.66216216, 0.64954955, 0.63693694,\n",
       "       0.62432432, 0.61171171, 0.5990991 , 0.58648649, 0.57387387,\n",
       "       0.56126126, 0.54864865, 0.53603604, 0.52342342, 0.51081081,\n",
       "       0.4981982 , 0.48558559, 0.47297297, 0.46036036, 0.44774775,\n",
       "       0.43513514, 0.42252252, 0.40990991, 0.3972973 , 0.38468468,\n",
       "       0.37207207, 0.35945946, 0.34684685, 0.33423423, 0.32162162,\n",
       "       0.30900901, 0.2963964 , 0.28378378, 0.27117117, 0.25855856,\n",
       "       0.24594595, 0.23333333, 0.22072072, 0.20810811, 0.1954955 ,\n",
       "       0.18288288, 0.17027027, 0.15765766, 0.14504505, 0.13243243,\n",
       "       0.11981982, 0.10720721, 0.09459459, 0.08198198, 0.06936937,\n",
       "       0.05675676, 0.04414414, 0.03153153, 0.01891892, 0.00630631,\n",
       "       0.00630631, 0.01891892, 0.03153153, 0.04414414, 0.05675676,\n",
       "       0.06936937, 0.08198198, 0.09459459, 0.10720721, 0.11981982,\n",
       "       0.13243243, 0.14504505, 0.15765766, 0.17027027, 0.18288288,\n",
       "       0.1954955 , 0.20810811, 0.22072072, 0.23333333, 0.24594595,\n",
       "       0.25855856, 0.27117117, 0.28378378, 0.2963964 , 0.30900901,\n",
       "       0.32162162, 0.33423423, 0.34684685, 0.35945946, 0.37207207,\n",
       "       0.38468468, 0.3972973 , 0.40990991, 0.42252252, 0.43513514,\n",
       "       0.44774775, 0.46036036, 0.47297297, 0.48558559, 0.4981982 ,\n",
       "       0.51081081, 0.52342342, 0.53603604, 0.54864865, 0.56126126,\n",
       "       0.57387387, 0.58648649, 0.5990991 , 0.61171171, 0.62432432,\n",
       "       0.63693694, 0.64954955, 0.66216216, 0.67477477, 0.68738739,\n",
       "       0.7       , 0.71261261, 0.72522523, 0.73783784, 0.75045045,\n",
       "       0.76306306, 0.77567568, 0.78828829, 0.8009009 , 0.81351351,\n",
       "       0.82612613, 0.83873874, 0.85135135, 0.86396396, 0.87657658,\n",
       "       0.88918919, 0.9018018 , 0.91441441, 0.92702703, 0.93963964,\n",
       "       0.95225225, 0.96486486, 0.97747748, 0.99009009, 1.0027027 ,\n",
       "       1.01531532, 1.02792793, 1.04054054, 1.05315315, 1.06576577,\n",
       "       1.07837838, 1.09099099, 1.1036036 , 1.11621622, 1.12882883,\n",
       "       1.14144144, 1.15405405, 1.16666667, 1.17927928, 1.19189189,\n",
       "       1.2045045 , 1.21711712, 1.22972973, 1.24234234, 1.25495495,\n",
       "       1.26756757, 1.28018018, 1.29279279, 1.30540541, 1.31801802,\n",
       "       1.33063063, 1.34324324, 1.35585586, 1.36846847, 1.38108108,\n",
       "       1.39369369, 1.40630631, 1.41891892, 1.43153153, 1.44414414,\n",
       "       1.45675676, 1.46936937, 1.48198198, 1.49459459, 1.50720721,\n",
       "       1.51981982, 1.53243243, 1.54504505, 1.55765766, 1.57027027,\n",
       "       1.58288288, 1.5954955 , 1.60810811, 1.62072072, 1.63333333,\n",
       "       1.64594595, 1.65855856, 1.67117117, 1.68378378, 1.6963964 ,\n",
       "       1.70900901, 1.72162162, 1.73423423, 1.74684685, 1.75945946,\n",
       "       1.77207207, 1.78468468, 1.7972973 , 1.80990991, 1.82252252,\n",
       "       1.83513514, 1.84774775, 1.86036036, 1.87297297, 1.88558559,\n",
       "       1.8981982 , 1.91081081, 1.92342342, 1.93603604, 1.94864865,\n",
       "       1.96126126, 1.97387387, 1.98648649, 1.9990991 , 2.01171171,\n",
       "       2.02432432, 2.03693694, 2.04954955, 2.06216216, 2.07477477,\n",
       "       2.08738739, 2.1       , 2.11261261, 2.12522523, 2.13783784,\n",
       "       2.15045045, 2.16306306, 2.17567568, 2.18828829, 2.2009009 ,\n",
       "       2.21351351, 2.22612613, 2.23873874, 2.25135135, 2.26396396,\n",
       "       2.27657658, 2.28918919, 2.3018018 , 2.31441441, 2.32702703,\n",
       "       2.33963964, 2.35225225, 2.36486486, 2.37747748, 2.39009009,\n",
       "       2.4027027 , 2.41531532, 2.42792793, 2.44054054, 2.45315315,\n",
       "       2.46576577, 2.47837838, 2.49099099, 2.5036036 , 2.51621622,\n",
       "       2.52882883, 2.54144144, 2.55405405, 2.56666667, 2.57927928,\n",
       "       2.59189189, 2.6045045 , 2.61711712, 2.62972973, 2.64234234,\n",
       "       2.65495495, 2.66756757, 2.68018018, 2.69279279, 2.70540541,\n",
       "       2.71801802, 2.73063063, 2.74324324, 2.75585586, 2.76846847,\n",
       "       2.78108108, 2.79369369, 2.80630631, 2.81891892, 2.83153153,\n",
       "       2.84414414, 2.85675676, 2.86936937, 2.88198198, 2.89459459,\n",
       "       2.90720721, 2.91981982, 2.93243243, 2.94504505, 2.95765766,\n",
       "       2.97027027, 2.98288288, 2.9954955 , 3.00810811, 3.02072072,\n",
       "       3.03333333, 3.04594595, 3.05855856, 3.07117117, 3.08378378,\n",
       "       3.0963964 , 3.10900901, 3.12162162, 3.13423423, 3.14684685,\n",
       "       3.15945946, 3.17207207, 3.18468468, 3.1972973 , 3.20990991,\n",
       "       3.22252252, 3.23513514, 3.24774775, 3.26036036, 3.27297297,\n",
       "       3.28558559, 3.2981982 , 3.31081081, 3.32342342, 3.33603604,\n",
       "       3.34864865, 3.36126126, 3.37387387, 3.38648649, 3.3990991 ,\n",
       "       3.41171171, 3.42432432, 3.43693694, 3.44954955, 3.46216216,\n",
       "       3.47477477, 3.48738739, 3.5       , 3.51261261, 3.52522523,\n",
       "       3.53783784, 3.55045045, 3.56306306, 3.57567568, 3.58828829,\n",
       "       3.6009009 , 3.61351351, 3.62612613, 3.63873874, 3.65135135,\n",
       "       3.66396396, 3.67657658, 3.68918919, 3.7018018 , 3.71441441,\n",
       "       3.72702703, 3.73963964, 3.75225225, 3.76486486, 3.77747748,\n",
       "       3.79009009, 3.8027027 , 3.81531532, 3.82792793, 3.84054054,\n",
       "       3.85315315, 3.86576577, 3.87837838, 3.89099099, 3.9036036 ,\n",
       "       3.91621622, 3.92882883, 3.94144144, 3.95405405, 3.96666667,\n",
       "       3.97927928, 3.99189189, 4.0045045 , 4.01711712, 4.02972973,\n",
       "       4.04234234, 4.05495495, 4.06756757, 4.08018018, 4.09279279,\n",
       "       4.10540541, 4.11801802, 4.13063063, 4.14324324, 4.15585586,\n",
       "       4.16846847, 4.18108108, 4.19369369, 4.20630631, 4.21891892,\n",
       "       4.23153153, 4.24414414, 4.25675676, 4.26936937, 4.28198198,\n",
       "       4.29459459, 4.30720721, 4.31981982, 4.33243243, 4.34504505,\n",
       "       4.35765766, 4.37027027, 4.38288288, 4.3954955 , 4.40810811,\n",
       "       4.42072072, 4.43333333, 4.44594595, 4.45855856, 4.47117117,\n",
       "       4.48378378, 4.4963964 , 4.50900901, 4.52162162, 4.53423423,\n",
       "       4.54684685, 4.55945946, 4.57207207, 4.58468468, 4.5972973 ,\n",
       "       4.60990991, 4.62252252, 4.63513514, 4.64774775, 4.66036036,\n",
       "       4.67297297, 4.68558559, 4.6981982 , 4.71081081, 4.72342342,\n",
       "       4.73603604, 4.74864865, 4.76126126, 4.77387387, 4.78648649,\n",
       "       4.7990991 , 4.81171171, 4.82432432, 4.83693694, 4.84954955,\n",
       "       4.86216216, 4.87477477, 4.88738739, 4.9       , 4.91261261,\n",
       "       4.92522523, 4.93783784, 4.95045045, 4.96306306, 4.97567568,\n",
       "       4.98828829, 5.0009009 , 5.01351351, 5.02612613, 5.03873874,\n",
       "       5.05135135, 5.06396396, 5.07657658, 5.08918919, 5.1018018 ,\n",
       "       5.11441441, 5.12702703, 5.13963964, 5.15225225, 5.16486486,\n",
       "       5.17747748, 5.19009009, 5.2027027 , 5.21531532, 5.22792793,\n",
       "       5.24054054, 5.25315315, 5.26576577, 5.27837838, 5.29099099,\n",
       "       5.3036036 , 5.31621622, 5.32882883, 5.34144144, 5.35405405,\n",
       "       5.36666667, 5.37927928, 5.39189189, 5.4045045 , 5.41711712,\n",
       "       5.42972973, 5.44234234, 5.45495495, 5.46756757, 5.48018018,\n",
       "       5.49279279, 5.50540541, 5.51801802, 5.53063063, 5.54324324,\n",
       "       5.55585586, 5.56846847, 5.58108108, 5.59369369, 5.60630631,\n",
       "       5.61891892, 5.63153153, 5.64414414, 5.65675676, 5.66936937,\n",
       "       5.68198198, 5.69459459, 5.70720721, 5.71981982, 5.73243243,\n",
       "       5.74504505, 5.75765766, 5.77027027, 5.78288288, 5.7954955 ,\n",
       "       5.80810811, 5.82072072, 5.83333333, 5.84594595, 5.85855856,\n",
       "       5.87117117, 5.88378378, 5.8963964 , 5.90900901, 5.92162162,\n",
       "       5.93423423, 5.94684685, 5.95945946, 5.97207207, 5.98468468,\n",
       "       5.9972973 , 6.00990991, 6.02252252, 6.03513514, 6.04774775,\n",
       "       6.06036036, 6.07297297, 6.08558559, 6.0981982 , 6.11081081,\n",
       "       6.12342342, 6.13603604, 6.14864865, 6.16126126, 6.17387387,\n",
       "       6.18648649, 6.1990991 , 6.21171171, 6.22432432, 6.23693694,\n",
       "       6.24954955, 6.26216216, 6.27477477, 6.28738739, 6.3       ])"
      ]
     },
     "execution_count": 138,
     "metadata": {},
     "output_type": "execute_result"
    }
   ],
   "source": [
    "abs(x)"
   ]
  },
  {
   "cell_type": "code",
   "execution_count": 136,
   "id": "6528c6b9",
   "metadata": {},
   "outputs": [
    {
     "data": {
      "image/png": "[encoded data removed]",
      "text/plain": [
       "<Figure size 432x288 with 1 Axes>"
      ]
     },
     "metadata": {
      "needs_background": "light"
     },
     "output_type": "display_data"
    }
   ],
   "source": [
    "# Agora rode o código abaixo.\n",
    "plt.plot(x, y)\n",
    "plt.show()"
   ]
  },
  {
   "cell_type": "markdown",
   "id": "2dd270f9",
   "metadata": {},
   "source": [
    "Vamos fazer uma visualização legal, usando como referência \n",
    "[o blog do John D Cook](johndcook.com/blog/2017/10/07/exponential-sums-make-pretty-pictures).\n",
    "\n",
    "\n",
    "A ideía é que as soma parciais de \"exponenciais complexas\",\n",
    "$$ \\sum_{n=0}^{N} \\exp{\\left(2\\cdot\\pi\\cdot j \\cdot \\left(\\frac{n}{m} + \\frac{n^2}{d} + \\frac{n^3}{y}\\right)\\right)} $$\n",
    "\n",
    "para diferentes valores de $m$, $y$ e $d$, dão gráficos muito bonitos.\n",
    "\n",
    "![teste](https://www.johndcook.com/expsum01.png)"
   ]
  },
  {
   "cell_type": "code",
   "execution_count": 170,
   "id": "2d2b2a20",
   "metadata": {},
   "outputs": [],
   "source": [
    "# Como ficaria a lógica do código no numpy?\n",
    "y = 21\n",
    "m = 5\n",
    "d = 2\n",
    "\n",
    "N = 2000 # Número de somas parciais\n",
    "\n",
    "# Para fazer a operação acima com números complexos, faça o seguinte:\n",
    "# Onde você faria a conta que está dentro da exponencial, faça tudo esquecendo o j.\n",
    "# Aí, ainda dentro da exponencial, você multiplica tudo por \"1j\".\n",
    "n = np.arange(0, N+1)\n",
    "y = np.exp(2.0 * np.pi * ((n/m) + ((n**2)/d) + ((n**3)/y)) * 1j)\n",
    "\n",
    "# Para obter somas parciais, pesquise \"cumsum\" dentro do numpy.\n",
    "soma_acumulada = np.cumsum(y, axis=0)\n",
    "\n",
    "# Salve o resultado em uma variável \"soma_acumulada\""
   ]
  },
  {
   "cell_type": "code",
   "execution_count": 156,
   "id": "0ff26761",
   "metadata": {},
   "outputs": [
    {
     "name": "stdout",
     "output_type": "stream",
     "text": [
      "<class 'complex'>\n"
     ]
    }
   ],
   "source": [
    "print(type(1j))"
   ]
  },
  {
   "cell_type": "code",
   "execution_count": 157,
   "id": "832b265b",
   "metadata": {},
   "outputs": [
    {
     "data": {
      "text/plain": [
       "3.141592653589793"
      ]
     },
     "execution_count": 157,
     "metadata": {},
     "output_type": "execute_result"
    }
   ],
   "source": [
    "np.pi"
   ]
  },
  {
   "cell_type": "code",
   "execution_count": 142,
   "id": "2205d730",
   "metadata": {},
   "outputs": [
    {
     "data": {
      "text/plain": [
       "2000"
      ]
     },
     "execution_count": 142,
     "metadata": {},
     "output_type": "execute_result"
    }
   ],
   "source": [
    "n[-1]"
   ]
  },
  {
   "cell_type": "code",
   "execution_count": 143,
   "id": "3c83387a",
   "metadata": {},
   "outputs": [
    {
     "data": {
      "text/plain": [
       "array([0, 1, 2, 3, 4, 5, 6, 7, 8, 9])"
      ]
     },
     "execution_count": 143,
     "metadata": {},
     "output_type": "execute_result"
    }
   ],
   "source": [
    "np.arange(0, 10)"
   ]
  },
  {
   "cell_type": "code",
   "execution_count": 171,
   "id": "bacc3081",
   "metadata": {},
   "outputs": [
    {
     "data": {
      "image/png": "[encoded data removed]",
      "text/plain": [
       "<Figure size 432x288 with 1 Axes>"
      ]
     },
     "metadata": {
      "needs_background": "light"
     },
     "output_type": "display_data"
    }
   ],
   "source": [
    "# Com a sua soma acumulada, rode o código abaixo.\n",
    "plt.plot(np.real(soma_acumulada), np.imag(soma_acumulada))\n",
    "plt.show()"
   ]
  },
  {
   "cell_type": "code",
   "execution_count": 160,
   "id": "ff7054f5",
   "metadata": {},
   "outputs": [
    {
     "name": "stdout",
     "output_type": "stream",
     "text": [
      "[ 1  3  6 10 15 21 28 36 45]\n"
     ]
    }
   ],
   "source": [
    "x = np.array([1, 2, 3, 4, 5, 6, 7, 8, 9])\n",
    "print(np.cumsum(x))"
   ]
  },
  {
   "cell_type": "code",
   "execution_count": 161,
   "id": "1b1993c5",
   "metadata": {},
   "outputs": [],
   "source": [
    "# Arrays do numpy também têm alguns métodos já salvos neles, para alguns tipos de operações matemáticas.\n",
    "\n",
    "# Encontre a média e o desvio padrão do array abaixo.\n",
    "data = [-3.99639747e-01,  1.17716084e-03,  7.57112282e-01, -1.38651800e+00,\n",
    "         7.67865914e-01, -1.07935805e+00,  2.57581851e-01, -8.42067558e-01,\n",
    "         1.22636135e+00, -7.89880632e-01]\n",
    "\n",
    "np_data = np.array(data)"
   ]
  },
  {
   "cell_type": "code",
   "execution_count": 162,
   "id": "60306af7",
   "metadata": {},
   "outputs": [
    {
     "name": "stdout",
     "output_type": "stream",
     "text": [
      "[-3.99639747e-01  1.17716084e-03  7.57112282e-01 -1.38651800e+00\n",
      "  7.67865914e-01 -1.07935805e+00  2.57581851e-01 -8.42067558e-01\n",
      "  1.22636135e+00 -7.89880632e-01]\n"
     ]
    }
   ],
   "source": [
    "print(np_data)"
   ]
  },
  {
   "cell_type": "code",
   "execution_count": 163,
   "id": "504bbf74",
   "metadata": {},
   "outputs": [
    {
     "data": {
      "text/plain": [
       "-0.148736542916"
      ]
     },
     "execution_count": 163,
     "metadata": {},
     "output_type": "execute_result"
    }
   ],
   "source": [
    "np_data.mean()"
   ]
  },
  {
   "cell_type": "code",
   "execution_count": 166,
   "id": "081961a2",
   "metadata": {},
   "outputs": [
    {
     "data": {
      "text/plain": [
       "0.8421443172490778"
      ]
     },
     "execution_count": 166,
     "metadata": {},
     "output_type": "execute_result"
    }
   ],
   "source": [
    "np_data.std()"
   ]
  },
  {
   "cell_type": "code",
   "execution_count": 167,
   "id": "f2b28c8e",
   "metadata": {},
   "outputs": [
    {
     "data": {
      "text/plain": [
       "79003"
      ]
     },
     "execution_count": 167,
     "metadata": {},
     "output_type": "execute_result"
    }
   ],
   "source": [
    "# Encontre a soma do array abaixo, sem usar fórmulas fechadas.\n",
    "x = np.arange(0, 398, 1)\n",
    "\n",
    "x.sum()"
   ]
  },
  {
   "cell_type": "markdown",
   "id": "647f47d0",
   "metadata": {},
   "source": [
    "### Tipos de dados"
   ]
  },
  {
   "cell_type": "markdown",
   "id": "c7fadc82",
   "metadata": {},
   "source": [
    "Primeiro vamos falar do infinito (e além).\n",
    "\n",
    "Quando fazemos operações de ponto flutuante no computador, existe um padrão técnico (definido pela IEEE, o Instituto de Engenheiros Eletro-eletrônicos) que define algumas coisas que uma biblioteca tem que ter.\n",
    "\n",
    "Especificamente, aqui vamos falar de duas coisas:\n",
    "- Not a Number (NAN)\n",
    "- Infinito"
   ]
  },
  {
   "cell_type": "code",
   "execution_count": 172,
   "id": "032870fe",
   "metadata": {},
   "outputs": [
    {
     "ename": "ZeroDivisionError",
     "evalue": "division by zero",
     "output_type": "error",
     "traceback": [
      "\u001b[0;31m---------------------------------------------------------------------------\u001b[0m",
      "\u001b[0;31mZeroDivisionError\u001b[0m                         Traceback (most recent call last)",
      "\u001b[0;32m<ipython-input-172-3f4b84e49182>\u001b[0m in \u001b[0;36m<module>\u001b[0;34m\u001b[0m\n\u001b[1;32m      1\u001b[0m \u001b[0;31m# Not a Number é o resultado de operações inválidas.\u001b[0m\u001b[0;34m\u001b[0m\u001b[0;34m\u001b[0m\u001b[0;34m\u001b[0m\u001b[0m\n\u001b[1;32m      2\u001b[0m \u001b[0;31m# Embora ele exista no Python, operações inválidas tendem a levantar um erro.\u001b[0m\u001b[0;34m\u001b[0m\u001b[0;34m\u001b[0m\u001b[0;34m\u001b[0m\u001b[0m\n\u001b[0;32m----> 3\u001b[0;31m \u001b[0;36m0\u001b[0m\u001b[0;34m/\u001b[0m\u001b[0;36m0\u001b[0m\u001b[0;34m\u001b[0m\u001b[0;34m\u001b[0m\u001b[0m\n\u001b[0m",
      "\u001b[0;31mZeroDivisionError\u001b[0m: division by zero"
     ]
    }
   ],
   "source": [
    "# Not a Number é o resultado de operações inválidas.\n",
    "# Embora ele exista no Python, operações inválidas tendem a levantar um erro.\n",
    "0/0"
   ]
  },
  {
   "cell_type": "code",
   "execution_count": 173,
   "id": "7fb7f81a",
   "metadata": {},
   "outputs": [
    {
     "data": {
      "text/plain": [
       "nan"
      ]
     },
     "execution_count": 173,
     "metadata": {},
     "output_type": "execute_result"
    }
   ],
   "source": [
    "# Para usá-lo no python, temos que converter string para float.\n",
    "float('NaN')"
   ]
  },
  {
   "cell_type": "code",
   "execution_count": 174,
   "id": "70d63552",
   "metadata": {},
   "outputs": [
    {
     "name": "stdout",
     "output_type": "stream",
     "text": [
      "nan\n",
      "<class 'float'>\n"
     ]
    }
   ],
   "source": [
    "# No numpy, temos o objeto nan.\n",
    "print(np.nan)\n",
    "print(type(np.nan))"
   ]
  },
  {
   "cell_type": "code",
   "execution_count": 175,
   "id": "74b50191",
   "metadata": {},
   "outputs": [
    {
     "name": "stdout",
     "output_type": "stream",
     "text": [
      "[0.5 0.  0.5 nan]\n"
     ]
    },
    {
     "name": "stderr",
     "output_type": "stream",
     "text": [
      "/home/alexandre/miniconda3/envs/data_science/lib/python3.7/site-packages/ipykernel_launcher.py:5: RuntimeWarning: invalid value encountered in true_divide\n",
      "  \"\"\"\n"
     ]
    }
   ],
   "source": [
    "# Já no numpy, operações inválidas retornam NaN mesmo.\n",
    "x1 = np.array([1, 0, 1, 0])\n",
    "x2 = np.array([2, 1, 2, 0])\n",
    "\n",
    "print(x1 / x2)"
   ]
  },
  {
   "cell_type": "code",
   "execution_count": 176,
   "id": "466ce8f9",
   "metadata": {},
   "outputs": [
    {
     "ename": "ZeroDivisionError",
     "evalue": "division by zero",
     "output_type": "error",
     "traceback": [
      "\u001b[0;31m---------------------------------------------------------------------------\u001b[0m",
      "\u001b[0;31mZeroDivisionError\u001b[0m                         Traceback (most recent call last)",
      "\u001b[0;32m<ipython-input-176-3eb76aad140c>\u001b[0m in \u001b[0;36m<module>\u001b[0;34m\u001b[0m\n\u001b[1;32m      1\u001b[0m \u001b[0;31m# \"Infinito\", no padrão, pode ser pensado como um número que é maior que qualquer outro número.\u001b[0m\u001b[0;34m\u001b[0m\u001b[0;34m\u001b[0m\u001b[0;34m\u001b[0m\u001b[0m\n\u001b[1;32m      2\u001b[0m \u001b[0;31m# No caso de \"-infinito\", temos um número que é menor que qualquer outro número.\u001b[0m\u001b[0;34m\u001b[0m\u001b[0;34m\u001b[0m\u001b[0;34m\u001b[0m\u001b[0m\n\u001b[0;32m----> 3\u001b[0;31m \u001b[0;36m1\u001b[0m\u001b[0;34m/\u001b[0m\u001b[0;36m0\u001b[0m\u001b[0;34m\u001b[0m\u001b[0;34m\u001b[0m\u001b[0m\n\u001b[0m",
      "\u001b[0;31mZeroDivisionError\u001b[0m: division by zero"
     ]
    }
   ],
   "source": [
    "# \"Infinito\", no padrão, pode ser pensado como um número que é maior que qualquer outro número.\n",
    "# No caso de \"-infinito\", temos um número que é menor que qualquer outro número.\n",
    "1/0"
   ]
  },
  {
   "cell_type": "code",
   "execution_count": 177,
   "id": "0ace9a0a",
   "metadata": {},
   "outputs": [
    {
     "name": "stdout",
     "output_type": "stream",
     "text": [
      "inf\n",
      "True\n",
      "True\n"
     ]
    }
   ],
   "source": [
    "print(float('inf'))\n",
    "print(float('inf') > 293818943824723984.928)\n",
    "print(-float('inf') < -293818943824723984.928)"
   ]
  },
  {
   "cell_type": "code",
   "execution_count": 178,
   "id": "15e4e912",
   "metadata": {},
   "outputs": [
    {
     "name": "stdout",
     "output_type": "stream",
     "text": [
      "inf\n",
      "True\n",
      "True\n",
      "<class 'float'>\n"
     ]
    }
   ],
   "source": [
    "# No Numpy, não seria diferente.\n",
    "print(np.inf)\n",
    "print(np.inf > 293818943824723984.928)\n",
    "print(-np.inf < -293818943824723984.928)\n",
    "print(type(np.inf))"
   ]
  },
  {
   "cell_type": "code",
   "execution_count": 182,
   "id": "038542fa",
   "metadata": {},
   "outputs": [
    {
     "name": "stdout",
     "output_type": "stream",
     "text": [
      "[ 2. inf  2. nan]\n"
     ]
    },
    {
     "name": "stderr",
     "output_type": "stream",
     "text": [
      "/home/alexandre/miniconda3/envs/data_science/lib/python3.7/site-packages/ipykernel_launcher.py:5: RuntimeWarning: divide by zero encountered in true_divide\n",
      "  \"\"\"\n",
      "/home/alexandre/miniconda3/envs/data_science/lib/python3.7/site-packages/ipykernel_launcher.py:5: RuntimeWarning: invalid value encountered in true_divide\n",
      "  \"\"\"\n"
     ]
    }
   ],
   "source": [
    "# No numpy, algumas operações podem gerar infinitos.\n",
    "x1 = np.array([1, 0, 1, 0])\n",
    "x2 = np.array([2, 1, 2, 0])\n",
    "\n",
    "print(x2 / x1)"
   ]
  },
  {
   "cell_type": "code",
   "execution_count": 183,
   "id": "d88c910f",
   "metadata": {},
   "outputs": [
    {
     "data": {
      "text/plain": [
       "dtype('int64')"
      ]
     },
     "execution_count": 183,
     "metadata": {},
     "output_type": "execute_result"
    }
   ],
   "source": [
    "x1.dtype"
   ]
  },
  {
   "cell_type": "markdown",
   "id": "8be43a5f",
   "metadata": {},
   "source": [
    "Notou que tanto infinito quanto NaN são do tipo \"float\"? Não são float64, nem float32, nem anda assim.\n",
    "\n",
    "Isso é devido à hierarquia de dtypes do numpy.\n",
    "\n",
    "![hierarchy](https://numpy.org/doc/stable/_images/dtype-hierarchy.png)"
   ]
  },
  {
   "cell_type": "code",
   "execution_count": null,
   "id": "6f9458e3",
   "metadata": {},
   "outputs": [],
   "source": [
    "# No numpy, nós temos implementados tipos com maior ou menor acurácia.\n",
    "# Por exemplo, temos float16, float32, e float64, cada um com maior acurácia que o anterior.\n",
    "f16 = np.float16(\"0.1\")\n",
    "f32 = np.float32(\"0.1\")\n",
    "f64 = np.float64(\"0.1\")\n",
    "f16 == f32 == f64"
   ]
  },
  {
   "cell_type": "markdown",
   "id": "0976f33e",
   "metadata": {},
   "source": [
    "Mas todos os três são diferentes!\n",
    "\n",
    "Para saber mais:\n",
    "\n",
    "https://numpy.org/doc/stable/reference/arrays.scalars.html"
   ]
  },
  {
   "cell_type": "code",
   "execution_count": 184,
   "id": "7db69d93",
   "metadata": {},
   "outputs": [
    {
     "name": "stdout",
     "output_type": "stream",
     "text": [
      "int64\n"
     ]
    }
   ],
   "source": [
    "# Nós também podemos converter o dtype de um array!\n",
    "print(x1.dtype)"
   ]
  },
  {
   "cell_type": "code",
   "execution_count": 185,
   "id": "746b34a5",
   "metadata": {},
   "outputs": [
    {
     "name": "stdout",
     "output_type": "stream",
     "text": [
      "float32\n"
     ]
    }
   ],
   "source": [
    "print(x1.astype(np.float32).dtype)"
   ]
  },
  {
   "cell_type": "markdown",
   "id": "1ab174b9",
   "metadata": {},
   "source": [
    "### Broadcasting\n",
    "\n",
    "https://numpy.org/doc/stable/user/basics.broadcasting.html"
   ]
  },
  {
   "cell_type": "code",
   "execution_count": null,
   "id": "7e527e35",
   "metadata": {},
   "outputs": [],
   "source": [
    "# No numpy, nós conseguimos multiplicar arrays de tamanhos diferentes, \n",
    "# desde que faça sentido pensar no array menor \"caminhando\" pelo maior.\n",
    "\n",
    "# Pode pensar como se fosse o menor sendo duplicado, triplicado, etc...,\n",
    "# até os dois arrays terem mesmo tamanho."
   ]
  },
  {
   "cell_type": "markdown",
   "id": "0ee9dbd1",
   "metadata": {},
   "source": [
    "![broadcasting_ok](https://numpy.org/doc/stable/_images/broadcasting_2.png)"
   ]
  },
  {
   "cell_type": "markdown",
   "id": "34352fe0",
   "metadata": {},
   "source": [
    "![broadcasting_nok](https://numpy.org/doc/stable/_images/broadcasting_3.png)"
   ]
  },
  {
   "cell_type": "code",
   "execution_count": 186,
   "id": "a4b9c417",
   "metadata": {},
   "outputs": [],
   "source": [
    "a = np.array([[0,0,0],\n",
    "              [10, 10, 10],\n",
    "              [20, 20, 20],\n",
    "              [30, 30, 30]])\n",
    "\n",
    "b = np.array([1, 2, 3])\n",
    "c = np.array([1, 2, 3, 4])"
   ]
  },
  {
   "cell_type": "code",
   "execution_count": 187,
   "id": "4be7ace9",
   "metadata": {},
   "outputs": [
    {
     "data": {
      "text/plain": [
       "array([[ 0,  0,  0],\n",
       "       [10, 20, 30],\n",
       "       [20, 40, 60],\n",
       "       [30, 60, 90]])"
      ]
     },
     "execution_count": 187,
     "metadata": {},
     "output_type": "execute_result"
    }
   ],
   "source": [
    "a * b"
   ]
  },
  {
   "cell_type": "code",
   "execution_count": 188,
   "id": "2b02bb05",
   "metadata": {},
   "outputs": [
    {
     "ename": "ValueError",
     "evalue": "operands could not be broadcast together with shapes (4,3) (4,) ",
     "output_type": "error",
     "traceback": [
      "\u001b[0;31m---------------------------------------------------------------------------\u001b[0m",
      "\u001b[0;31mValueError\u001b[0m                                Traceback (most recent call last)",
      "\u001b[0;32m<ipython-input-188-3f6f667472ca>\u001b[0m in \u001b[0;36m<module>\u001b[0;34m\u001b[0m\n\u001b[0;32m----> 1\u001b[0;31m \u001b[0ma\u001b[0m \u001b[0;34m*\u001b[0m \u001b[0mc\u001b[0m\u001b[0;34m\u001b[0m\u001b[0;34m\u001b[0m\u001b[0m\n\u001b[0m",
      "\u001b[0;31mValueError\u001b[0m: operands could not be broadcast together with shapes (4,3) (4,) "
     ]
    }
   ],
   "source": [
    "a * c"
   ]
  }
 ],
 "metadata": {
  "kernelspec": {
   "display_name": "Python [conda env:data_science]",
   "language": "python",
   "name": "conda-env-data_science-py"
  },
  "language_info": {
   "codemirror_mode": {
    "name": "ipython",
    "version": 3
   },
   "file_extension": ".py",
   "mimetype": "text/x-python",
   "name": "python",
   "nbconvert_exporter": "python",
   "pygments_lexer": "ipython3",
   "version": "3.7.2"
  }
 },
 "nbformat": 4,
 "nbformat_minor": 5
}
