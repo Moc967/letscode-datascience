{
 "cells": [
  {
   "cell_type": "markdown",
   "id": "4f51956c",
   "metadata": {
    "pycharm": {
     "name": "#%% md\n"
    }
   },
   "source": [
    "# Aula 5 - Introdução a Pandas, pt4\n",
    "\n",
    "Hoje, vamos falar de exploração de dados usando o Pandas, e finalizar nosso processamento de dados."
   ]
  },
  {
   "cell_type": "markdown",
   "id": "7db9134f",
   "metadata": {
    "pycharm": {
     "name": "#%% md\n"
    }
   },
   "source": [
    "---"
   ]
  },
  {
   "cell_type": "markdown",
   "id": "44612acf",
   "metadata": {
    "pycharm": {
     "name": "#%% md\n"
    }
   },
   "source": [
    "## Reshaping"
   ]
  },
  {
   "cell_type": "code",
   "execution_count": null,
   "id": "f7370101",
   "metadata": {
    "pycharm": {
     "name": "#%%\n",
     "is_executing": true
    }
   },
   "outputs": [],
   "source": [
    "import numpy as np\n",
    "import pandas as pd"
   ]
  },
  {
   "cell_type": "code",
   "execution_count": 2,
   "id": "63d89672",
   "metadata": {
    "pycharm": {
     "name": "#%%\n"
    }
   },
   "outputs": [],
   "source": [
    "df = pd.read_table('/Users/magnovaldo/Documents/Training/lets_code/ds_boticario/boti_pipe/data/dados_religiao_income.txt',\n",
    "                   header=0, sep=' ')"
   ]
  },
  {
   "cell_type": "code",
   "execution_count": 3,
   "id": "1bbd1518",
   "metadata": {
    "pycharm": {
     "name": "#%%\n"
    }
   },
   "outputs": [
    {
     "data": {
      "text/plain": "                  religion  <$10k  $10-20k  $20-30k  $30-40k  $40-50k  $50-75k\n0                 Agnostic     27       34       60       81       76      137\n1                  Atheist     12       27       37       52       35       70\n2                 Buddhist     27       21       30       34       33       58\n3                 Catholic    418      617      732      670      638     1116\n4       Don’t know/refused     15       14       15       11       10       35\n5         Evangelical Prot    575      869     1064      982      881     1486\n6                    Hindu      1        9        7        9       11       34\n7  Historically Black Prot    228      244      236      238      197      223\n8        Jehovah’s Witness     20       27       24       24       21       30\n9                   Jewish     19       19       25       25       30       95",
      "text/html": "<div>\n<style scoped>\n    .dataframe tbody tr th:only-of-type {\n        vertical-align: middle;\n    }\n\n    .dataframe tbody tr th {\n        vertical-align: top;\n    }\n\n    .dataframe thead th {\n        text-align: right;\n    }\n</style>\n<table border=\"1\" class=\"dataframe\">\n  <thead>\n    <tr style=\"text-align: right;\">\n      <th></th>\n      <th>religion</th>\n      <th>&lt;$10k</th>\n      <th>$10-20k</th>\n      <th>$20-30k</th>\n      <th>$30-40k</th>\n      <th>$40-50k</th>\n      <th>$50-75k</th>\n    </tr>\n  </thead>\n  <tbody>\n    <tr>\n      <th>0</th>\n      <td>Agnostic</td>\n      <td>27</td>\n      <td>34</td>\n      <td>60</td>\n      <td>81</td>\n      <td>76</td>\n      <td>137</td>\n    </tr>\n    <tr>\n      <th>1</th>\n      <td>Atheist</td>\n      <td>12</td>\n      <td>27</td>\n      <td>37</td>\n      <td>52</td>\n      <td>35</td>\n      <td>70</td>\n    </tr>\n    <tr>\n      <th>2</th>\n      <td>Buddhist</td>\n      <td>27</td>\n      <td>21</td>\n      <td>30</td>\n      <td>34</td>\n      <td>33</td>\n      <td>58</td>\n    </tr>\n    <tr>\n      <th>3</th>\n      <td>Catholic</td>\n      <td>418</td>\n      <td>617</td>\n      <td>732</td>\n      <td>670</td>\n      <td>638</td>\n      <td>1116</td>\n    </tr>\n    <tr>\n      <th>4</th>\n      <td>Don’t know/refused</td>\n      <td>15</td>\n      <td>14</td>\n      <td>15</td>\n      <td>11</td>\n      <td>10</td>\n      <td>35</td>\n    </tr>\n    <tr>\n      <th>5</th>\n      <td>Evangelical Prot</td>\n      <td>575</td>\n      <td>869</td>\n      <td>1064</td>\n      <td>982</td>\n      <td>881</td>\n      <td>1486</td>\n    </tr>\n    <tr>\n      <th>6</th>\n      <td>Hindu</td>\n      <td>1</td>\n      <td>9</td>\n      <td>7</td>\n      <td>9</td>\n      <td>11</td>\n      <td>34</td>\n    </tr>\n    <tr>\n      <th>7</th>\n      <td>Historically Black Prot</td>\n      <td>228</td>\n      <td>244</td>\n      <td>236</td>\n      <td>238</td>\n      <td>197</td>\n      <td>223</td>\n    </tr>\n    <tr>\n      <th>8</th>\n      <td>Jehovah’s Witness</td>\n      <td>20</td>\n      <td>27</td>\n      <td>24</td>\n      <td>24</td>\n      <td>21</td>\n      <td>30</td>\n    </tr>\n    <tr>\n      <th>9</th>\n      <td>Jewish</td>\n      <td>19</td>\n      <td>19</td>\n      <td>25</td>\n      <td>25</td>\n      <td>30</td>\n      <td>95</td>\n    </tr>\n  </tbody>\n</table>\n</div>"
     },
     "execution_count": 3,
     "metadata": {},
     "output_type": "execute_result"
    }
   ],
   "source": [
    "df"
   ]
  },
  {
   "cell_type": "markdown",
   "id": "1376b3ff",
   "metadata": {
    "pycharm": {
     "name": "#%% md\n"
    }
   },
   "source": [
    "O potencial do pandas é melhor aproveitado quando usamos o conceito de \"tidy data\" para organizarmos nossos dados.\n",
    "\n",
    "Nos dados acima, eles estão pivoteados por segmentos de rendimento.\n",
    "\n",
    "Vamos então tentar ajustar isso."
   ]
  },
  {
   "cell_type": "code",
   "execution_count": 4,
   "id": "2b890cd2",
   "metadata": {
    "pycharm": {
     "name": "#%%\n"
    }
   },
   "outputs": [
    {
     "data": {
      "text/plain": "Index(['religion', '<$10k', '$10-20k', '$20-30k', '$30-40k', '$40-50k',\n       '$50-75k'],\n      dtype='object')"
     },
     "execution_count": 4,
     "metadata": {},
     "output_type": "execute_result"
    }
   ],
   "source": [
    "df.columns"
   ]
  },
  {
   "cell_type": "code",
   "execution_count": 5,
   "id": "1625d2b9",
   "metadata": {
    "pycharm": {
     "name": "#%%\n"
    }
   },
   "outputs": [
    {
     "data": {
      "text/plain": "['<$10k', '$10-20k', '$20-30k', '$30-40k', '$40-50k', '$50-75k']"
     },
     "execution_count": 5,
     "metadata": {},
     "output_type": "execute_result"
    }
   ],
   "source": [
    "value_cols = [col for col in df.columns if col != 'religion']\n",
    "value_cols"
   ]
  },
  {
   "cell_type": "code",
   "execution_count": 6,
   "id": "7d86e92f",
   "metadata": {
    "pycharm": {
     "name": "#%%\n"
    }
   },
   "outputs": [
    {
     "data": {
      "text/plain": "                   religion   income  freq\n0                  Agnostic    <$10k    27\n1                   Atheist    <$10k    12\n2                  Buddhist    <$10k    27\n3                  Catholic    <$10k   418\n4        Don’t know/refused    <$10k    15\n5          Evangelical Prot    <$10k   575\n6                     Hindu    <$10k     1\n7   Historically Black Prot    <$10k   228\n8         Jehovah’s Witness    <$10k    20\n9                    Jewish    <$10k    19\n10                 Agnostic  $10-20k    34\n11                  Atheist  $10-20k    27\n12                 Buddhist  $10-20k    21\n13                 Catholic  $10-20k   617\n14       Don’t know/refused  $10-20k    14\n15         Evangelical Prot  $10-20k   869\n16                    Hindu  $10-20k     9\n17  Historically Black Prot  $10-20k   244\n18        Jehovah’s Witness  $10-20k    27\n19                   Jewish  $10-20k    19\n20                 Agnostic  $20-30k    60\n21                  Atheist  $20-30k    37\n22                 Buddhist  $20-30k    30\n23                 Catholic  $20-30k   732\n24       Don’t know/refused  $20-30k    15\n25         Evangelical Prot  $20-30k  1064\n26                    Hindu  $20-30k     7\n27  Historically Black Prot  $20-30k   236\n28        Jehovah’s Witness  $20-30k    24\n29                   Jewish  $20-30k    25\n30                 Agnostic  $30-40k    81\n31                  Atheist  $30-40k    52\n32                 Buddhist  $30-40k    34\n33                 Catholic  $30-40k   670\n34       Don’t know/refused  $30-40k    11\n35         Evangelical Prot  $30-40k   982\n36                    Hindu  $30-40k     9\n37  Historically Black Prot  $30-40k   238\n38        Jehovah’s Witness  $30-40k    24\n39                   Jewish  $30-40k    25\n40                 Agnostic  $40-50k    76\n41                  Atheist  $40-50k    35\n42                 Buddhist  $40-50k    33\n43                 Catholic  $40-50k   638\n44       Don’t know/refused  $40-50k    10\n45         Evangelical Prot  $40-50k   881\n46                    Hindu  $40-50k    11\n47  Historically Black Prot  $40-50k   197\n48        Jehovah’s Witness  $40-50k    21\n49                   Jewish  $40-50k    30\n50                 Agnostic  $50-75k   137\n51                  Atheist  $50-75k    70\n52                 Buddhist  $50-75k    58\n53                 Catholic  $50-75k  1116\n54       Don’t know/refused  $50-75k    35\n55         Evangelical Prot  $50-75k  1486\n56                    Hindu  $50-75k    34\n57  Historically Black Prot  $50-75k   223\n58        Jehovah’s Witness  $50-75k    30\n59                   Jewish  $50-75k    95",
      "text/html": "<div>\n<style scoped>\n    .dataframe tbody tr th:only-of-type {\n        vertical-align: middle;\n    }\n\n    .dataframe tbody tr th {\n        vertical-align: top;\n    }\n\n    .dataframe thead th {\n        text-align: right;\n    }\n</style>\n<table border=\"1\" class=\"dataframe\">\n  <thead>\n    <tr style=\"text-align: right;\">\n      <th></th>\n      <th>religion</th>\n      <th>income</th>\n      <th>freq</th>\n    </tr>\n  </thead>\n  <tbody>\n    <tr>\n      <th>0</th>\n      <td>Agnostic</td>\n      <td>&lt;$10k</td>\n      <td>27</td>\n    </tr>\n    <tr>\n      <th>1</th>\n      <td>Atheist</td>\n      <td>&lt;$10k</td>\n      <td>12</td>\n    </tr>\n    <tr>\n      <th>2</th>\n      <td>Buddhist</td>\n      <td>&lt;$10k</td>\n      <td>27</td>\n    </tr>\n    <tr>\n      <th>3</th>\n      <td>Catholic</td>\n      <td>&lt;$10k</td>\n      <td>418</td>\n    </tr>\n    <tr>\n      <th>4</th>\n      <td>Don’t know/refused</td>\n      <td>&lt;$10k</td>\n      <td>15</td>\n    </tr>\n    <tr>\n      <th>5</th>\n      <td>Evangelical Prot</td>\n      <td>&lt;$10k</td>\n      <td>575</td>\n    </tr>\n    <tr>\n      <th>6</th>\n      <td>Hindu</td>\n      <td>&lt;$10k</td>\n      <td>1</td>\n    </tr>\n    <tr>\n      <th>7</th>\n      <td>Historically Black Prot</td>\n      <td>&lt;$10k</td>\n      <td>228</td>\n    </tr>\n    <tr>\n      <th>8</th>\n      <td>Jehovah’s Witness</td>\n      <td>&lt;$10k</td>\n      <td>20</td>\n    </tr>\n    <tr>\n      <th>9</th>\n      <td>Jewish</td>\n      <td>&lt;$10k</td>\n      <td>19</td>\n    </tr>\n    <tr>\n      <th>10</th>\n      <td>Agnostic</td>\n      <td>$10-20k</td>\n      <td>34</td>\n    </tr>\n    <tr>\n      <th>11</th>\n      <td>Atheist</td>\n      <td>$10-20k</td>\n      <td>27</td>\n    </tr>\n    <tr>\n      <th>12</th>\n      <td>Buddhist</td>\n      <td>$10-20k</td>\n      <td>21</td>\n    </tr>\n    <tr>\n      <th>13</th>\n      <td>Catholic</td>\n      <td>$10-20k</td>\n      <td>617</td>\n    </tr>\n    <tr>\n      <th>14</th>\n      <td>Don’t know/refused</td>\n      <td>$10-20k</td>\n      <td>14</td>\n    </tr>\n    <tr>\n      <th>15</th>\n      <td>Evangelical Prot</td>\n      <td>$10-20k</td>\n      <td>869</td>\n    </tr>\n    <tr>\n      <th>16</th>\n      <td>Hindu</td>\n      <td>$10-20k</td>\n      <td>9</td>\n    </tr>\n    <tr>\n      <th>17</th>\n      <td>Historically Black Prot</td>\n      <td>$10-20k</td>\n      <td>244</td>\n    </tr>\n    <tr>\n      <th>18</th>\n      <td>Jehovah’s Witness</td>\n      <td>$10-20k</td>\n      <td>27</td>\n    </tr>\n    <tr>\n      <th>19</th>\n      <td>Jewish</td>\n      <td>$10-20k</td>\n      <td>19</td>\n    </tr>\n    <tr>\n      <th>20</th>\n      <td>Agnostic</td>\n      <td>$20-30k</td>\n      <td>60</td>\n    </tr>\n    <tr>\n      <th>21</th>\n      <td>Atheist</td>\n      <td>$20-30k</td>\n      <td>37</td>\n    </tr>\n    <tr>\n      <th>22</th>\n      <td>Buddhist</td>\n      <td>$20-30k</td>\n      <td>30</td>\n    </tr>\n    <tr>\n      <th>23</th>\n      <td>Catholic</td>\n      <td>$20-30k</td>\n      <td>732</td>\n    </tr>\n    <tr>\n      <th>24</th>\n      <td>Don’t know/refused</td>\n      <td>$20-30k</td>\n      <td>15</td>\n    </tr>\n    <tr>\n      <th>25</th>\n      <td>Evangelical Prot</td>\n      <td>$20-30k</td>\n      <td>1064</td>\n    </tr>\n    <tr>\n      <th>26</th>\n      <td>Hindu</td>\n      <td>$20-30k</td>\n      <td>7</td>\n    </tr>\n    <tr>\n      <th>27</th>\n      <td>Historically Black Prot</td>\n      <td>$20-30k</td>\n      <td>236</td>\n    </tr>\n    <tr>\n      <th>28</th>\n      <td>Jehovah’s Witness</td>\n      <td>$20-30k</td>\n      <td>24</td>\n    </tr>\n    <tr>\n      <th>29</th>\n      <td>Jewish</td>\n      <td>$20-30k</td>\n      <td>25</td>\n    </tr>\n    <tr>\n      <th>30</th>\n      <td>Agnostic</td>\n      <td>$30-40k</td>\n      <td>81</td>\n    </tr>\n    <tr>\n      <th>31</th>\n      <td>Atheist</td>\n      <td>$30-40k</td>\n      <td>52</td>\n    </tr>\n    <tr>\n      <th>32</th>\n      <td>Buddhist</td>\n      <td>$30-40k</td>\n      <td>34</td>\n    </tr>\n    <tr>\n      <th>33</th>\n      <td>Catholic</td>\n      <td>$30-40k</td>\n      <td>670</td>\n    </tr>\n    <tr>\n      <th>34</th>\n      <td>Don’t know/refused</td>\n      <td>$30-40k</td>\n      <td>11</td>\n    </tr>\n    <tr>\n      <th>35</th>\n      <td>Evangelical Prot</td>\n      <td>$30-40k</td>\n      <td>982</td>\n    </tr>\n    <tr>\n      <th>36</th>\n      <td>Hindu</td>\n      <td>$30-40k</td>\n      <td>9</td>\n    </tr>\n    <tr>\n      <th>37</th>\n      <td>Historically Black Prot</td>\n      <td>$30-40k</td>\n      <td>238</td>\n    </tr>\n    <tr>\n      <th>38</th>\n      <td>Jehovah’s Witness</td>\n      <td>$30-40k</td>\n      <td>24</td>\n    </tr>\n    <tr>\n      <th>39</th>\n      <td>Jewish</td>\n      <td>$30-40k</td>\n      <td>25</td>\n    </tr>\n    <tr>\n      <th>40</th>\n      <td>Agnostic</td>\n      <td>$40-50k</td>\n      <td>76</td>\n    </tr>\n    <tr>\n      <th>41</th>\n      <td>Atheist</td>\n      <td>$40-50k</td>\n      <td>35</td>\n    </tr>\n    <tr>\n      <th>42</th>\n      <td>Buddhist</td>\n      <td>$40-50k</td>\n      <td>33</td>\n    </tr>\n    <tr>\n      <th>43</th>\n      <td>Catholic</td>\n      <td>$40-50k</td>\n      <td>638</td>\n    </tr>\n    <tr>\n      <th>44</th>\n      <td>Don’t know/refused</td>\n      <td>$40-50k</td>\n      <td>10</td>\n    </tr>\n    <tr>\n      <th>45</th>\n      <td>Evangelical Prot</td>\n      <td>$40-50k</td>\n      <td>881</td>\n    </tr>\n    <tr>\n      <th>46</th>\n      <td>Hindu</td>\n      <td>$40-50k</td>\n      <td>11</td>\n    </tr>\n    <tr>\n      <th>47</th>\n      <td>Historically Black Prot</td>\n      <td>$40-50k</td>\n      <td>197</td>\n    </tr>\n    <tr>\n      <th>48</th>\n      <td>Jehovah’s Witness</td>\n      <td>$40-50k</td>\n      <td>21</td>\n    </tr>\n    <tr>\n      <th>49</th>\n      <td>Jewish</td>\n      <td>$40-50k</td>\n      <td>30</td>\n    </tr>\n    <tr>\n      <th>50</th>\n      <td>Agnostic</td>\n      <td>$50-75k</td>\n      <td>137</td>\n    </tr>\n    <tr>\n      <th>51</th>\n      <td>Atheist</td>\n      <td>$50-75k</td>\n      <td>70</td>\n    </tr>\n    <tr>\n      <th>52</th>\n      <td>Buddhist</td>\n      <td>$50-75k</td>\n      <td>58</td>\n    </tr>\n    <tr>\n      <th>53</th>\n      <td>Catholic</td>\n      <td>$50-75k</td>\n      <td>1116</td>\n    </tr>\n    <tr>\n      <th>54</th>\n      <td>Don’t know/refused</td>\n      <td>$50-75k</td>\n      <td>35</td>\n    </tr>\n    <tr>\n      <th>55</th>\n      <td>Evangelical Prot</td>\n      <td>$50-75k</td>\n      <td>1486</td>\n    </tr>\n    <tr>\n      <th>56</th>\n      <td>Hindu</td>\n      <td>$50-75k</td>\n      <td>34</td>\n    </tr>\n    <tr>\n      <th>57</th>\n      <td>Historically Black Prot</td>\n      <td>$50-75k</td>\n      <td>223</td>\n    </tr>\n    <tr>\n      <th>58</th>\n      <td>Jehovah’s Witness</td>\n      <td>$50-75k</td>\n      <td>30</td>\n    </tr>\n    <tr>\n      <th>59</th>\n      <td>Jewish</td>\n      <td>$50-75k</td>\n      <td>95</td>\n    </tr>\n  </tbody>\n</table>\n</div>"
     },
     "execution_count": 6,
     "metadata": {},
     "output_type": "execute_result"
    }
   ],
   "source": [
    "# Nosso novo dataframe agora terá o formato de tidy data.\n",
    "new_df = pd.melt(df, id_vars=['religion'], \n",
    "                 value_vars=value_cols,\n",
    "                 var_name='income', \n",
    "                 value_name='freq')\n",
    "\n",
    "new_df"
   ]
  },
  {
   "cell_type": "code",
   "execution_count": 7,
   "id": "f1295a46",
   "metadata": {
    "pycharm": {
     "name": "#%%\n"
    }
   },
   "outputs": [
    {
     "data": {
      "text/plain": "income                   $10-20k  $20-30k  $30-40k  $40-50k  $50-75k  <$10k\nreligion                                                                   \nAgnostic                      34       60       81       76      137     27\nAtheist                       27       37       52       35       70     12\nBuddhist                      21       30       34       33       58     27\nCatholic                     617      732      670      638     1116    418\nDon’t know/refused            14       15       11       10       35     15\nEvangelical Prot             869     1064      982      881     1486    575\nHindu                          9        7        9       11       34      1\nHistorically Black Prot      244      236      238      197      223    228\nJehovah’s Witness             27       24       24       21       30     20\nJewish                        19       25       25       30       95     19",
      "text/html": "<div>\n<style scoped>\n    .dataframe tbody tr th:only-of-type {\n        vertical-align: middle;\n    }\n\n    .dataframe tbody tr th {\n        vertical-align: top;\n    }\n\n    .dataframe thead th {\n        text-align: right;\n    }\n</style>\n<table border=\"1\" class=\"dataframe\">\n  <thead>\n    <tr style=\"text-align: right;\">\n      <th>income</th>\n      <th>$10-20k</th>\n      <th>$20-30k</th>\n      <th>$30-40k</th>\n      <th>$40-50k</th>\n      <th>$50-75k</th>\n      <th>&lt;$10k</th>\n    </tr>\n    <tr>\n      <th>religion</th>\n      <th></th>\n      <th></th>\n      <th></th>\n      <th></th>\n      <th></th>\n      <th></th>\n    </tr>\n  </thead>\n  <tbody>\n    <tr>\n      <th>Agnostic</th>\n      <td>34</td>\n      <td>60</td>\n      <td>81</td>\n      <td>76</td>\n      <td>137</td>\n      <td>27</td>\n    </tr>\n    <tr>\n      <th>Atheist</th>\n      <td>27</td>\n      <td>37</td>\n      <td>52</td>\n      <td>35</td>\n      <td>70</td>\n      <td>12</td>\n    </tr>\n    <tr>\n      <th>Buddhist</th>\n      <td>21</td>\n      <td>30</td>\n      <td>34</td>\n      <td>33</td>\n      <td>58</td>\n      <td>27</td>\n    </tr>\n    <tr>\n      <th>Catholic</th>\n      <td>617</td>\n      <td>732</td>\n      <td>670</td>\n      <td>638</td>\n      <td>1116</td>\n      <td>418</td>\n    </tr>\n    <tr>\n      <th>Don’t know/refused</th>\n      <td>14</td>\n      <td>15</td>\n      <td>11</td>\n      <td>10</td>\n      <td>35</td>\n      <td>15</td>\n    </tr>\n    <tr>\n      <th>Evangelical Prot</th>\n      <td>869</td>\n      <td>1064</td>\n      <td>982</td>\n      <td>881</td>\n      <td>1486</td>\n      <td>575</td>\n    </tr>\n    <tr>\n      <th>Hindu</th>\n      <td>9</td>\n      <td>7</td>\n      <td>9</td>\n      <td>11</td>\n      <td>34</td>\n      <td>1</td>\n    </tr>\n    <tr>\n      <th>Historically Black Prot</th>\n      <td>244</td>\n      <td>236</td>\n      <td>238</td>\n      <td>197</td>\n      <td>223</td>\n      <td>228</td>\n    </tr>\n    <tr>\n      <th>Jehovah’s Witness</th>\n      <td>27</td>\n      <td>24</td>\n      <td>24</td>\n      <td>21</td>\n      <td>30</td>\n      <td>20</td>\n    </tr>\n    <tr>\n      <th>Jewish</th>\n      <td>19</td>\n      <td>25</td>\n      <td>25</td>\n      <td>30</td>\n      <td>95</td>\n      <td>19</td>\n    </tr>\n  </tbody>\n</table>\n</div>"
     },
     "execution_count": 7,
     "metadata": {},
     "output_type": "execute_result"
    }
   ],
   "source": [
    "# Podemos voltar para o formato anterior, que facilita apresentações para o negócio.\n",
    "# Usamos o método pivot.\n",
    "new_df.pivot(index='religion', columns='income', values='freq')"
   ]
  },
  {
   "cell_type": "markdown",
   "id": "d05140f2",
   "metadata": {
    "pycharm": {
     "name": "#%% md\n"
    }
   },
   "source": [
    "Também podemos juntar dataframes do Pandas, usando o método \"concat\"."
   ]
  },
  {
   "cell_type": "code",
   "execution_count": 9,
   "id": "4c01f6ca",
   "metadata": {
    "pycharm": {
     "name": "#%%\n"
    }
   },
   "outputs": [],
   "source": [
    "df1 = pd.DataFrame({'nome':['eu', 'tu', 'ele/ela'],\n",
    "                    'val':[1, 1, 1]})\n",
    "\n",
    "df2 = pd.DataFrame({'nome':['nós', 'vós', 'eles/elas'],\n",
    "                    'val':[2, 2, 2]})"
   ]
  },
  {
   "cell_type": "code",
   "execution_count": 10,
   "id": "e6271650",
   "metadata": {
    "pycharm": {
     "name": "#%%\n"
    }
   },
   "outputs": [
    {
     "data": {
      "text/plain": "        nome  val\n0         eu    1\n1         tu    1\n2    ele/ela    1\n0        nós    2\n1        vós    2\n2  eles/elas    2",
      "text/html": "<div>\n<style scoped>\n    .dataframe tbody tr th:only-of-type {\n        vertical-align: middle;\n    }\n\n    .dataframe tbody tr th {\n        vertical-align: top;\n    }\n\n    .dataframe thead th {\n        text-align: right;\n    }\n</style>\n<table border=\"1\" class=\"dataframe\">\n  <thead>\n    <tr style=\"text-align: right;\">\n      <th></th>\n      <th>nome</th>\n      <th>val</th>\n    </tr>\n  </thead>\n  <tbody>\n    <tr>\n      <th>0</th>\n      <td>eu</td>\n      <td>1</td>\n    </tr>\n    <tr>\n      <th>1</th>\n      <td>tu</td>\n      <td>1</td>\n    </tr>\n    <tr>\n      <th>2</th>\n      <td>ele/ela</td>\n      <td>1</td>\n    </tr>\n    <tr>\n      <th>0</th>\n      <td>nós</td>\n      <td>2</td>\n    </tr>\n    <tr>\n      <th>1</th>\n      <td>vós</td>\n      <td>2</td>\n    </tr>\n    <tr>\n      <th>2</th>\n      <td>eles/elas</td>\n      <td>2</td>\n    </tr>\n  </tbody>\n</table>\n</div>"
     },
     "execution_count": 10,
     "metadata": {},
     "output_type": "execute_result"
    }
   ],
   "source": [
    "pd.concat([df1, df2])"
   ]
  },
  {
   "cell_type": "markdown",
   "id": "6e36495e",
   "metadata": {
    "pycharm": {
     "name": "#%% md\n"
    }
   },
   "source": [
    "Caso se queira colocar um do lado do outro, invés de em cima, usamos o parâmetro \"axis\"."
   ]
  },
  {
   "cell_type": "markdown",
   "id": "8c30e202",
   "metadata": {
    "pycharm": {
     "name": "#%% md\n"
    }
   },
   "source": [
    "## Exploração de dados: Estatísticas"
   ]
  },
  {
   "cell_type": "code",
   "execution_count": null,
   "id": "62e39ca4",
   "metadata": {
    "pycharm": {
     "name": "#%%\n"
    }
   },
   "outputs": [],
   "source": [
    "df = pd.read_table('dados_parciais.txt', sep=';', decimal=',')"
   ]
  },
  {
   "cell_type": "code",
   "execution_count": null,
   "id": "d2c16cfb",
   "metadata": {
    "pycharm": {
     "name": "#%%\n"
    }
   },
   "outputs": [],
   "source": [
    "df.head(3)"
   ]
  },
  {
   "cell_type": "code",
   "execution_count": 13,
   "outputs": [
    {
     "data": {
      "text/plain": "        <$10k  $10-20k  $20-30k  $30-40k  $40-50k  $50-75k\ncount  10.000   10.000   10.000   10.000   10.000   10.000\nmean  134.200  188.100  223.000  212.600  193.200  328.400\nstd   205.433  306.461  370.236  338.248  308.834  523.265\nmin     1.000    9.000    7.000    9.000   10.000   30.000\n25%    16.000   19.500   24.250   24.250   23.250   40.750\n50%    23.500   27.000   33.500   43.000   34.000   82.500\n75%   177.750  191.500  192.000  198.750  166.750  201.500\nmax   575.000  869.000 1064.000  982.000  881.000 1486.000",
      "text/html": "<div>\n<style scoped>\n    .dataframe tbody tr th:only-of-type {\n        vertical-align: middle;\n    }\n\n    .dataframe tbody tr th {\n        vertical-align: top;\n    }\n\n    .dataframe thead th {\n        text-align: right;\n    }\n</style>\n<table border=\"1\" class=\"dataframe\">\n  <thead>\n    <tr style=\"text-align: right;\">\n      <th></th>\n      <th>&lt;$10k</th>\n      <th>$10-20k</th>\n      <th>$20-30k</th>\n      <th>$30-40k</th>\n      <th>$40-50k</th>\n      <th>$50-75k</th>\n    </tr>\n  </thead>\n  <tbody>\n    <tr>\n      <th>count</th>\n      <td>10.000</td>\n      <td>10.000</td>\n      <td>10.000</td>\n      <td>10.000</td>\n      <td>10.000</td>\n      <td>10.000</td>\n    </tr>\n    <tr>\n      <th>mean</th>\n      <td>134.200</td>\n      <td>188.100</td>\n      <td>223.000</td>\n      <td>212.600</td>\n      <td>193.200</td>\n      <td>328.400</td>\n    </tr>\n    <tr>\n      <th>std</th>\n      <td>205.433</td>\n      <td>306.461</td>\n      <td>370.236</td>\n      <td>338.248</td>\n      <td>308.834</td>\n      <td>523.265</td>\n    </tr>\n    <tr>\n      <th>min</th>\n      <td>1.000</td>\n      <td>9.000</td>\n      <td>7.000</td>\n      <td>9.000</td>\n      <td>10.000</td>\n      <td>30.000</td>\n    </tr>\n    <tr>\n      <th>25%</th>\n      <td>16.000</td>\n      <td>19.500</td>\n      <td>24.250</td>\n      <td>24.250</td>\n      <td>23.250</td>\n      <td>40.750</td>\n    </tr>\n    <tr>\n      <th>50%</th>\n      <td>23.500</td>\n      <td>27.000</td>\n      <td>33.500</td>\n      <td>43.000</td>\n      <td>34.000</td>\n      <td>82.500</td>\n    </tr>\n    <tr>\n      <th>75%</th>\n      <td>177.750</td>\n      <td>191.500</td>\n      <td>192.000</td>\n      <td>198.750</td>\n      <td>166.750</td>\n      <td>201.500</td>\n    </tr>\n    <tr>\n      <th>max</th>\n      <td>575.000</td>\n      <td>869.000</td>\n      <td>1064.000</td>\n      <td>982.000</td>\n      <td>881.000</td>\n      <td>1486.000</td>\n    </tr>\n  </tbody>\n</table>\n</div>"
     },
     "execution_count": 13,
     "metadata": {},
     "output_type": "execute_result"
    }
   ],
   "source": [
    "df.describe()"
   ],
   "metadata": {
    "collapsed": false,
    "pycharm": {
     "name": "#%%\n"
    }
   }
  },
  {
   "cell_type": "code",
   "execution_count": 12,
   "id": "b44ad19f",
   "metadata": {
    "pycharm": {
     "name": "#%%\n"
    }
   },
   "outputs": [
    {
     "data": {
      "text/plain": "        <$10k  $10-20k  $20-30k  $30-40k  $40-50k  $50-75k\ncount  10.000   10.000   10.000   10.000   10.000   10.000\nmean  134.200  188.100  223.000  212.600  193.200  328.400\nstd   205.433  306.461  370.236  338.248  308.834  523.265\nmin     1.000    9.000    7.000    9.000   10.000   30.000\n25%    16.000   19.500   24.250   24.250   23.250   40.750\n50%    23.500   27.000   33.500   43.000   34.000   82.500\n75%   177.750  191.500  192.000  198.750  166.750  201.500\nmax   575.000  869.000 1064.000  982.000  881.000 1486.000",
      "text/html": "<div>\n<style scoped>\n    .dataframe tbody tr th:only-of-type {\n        vertical-align: middle;\n    }\n\n    .dataframe tbody tr th {\n        vertical-align: top;\n    }\n\n    .dataframe thead th {\n        text-align: right;\n    }\n</style>\n<table border=\"1\" class=\"dataframe\">\n  <thead>\n    <tr style=\"text-align: right;\">\n      <th></th>\n      <th>&lt;$10k</th>\n      <th>$10-20k</th>\n      <th>$20-30k</th>\n      <th>$30-40k</th>\n      <th>$40-50k</th>\n      <th>$50-75k</th>\n    </tr>\n  </thead>\n  <tbody>\n    <tr>\n      <th>count</th>\n      <td>10.000</td>\n      <td>10.000</td>\n      <td>10.000</td>\n      <td>10.000</td>\n      <td>10.000</td>\n      <td>10.000</td>\n    </tr>\n    <tr>\n      <th>mean</th>\n      <td>134.200</td>\n      <td>188.100</td>\n      <td>223.000</td>\n      <td>212.600</td>\n      <td>193.200</td>\n      <td>328.400</td>\n    </tr>\n    <tr>\n      <th>std</th>\n      <td>205.433</td>\n      <td>306.461</td>\n      <td>370.236</td>\n      <td>338.248</td>\n      <td>308.834</td>\n      <td>523.265</td>\n    </tr>\n    <tr>\n      <th>min</th>\n      <td>1.000</td>\n      <td>9.000</td>\n      <td>7.000</td>\n      <td>9.000</td>\n      <td>10.000</td>\n      <td>30.000</td>\n    </tr>\n    <tr>\n      <th>25%</th>\n      <td>16.000</td>\n      <td>19.500</td>\n      <td>24.250</td>\n      <td>24.250</td>\n      <td>23.250</td>\n      <td>40.750</td>\n    </tr>\n    <tr>\n      <th>50%</th>\n      <td>23.500</td>\n      <td>27.000</td>\n      <td>33.500</td>\n      <td>43.000</td>\n      <td>34.000</td>\n      <td>82.500</td>\n    </tr>\n    <tr>\n      <th>75%</th>\n      <td>177.750</td>\n      <td>191.500</td>\n      <td>192.000</td>\n      <td>198.750</td>\n      <td>166.750</td>\n      <td>201.500</td>\n    </tr>\n    <tr>\n      <th>max</th>\n      <td>575.000</td>\n      <td>869.000</td>\n      <td>1064.000</td>\n      <td>982.000</td>\n      <td>881.000</td>\n      <td>1486.000</td>\n    </tr>\n  </tbody>\n</table>\n</div>"
     },
     "execution_count": 12,
     "metadata": {},
     "output_type": "execute_result"
    }
   ],
   "source": [
    "# Podemos sumarizar algumas estatísticas de várias colunas de uma única vez.\n",
    "pd.set_option('display.float_format', lambda x: '%.3f' % x)\n",
    "df.describe()\n"
   ]
  },
  {
   "cell_type": "code",
   "execution_count": null,
   "id": "59ef60e8",
   "metadata": {
    "pycharm": {
     "name": "#%%\n"
    }
   },
   "outputs": [],
   "source": [
    "# Também podemos fazer uma estatística de cada vez.\n",
    "df.mean()"
   ]
  },
  {
   "cell_type": "code",
   "execution_count": null,
   "id": "81302f70",
   "metadata": {
    "pycharm": {
     "name": "#%%\n"
    }
   },
   "outputs": [],
   "source": [
    "df.quantile([0.25, 0.75])"
   ]
  },
  {
   "cell_type": "code",
   "execution_count": null,
   "id": "7842fec7",
   "metadata": {
    "pycharm": {
     "name": "#%%\n"
    }
   },
   "outputs": [],
   "source": [
    "df.min(numeric_only=True)"
   ]
  },
  {
   "cell_type": "code",
   "execution_count": null,
   "id": "2fc95ada",
   "metadata": {
    "pycharm": {
     "name": "#%%\n"
    }
   },
   "outputs": [],
   "source": [
    "# Se quisermos estatísticas separadas para cada UF, podemos usar o groupby.\n",
    "df.groupby('regiao').mean(numeric_only=True)"
   ]
  },
  {
   "cell_type": "code",
   "execution_count": null,
   "id": "76ba0c34",
   "metadata": {
    "pycharm": {
     "name": "#%%\n"
    }
   },
   "outputs": [],
   "source": [
    "# Nós também podemos juntar tabelas diferentes, usando o método \"merge\"\n",
    "df_muni = pd.read_table('dados/populacao_brasileira_por_municipio.txt',\n",
    "                        sep=';',\n",
    "                        thousands='.')"
   ]
  },
  {
   "cell_type": "code",
   "execution_count": null,
   "id": "eba7b617",
   "metadata": {
    "pycharm": {
     "name": "#%%\n"
    }
   },
   "outputs": [],
   "source": [
    "df_muni.head(10)"
   ]
  },
  {
   "cell_type": "code",
   "execution_count": null,
   "id": "72db6d5f",
   "metadata": {
    "pycharm": {
     "name": "#%%\n"
    }
   },
   "outputs": [],
   "source": [
    "# Vamos colocar a região de cada UF na tabela acima, e \n",
    "# encontrar a população média por município para cada região.\n",
    "df.uf"
   ]
  },
  {
   "cell_type": "markdown",
   "id": "07332f47",
   "metadata": {
    "pycharm": {
     "name": "#%% md\n"
    }
   },
   "source": [
    "Perceba que temos Ilhas, Litígio e que tem duas estrelas em pernambuco. Vamos limpar isso primeiro."
   ]
  },
  {
   "cell_type": "code",
   "execution_count": null,
   "id": "85b0e500",
   "metadata": {
    "pycharm": {
     "name": "#%%\n"
    }
   },
   "outputs": [],
   "source": [
    "df2 = df.loc[~df.uf.isin(['Ilhas***', 'Litígio*'])].copy()"
   ]
  },
  {
   "cell_type": "code",
   "execution_count": null,
   "id": "271a0d45",
   "metadata": {
    "scrolled": true,
    "pycharm": {
     "name": "#%%\n"
    }
   },
   "outputs": [],
   "source": [
    "df2.uf"
   ]
  },
  {
   "cell_type": "code",
   "execution_count": null,
   "id": "29452022",
   "metadata": {
    "pycharm": {
     "name": "#%%\n"
    }
   },
   "outputs": [],
   "source": [
    "df2.at[13, 'uf'] = 'PE'"
   ]
  },
  {
   "cell_type": "code",
   "execution_count": null,
   "id": "799de208",
   "metadata": {
    "pycharm": {
     "name": "#%%\n"
    }
   },
   "outputs": [],
   "source": [
    "df2"
   ]
  },
  {
   "cell_type": "code",
   "execution_count": null,
   "id": "75c04146",
   "metadata": {
    "pycharm": {
     "name": "#%%\n"
    }
   },
   "outputs": [],
   "source": [
    "df3 = df2[['regiao', 'uf']].copy()"
   ]
  },
  {
   "cell_type": "code",
   "execution_count": null,
   "id": "d5807aaa",
   "metadata": {
    "pycharm": {
     "name": "#%%\n"
    }
   },
   "outputs": [],
   "source": [
    "df3"
   ]
  },
  {
   "cell_type": "code",
   "execution_count": null,
   "id": "4c6aa8ca",
   "metadata": {
    "pycharm": {
     "name": "#%%\n"
    }
   },
   "outputs": [],
   "source": [
    "df_reg = df_muni.merge(df3, left_on=['UF'], right_on=['uf'], how='left')"
   ]
  },
  {
   "cell_type": "code",
   "execution_count": null,
   "id": "0da58d68",
   "metadata": {
    "pycharm": {
     "name": "#%%\n"
    }
   },
   "outputs": [],
   "source": [
    "df_reg"
   ]
  },
  {
   "cell_type": "code",
   "execution_count": null,
   "id": "de92db92",
   "metadata": {
    "pycharm": {
     "name": "#%%\n"
    }
   },
   "outputs": [],
   "source": [
    "df_reg.groupby('regiao').agg({'POPULAÇÃO ESTIMADA':['mean', 'std']})"
   ]
  }
 ],
 "metadata": {
  "kernelspec": {
   "name": "python3",
   "language": "python",
   "display_name": "Python 3 (ipykernel)"
  },
  "language_info": {
   "codemirror_mode": {
    "name": "ipython",
    "version": 3
   },
   "file_extension": ".py",
   "mimetype": "text/x-python",
   "name": "python",
   "nbconvert_exporter": "python",
   "pygments_lexer": "ipython3",
   "version": "3.7.2"
  }
 },
 "nbformat": 4,
 "nbformat_minor": 5
}