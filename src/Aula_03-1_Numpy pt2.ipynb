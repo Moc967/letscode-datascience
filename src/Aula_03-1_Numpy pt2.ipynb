{
 "cells": [
  {
   "cell_type": "markdown",
   "id": "b63823cb",
   "metadata": {},
   "source": [
    "# Aula 3.1 - Numpy pt2\n",
    "\n",
    "Na última aula, vimos o básico da biblioteca NumPy, utilizada para computação científica. Hoje, vamos tentar sedimentar nosso conhecimento com uma rápida revisão, e depois conversar um pouco sobre maiores detalhes da biblioteca. "
   ]
  },
  {
   "cell_type": "markdown",
   "id": "f6d42e0e",
   "metadata": {},
   "source": [
    "---"
   ]
  },
  {
   "cell_type": "markdown",
   "id": "6cb31112",
   "metadata": {},
   "source": [
    "## Revisão"
   ]
  },
  {
   "cell_type": "code",
   "execution_count": null,
   "id": "55d1ce62",
   "metadata": {},
   "outputs": [],
   "source": [
    "# Lembrando do import do numpy como \"np\"\n",
    "import numpy as np"
   ]
  },
  {
   "cell_type": "code",
   "execution_count": null,
   "id": "a264200a",
   "metadata": {},
   "outputs": [],
   "source": [
    "# A estrutura de dados básica do numpy é o \"ndarray\"\n",
    "var = np.array([[[1, 2, 3],\n",
    "                 [4, 5, 6],\n",
    "                 [7, 8, 9]],\n",
    "                [[-1, 0, 0],\n",
    "                 [0, -1, 0],\n",
    "                 [0,  0, 1]],])\n",
    "\n",
    "# Ela possui atributos básicos de dimensão, formato, número de elementos,\n",
    "# e tipo dos elementos\n",
    "print(\"Dimensões:\",var.ndim)\n",
    "print(\"Formato:\",var.shape)\n",
    "print(\"Número de elementos:\",var.size)\n",
    "print(\"Tipo dos elementos:\",var.dtype)"
   ]
  },
  {
   "cell_type": "code",
   "execution_count": null,
   "id": "751652cc",
   "metadata": {},
   "outputs": [],
   "source": [
    "# Nós também podemos criar alguns arrays específicos com métodos pré-definidos\n",
    "print(\"Array de zeros\")\n",
    "arr_zero = np.zeros((2,3,2))\n",
    "print(arr_zero) # Criar um array de zeros\n",
    "print('-----')\n",
    "print(\"Array de uns\")\n",
    "arr_uns = np.ones((4, 5))\n",
    "print(arr_uns) # Criar um array de zeros\n",
    "print('-----')\n",
    "\n",
    "# O numpy tem muitos mais métodos do que os que vimos. \n",
    "# É bom sempre olharmos na documentação ou na internet se precisarmos de algum específico\n",
    "# que não sabemos se existe.\n",
    "print(\"Array com todos os elementos 29.123\")\n",
    "arr_float = np.full((4, 5), fill_value=29.123, dtype=np.float64)\n",
    "print(arr_float)"
   ]
  },
  {
   "cell_type": "code",
   "execution_count": null,
   "id": "4eeddc7c",
   "metadata": {},
   "outputs": [],
   "source": [
    "# Também aprendemos sobre indexação (indexing) e fatiamento (slicing)\n",
    "print(var[0,:,1])\n",
    "print(var[0,::-1,1])\n",
    "print(var[0,1,:])\n",
    "print(var[:,1,1])\n",
    "print(var[[0, 0, 1, 1],[0, 1, 0, 1],[0, 1, 0, 1]]) #Podemos também usar indexação por listas"
   ]
  },
  {
   "cell_type": "code",
   "execution_count": null,
   "id": "53882a9a",
   "metadata": {},
   "outputs": [],
   "source": [
    "# Podemos passar máscaras booleanas para o nosso array\n",
    "print(var[var > 0])"
   ]
  },
  {
   "cell_type": "code",
   "execution_count": null,
   "id": "f6409aa4",
   "metadata": {},
   "outputs": [],
   "source": [
    "# Por fim, temos também as operações matemáticas básicas\n",
    "vec1 = np.array([1, 2, 0])\n",
    "vec2 = np.array([0, 1, 1])\n",
    "matriz = np.array([[-1, 0, 0],\n",
    "                   [0, -1, 0],\n",
    "                   [0, 0, 1]])\n",
    "\n",
    "print(vec1 + vec2) # Soma é elemento a elemento\n",
    "print(vec1 - vec2) # Subtração também\n",
    "print(vec1 * vec2) # Multiplicação também\n",
    "print(vec1 / vec2) # Divisão também\n",
    "\n",
    "print(vec2 @ vec1) # Produto matricial e produto interno\n",
    "print((matriz @ vec1) @ vec1) # Produto matricial e produto interno"
   ]
  },
  {
   "cell_type": "markdown",
   "id": "2bc36591",
   "metadata": {},
   "source": [
    "## Mais detalhes\n",
    "\n",
    "Vamos agora ver alguns detalhes extras da biblioteca que nos ajudam bastante a usá-la em momentos não triviais."
   ]
  },
  {
   "cell_type": "markdown",
   "id": "dc23b2b0",
   "metadata": {},
   "source": [
    "### Manipulação de arrays"
   ]
  },
  {
   "cell_type": "code",
   "execution_count": null,
   "id": "8a38e1ac",
   "metadata": {},
   "outputs": [],
   "source": [
    "# Transforme o vetor abaixo em uma matriz 3x3\n",
    "x = np.array([0.1, 0.4, 1.0, 0.2, 0.7, 1.2, 1.1, 1.0, 0.9])"
   ]
  },
  {
   "cell_type": "code",
   "execution_count": null,
   "outputs": [],
   "source": [],
   "metadata": {
    "collapsed": false,
    "pycharm": {
     "name": "#%%\n"
    }
   }
  },
  {
   "cell_type": "code",
   "execution_count": null,
   "outputs": [],
   "source": [
    "# Transforme a matriz abaixo em uma lista de valores crescentes\n",
    "x = np.array([[1, 2, 3],\n",
    "              [4, 5, 6],\n",
    "              [7, 8, 9]])"
   ],
   "metadata": {
    "collapsed": false,
    "pycharm": {
     "name": "#%%\n"
    }
   }
  },
  {
   "cell_type": "code",
   "execution_count": null,
   "outputs": [],
   "source": [],
   "metadata": {
    "collapsed": false,
    "pycharm": {
     "name": "#%%\n"
    }
   }
  },
  {
   "cell_type": "code",
   "execution_count": null,
   "outputs": [],
   "source": [
    "# Faça a transposta da matriz abaixo. Ou seja, troque os valores \n",
    "# com relação à diagonal. \n",
    "# O elemento na posição (1,2) vai para a posição (2,1), e vice versa.\n",
    "x = np.array([[0, 1, 1],\n",
    "              [2, 0, 1],\n",
    "              [2, 2, 0]])"
   ],
   "metadata": {
    "collapsed": false,
    "pycharm": {
     "name": "#%%\n"
    }
   }
  },
  {
   "cell_type": "code",
   "execution_count": null,
   "outputs": [],
   "source": [],
   "metadata": {
    "collapsed": false,
    "pycharm": {
     "name": "#%%\n"
    }
   }
  },
  {
   "cell_type": "code",
   "execution_count": null,
   "outputs": [],
   "source": [
    "# Também podemos combinar arrays diferentes.\n",
    "# Imagina que temos duas features, altura e peso de pessoas físicas.\n",
    "x1 = np.array([[1.67, 89.],\n",
    "               [1.79, 85.],\n",
    "               [1.69, 65.],\n",
    "               [1.54, 57.],\n",
    "               [1.50, 45.]])\n",
    "\n",
    "# Porém, nós queremos testar agora adicionar uma terceira feature, se a pessoa é homem ou mulher.\n",
    "# 1 é mulher, 0 é homem\n",
    "x2 = np.array([1, 0, 1, 0, 1])\n",
    "\n",
    "# Como podemos fazer?"
   ],
   "metadata": {
    "collapsed": false,
    "pycharm": {
     "name": "#%%\n"
    }
   }
  },
  {
   "cell_type": "code",
   "execution_count": null,
   "outputs": [],
   "source": [],
   "metadata": {
    "collapsed": false,
    "pycharm": {
     "name": "#%%\n"
    }
   }
  },
  {
   "cell_type": "code",
   "execution_count": null,
   "outputs": [],
   "source": [
    "# Agora temos a tabela de dados abaixo.\n",
    "table = np.array([[1.67, 89., 1],\n",
    "                  [1.79, 85., 0],\n",
    "                  [1.69, 65., 1],\n",
    "                  [1.54, 57., 0],\n",
    "                  [1.50, 45., 1]])\n",
    "\n",
    "# Mas tinhamos esquecido de outras 3 pessoas!\n",
    "new_table = np.array([[1.78, 91, 0],\n",
    "                      [1.72, 67, 1],\n",
    "                      [1.77, 76, 1]])\n",
    "\n",
    "# Como podemos juntar as tabelas?"
   ],
   "metadata": {
    "collapsed": false,
    "pycharm": {
     "name": "#%%\n"
    }
   }
  },
  {
   "cell_type": "markdown",
   "source": [
    "### Funções matemáticas"
   ],
   "metadata": {
    "collapsed": false,
    "pycharm": {
     "name": "#%% md\n"
    }
   }
  },
  {
   "cell_type": "code",
   "execution_count": null,
   "outputs": [],
   "source": [
    "# NÃO VAMOS FALAR DE VISUALIZAÇÃO DE DADOS AINDA!\n",
    "# Porém, vou importar aqui uma biblioteca de visualização por questões pedagógicas,\n",
    "# para vermos visualmente os resultados de algumas operações\n",
    "import matplotlib.pyplot as plt"
   ],
   "metadata": {
    "collapsed": false,
    "pycharm": {
     "name": "#%%\n"
    }
   }
  },
  {
   "cell_type": "code",
   "execution_count": null,
   "outputs": [],
   "source": [
    "# Como podemos desenhar a função coseno entre x=-6.3 e x=6.3?\n",
    "# Faça uma variável x com os pontos entre -2 e 2 que você escolher.\n",
    "# Faça uma variável y com o valor do coseno nesses pontos.\n"
   ],
   "metadata": {
    "collapsed": false,
    "pycharm": {
     "name": "#%%\n"
    }
   }
  },
  {
   "cell_type": "code",
   "execution_count": null,
   "outputs": [],
   "source": [
    "# Agora rode o código abaixo.\n",
    "plt.plot(x, y)\n",
    "plt.show()"
   ],
   "metadata": {
    "collapsed": false,
    "pycharm": {
     "name": "#%%\n"
    }
   }
  },
  {
   "cell_type": "code",
   "execution_count": null,
   "outputs": [],
   "source": [
    "# Faça o mesmo de antes, mas agora a função é:\n",
    "# exp(-|x|)\n",
    "# Pesquisa pela função \"abs\" no numpy\n"
   ],
   "metadata": {
    "collapsed": false,
    "pycharm": {
     "name": "#%%\n"
    }
   }
  },
  {
   "cell_type": "code",
   "execution_count": null,
   "outputs": [],
   "source": [
    "# Agora rode o código abaixo.\n",
    "plt.plot(x, y)\n",
    "plt.show()"
   ],
   "metadata": {
    "collapsed": false,
    "pycharm": {
     "name": "#%%\n"
    }
   }
  },
  {
   "cell_type": "markdown",
   "source": [
    "Vamos fazer uma visualização legal, usando como referência \n",
    "[o blog do John D Cook](johndcook.com/blog/2017/10/07/exponential-sums-make-pretty-pictures).\n",
    "\n",
    "\n",
    "A ideía é que as soma parciais de \"exponenciais complexas\",\n",
    "$$ \\sum_{n=0}^{N} \\exp{\\left(2\\cdot\\pi\\cdot j \\cdot \\left(\\frac{n}{m} + \\frac{n^2}{d} + \\frac{n^3}{y}\\right)\\right)} $$\n",
    "\n",
    "para diferentes valores de $m$, $y$ e $d$, dão gráficos muito bonitos.\n",
    "\n",
    "![teste](https://www.johndcook.com/expsum01.png)"
   ],
   "metadata": {
    "collapsed": false,
    "pycharm": {
     "name": "#%% md\n"
    }
   }
  },
  {
   "cell_type": "code",
   "execution_count": null,
   "outputs": [],
   "source": [
    "# Como ficaria a lógica do código no numpy?\n",
    "y = 22\n",
    "m = 12\n",
    "d = 2\n",
    "\n",
    "N = 2000 # Número de somas parciais\n",
    "\n",
    "# Para fazer a operação acima com números complexos, faça o seguinte:\n",
    "# Onde você faria a conta que está dentro da exponencial, faça tudo esquecendo o j.\n",
    "# Aí, ainda dentro da exponencial, você multiplica tudo por \"1j\".\n",
    "\n",
    "# Para obter somas parciais, pesquise \"cumsum\" dentro do numpy.\n",
    "\n",
    "# Salve o resultado em uma variável \"soma_acumulada\""
   ],
   "metadata": {
    "collapsed": false,
    "pycharm": {
     "name": "#%%\n"
    }
   }
  },
  {
   "cell_type": "code",
   "execution_count": null,
   "outputs": [],
   "source": [
    "# Com a sua soma acumulada, rode o código abaixo.\n",
    "plt.plot(np.real(soma_acumulada), np.imag(soma_acumulada))\n",
    "plt.show()"
   ],
   "metadata": {
    "collapsed": false,
    "pycharm": {
     "name": "#%%\n"
    }
   }
  },
  {
   "cell_type": "code",
   "execution_count": null,
   "outputs": [],
   "source": [
    "# Arrays do numpy também têm alguns métodos já salvos neles, para alguns tipos de operações matemáticas.\n",
    "\n",
    "# Encontre a média e o desvio padrão do array abaixo.\n",
    "data = [-3.99639747e-01,  1.17716084e-03,  7.57112282e-01, -1.38651800e+00,\n",
    "         7.67865914e-01, -1.07935805e+00,  2.57581851e-01, -8.42067558e-01,\n",
    "         1.22636135e+00, -7.89880632e-01]\n",
    "\n"
   ],
   "metadata": {
    "collapsed": false,
    "pycharm": {
     "name": "#%%\n"
    }
   }
  },
  {
   "cell_type": "code",
   "execution_count": null,
   "outputs": [],
   "source": [
    "# Encontre a soma do array abaixo, sem usar fórmulas fechadas.\n",
    "x = np.arange(0, 398, 1)\n",
    "\n"
   ],
   "metadata": {
    "collapsed": false,
    "pycharm": {
     "name": "#%%\n"
    }
   }
  },
  {
   "cell_type": "markdown",
   "source": [
    "### Tipos de dados"
   ],
   "metadata": {
    "collapsed": false,
    "pycharm": {
     "name": "#%% md\n"
    }
   }
  },
  {
   "cell_type": "markdown",
   "source": [
    "Primeiro vamos falar do infinito (e além).\n",
    "\n",
    "Quando fazemos operações de ponto flutuante no computador, existe um padrão técnico (definido pela IEEE, o Instituto de Engenheiros Eletro-eletrônicos) que define algumas coisas que uma biblioteca tem que ter.\n",
    "\n",
    "Especificamente, aqui vamos falar de duas coisas:\n",
    "- Not a Number (NAN)\n",
    "- Infinito"
   ],
   "metadata": {
    "collapsed": false,
    "pycharm": {
     "name": "#%% md\n"
    }
   }
  },
  {
   "cell_type": "code",
   "execution_count": null,
   "outputs": [],
   "source": [
    "# Not a Number é o resultado de operações inválidas.\n",
    "# Embora ele exista no Python, operações inválidas tendem a levantar um erro.\n",
    "0/0"
   ],
   "metadata": {
    "collapsed": false,
    "pycharm": {
     "name": "#%%\n"
    }
   }
  },
  {
   "cell_type": "code",
   "execution_count": null,
   "outputs": [],
   "source": [
    "# Para usá-lo no python, temos que converter string para float.\n",
    "float('NaN')"
   ],
   "metadata": {
    "collapsed": false,
    "pycharm": {
     "name": "#%%\n"
    }
   }
  },
  {
   "cell_type": "code",
   "execution_count": null,
   "outputs": [],
   "source": [
    "# No numpy, temos o objeto nan.\n",
    "print(np.nan)\n",
    "print(type(np.nan))"
   ],
   "metadata": {
    "collapsed": false,
    "pycharm": {
     "name": "#%%\n"
    }
   }
  },
  {
   "cell_type": "code",
   "execution_count": null,
   "outputs": [],
   "source": [
    "# Já no numpy, operações inválidas retornam NaN mesmo.\n",
    "x1 = np.array([1, 0, 1, 0])\n",
    "x2 = np.array([2, 1, 2, 0])\n",
    "\n",
    "print(x1 / x2)"
   ],
   "metadata": {
    "collapsed": false,
    "pycharm": {
     "name": "#%%\n"
    }
   }
  },
  {
   "cell_type": "code",
   "execution_count": null,
   "outputs": [],
   "source": [
    "# \"Infinito\", no padrão, pode ser pensado como um número que é maior que qualquer outro número.\n",
    "# No caso de \"-infinito\", temos um número que é menor que qualquer outro número.\n",
    "1/0"
   ],
   "metadata": {
    "collapsed": false,
    "pycharm": {
     "name": "#%%\n"
    }
   }
  },
  {
   "cell_type": "code",
   "execution_count": null,
   "outputs": [],
   "source": [
    "print(float('inf'))\n",
    "print(float('inf') > 293818943824723984.928)\n",
    "print(-float('inf') < -293818943824723984.928)"
   ],
   "metadata": {
    "collapsed": false,
    "pycharm": {
     "name": "#%%\n"
    }
   }
  },
  {
   "cell_type": "code",
   "execution_count": null,
   "outputs": [],
   "source": [
    "# No Numpy, não seria diferente.\n",
    "print(np.inf)\n",
    "print(np.inf > 293818943824723984.928)\n",
    "print(-np.inf < -293818943824723984.928)\n",
    "print(type(np.inf))"
   ],
   "metadata": {
    "collapsed": false,
    "pycharm": {
     "name": "#%%\n"
    }
   }
  },
  {
   "cell_type": "code",
   "execution_count": null,
   "outputs": [],
   "source": [
    "# No numpy, algumas operações podem gerar infinitos.\n",
    "x1 = np.array([1, 0, 1, 0])\n",
    "x2 = np.array([2, 1, 2, 0])\n",
    "\n",
    "print(x2 / x1)"
   ],
   "metadata": {
    "collapsed": false,
    "pycharm": {
     "name": "#%%\n"
    }
   }
  },
  {
   "cell_type": "markdown",
   "source": [
    "Notou que tanto infinito quanto NaN são do tipo \"float\"? Não são float64, nem float32, nem anda assim.\n",
    "\n",
    "Isso é devido à hierarquia de dtypes do numpy.\n",
    "\n",
    "![hierarchy](https://numpy.org/doc/stable/_images/dtype-hierarchy.png)"
   ],
   "metadata": {
    "collapsed": false,
    "pycharm": {
     "name": "#%% md\n"
    }
   }
  },
  {
   "cell_type": "code",
   "execution_count": null,
   "outputs": [],
   "source": [
    "# No numpy, nós temos implementados tipos com maior ou menor acurácia.\n",
    "# Por exemplo, temos float16, float32, e float64, cada um com maior acurácia que o anterior.\n",
    "f16 = np.float16(\"0.1\")\n",
    "f32 = np.float32(\"0.1\")\n",
    "f64 = np.float64(\"0.1\")\n",
    "f16 == f32 == f64"
   ],
   "metadata": {
    "collapsed": false,
    "pycharm": {
     "name": "#%%\n"
    }
   }
  },
  {
   "cell_type": "markdown",
   "source": [
    "Mas todos os três são diferentes!\n",
    "\n",
    "Para saber mais:\n",
    "\n",
    "https://numpy.org/doc/stable/reference/arrays.scalars.html"
   ],
   "metadata": {
    "collapsed": false,
    "pycharm": {
     "name": "#%% md\n"
    }
   }
  },
  {
   "cell_type": "code",
   "execution_count": null,
   "outputs": [],
   "source": [
    "# Nós também podemos converter o dtype de um array!\n",
    "print(x1.dtype)"
   ],
   "metadata": {
    "collapsed": false,
    "pycharm": {
     "name": "#%%\n"
    }
   }
  },
  {
   "cell_type": "code",
   "execution_count": null,
   "outputs": [],
   "source": [
    "print(x1.astype(np.float32).dtype)"
   ],
   "metadata": {
    "collapsed": false,
    "pycharm": {
     "name": "#%%\n"
    }
   }
  },
  {
   "cell_type": "markdown",
   "source": [
    "### Broadcasting\n",
    "\n",
    "https://numpy.org/doc/stable/user/basics.broadcasting.html"
   ],
   "metadata": {
    "collapsed": false,
    "pycharm": {
     "name": "#%% md\n"
    }
   }
  },
  {
   "cell_type": "code",
   "execution_count": null,
   "outputs": [],
   "source": [
    "# No numpy, nós conseguimos multiplicar arrays de tamanhos diferentes, \n",
    "# desde que faça sentido pensar no array menor \"caminhando\" pelo maior.\n",
    "\n",
    "# Pode pensar como se fosse o menor sendo duplicado, triplicado, etc...,\n",
    "# até os dois arrays terem mesmo tamanho."
   ],
   "metadata": {
    "collapsed": false,
    "pycharm": {
     "name": "#%%\n"
    }
   }
  },
  {
   "cell_type": "markdown",
   "source": [
    "![broadcasting_ok](https://numpy.org/doc/stable/_images/broadcasting_2.png)"
   ],
   "metadata": {
    "collapsed": false,
    "pycharm": {
     "name": "#%% md\n"
    }
   }
  },
  {
   "cell_type": "markdown",
   "source": [
    "![broadcasting_nok](https://numpy.org/doc/stable/_images/broadcasting_3.png)"
   ],
   "metadata": {
    "collapsed": false,
    "pycharm": {
     "name": "#%% md\n"
    }
   }
  },
  {
   "cell_type": "code",
   "execution_count": null,
   "outputs": [],
   "source": [
    "a = np.array([[0,0,0],\n",
    "              [10, 10, 10],\n",
    "              [20, 20, 20],\n",
    "              [30, 30, 30]])\n",
    "\n",
    "b = np.array([1, 2, 3])\n",
    "c = np.array([1, 2, 3, 4])"
   ],
   "metadata": {
    "collapsed": false,
    "pycharm": {
     "name": "#%%\n"
    }
   }
  },
  {
   "cell_type": "code",
   "execution_count": null,
   "outputs": [],
   "source": [
    "a * b"
   ],
   "metadata": {
    "collapsed": false,
    "pycharm": {
     "name": "#%%\n"
    }
   }
  },
  {
   "cell_type": "code",
   "execution_count": null,
   "outputs": [],
   "source": [
    "a * c"
   ],
   "metadata": {
    "collapsed": false,
    "pycharm": {
     "name": "#%%\n"
    }
   }
  }
 ],
 "metadata": {
  "kernelspec": {
   "display_name": "Python [conda env:data_science]",
   "language": "python",
   "name": "conda-env-data_science-py"
  },
  "language_info": {
   "codemirror_mode": {
    "name": "ipython",
    "version": 3
   },
   "file_extension": ".py",
   "mimetype": "text/x-python",
   "name": "python",
   "nbconvert_exporter": "python",
   "pygments_lexer": "ipython3",
   "version": "3.7.2"
  }
 },
 "nbformat": 4,
 "nbformat_minor": 5
}