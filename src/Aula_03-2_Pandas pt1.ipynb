{
 "cells": [
  {
   "cell_type": "markdown",
   "id": "4f51956c",
   "metadata": {},
   "source": [
    "# Aula 3.2 - Pandas pt1\n",
    "\n",
    "O Pandas é uma das bibliotecas de processamento de dados do Python mais importantes. As estruturas de dados básicas dele são Series e Dataframes, que nos ajudam a expressar dados na forma de tabelas."
   ]
  },
  {
   "cell_type": "markdown",
   "id": "7db9134f",
   "metadata": {},
   "source": [
    "---"
   ]
  },
  {
   "cell_type": "markdown",
   "id": "9d73761c",
   "metadata": {},
   "source": [
    "## Introdução"
   ]
  },
  {
   "cell_type": "code",
   "execution_count": null,
   "id": "7f10b5d2",
   "metadata": {},
   "outputs": [],
   "source": [
    "# No caso do numpy, sempre usamos a abreviação \"np\".\n",
    "import numpy as np\n",
    "\n",
    "# No caso do pandas, nos sempre usamos a abreviação \"pd\"\n",
    "import pandas as pd"
   ]
  },
  {
   "cell_type": "markdown",
   "id": "bc095962",
   "metadata": {},
   "source": [
    "Antes de discutirmos como funcionam as estruturas de dados básicas do Pandas, vamos tentar fazer algo mais básico: Ler dados externos. \n",
    "\n",
    "Vamos ver como ler arquivos do tipo csv."
   ]
  },
  {
   "cell_type": "code",
   "execution_count": null,
   "id": "b6b3d28f",
   "metadata": {},
   "outputs": [],
   "source": [
    "# A função \"read_csv\" é a função básica para leitura de arquivos do tipo csv.\n",
    "df = pd.read_csv('dados/dados_artificiais.csv')"
   ]
  },
  {
   "cell_type": "code",
   "execution_count": null,
   "id": "2c7481fa",
   "metadata": {},
   "outputs": [],
   "source": [
    "df"
   ]
  },
  {
   "cell_type": "code",
   "execution_count": null,
   "id": "6b5ab47a",
   "metadata": {
    "scrolled": true
   },
   "outputs": [],
   "source": [
    "# A nossa variável \"df\" é chamada um Pandas DataFrame.\n",
    "print(type(df))"
   ]
  },
  {
   "cell_type": "code",
   "execution_count": null,
   "id": "091785c7",
   "metadata": {},
   "outputs": [],
   "source": [
    "# Um dataframe nada mais é do que uma tabela.\n",
    "# Nós podemos também pegar cada coluna da tabela como um Pandas Series.\n",
    "display(df['altura'])\n",
    "print(type(df['altura']))"
   ]
  },
  {
   "cell_type": "markdown",
   "id": "cb884ee1",
   "metadata": {},
   "source": [
    "Existe, porém, um problema. Arquivos csv vem de todas as formas possíveis e imaginárias.\n",
    "\n",
    "É igual o Bob Esponja com uma caixa vazia: A brincadeira não tem limites.\n",
    "\n",
    "Vamos então ter muitas dificuldades em ler alguns arquivos de dados agora, pra não ter mais dificuldade no futuro. Para isso, colocamos no drive uma pasta com dados disponibilizados pelo livro \"Estatística Básica\", dos autores Bussab e Morettin.\n",
    "\n",
    "Tentemos ler todos eles usando a função read_csv.\n",
    "\n",
    "Se precisar de ajuda: https://pandas.pydata.org/docs/reference/api/pandas.read_csv.html"
   ]
  },
  {
   "cell_type": "code",
   "execution_count": null,
   "id": "98ee56c7",
   "metadata": {},
   "outputs": [],
   "source": [
    "# Ler os dados cd_brasil\n"
   ]
  },
  {
   "cell_type": "code",
   "execution_count": null,
   "id": "c6268ef4",
   "metadata": {},
   "outputs": [],
   "source": [
    "# Ler os dados cd_municipios\n"
   ]
  },
  {
   "cell_type": "code",
   "execution_count": null,
   "id": "da543cfb",
   "metadata": {},
   "outputs": [],
   "source": [
    "# Ler os dados cd_notas\n"
   ]
  },
  {
   "cell_type": "code",
   "execution_count": null,
   "id": "cee1da3a",
   "metadata": {},
   "outputs": [],
   "source": [
    "# Ler os dados cd_veiculos\n"
   ]
  },
  {
   "cell_type": "markdown",
   "id": "1e7dafc8",
   "metadata": {},
   "source": [
    "Também é muito comum querermos criar dataframes do zero. Talvez estejamos usando dados simulados, talvez seja o resultado de algum outro pipeline de dados. Existem milhares de motivos. "
   ]
  },
  {
   "cell_type": "code",
   "execution_count": null,
   "id": "1f4e7d30",
   "metadata": {},
   "outputs": [],
   "source": [
    "# Agora temos a tabela de dados abaixo.\n",
    "table = np.array([[1.67, 89., 1],\n",
    "                  [1.79, 85., 0],\n",
    "                  [1.69, 65., 1],\n",
    "                  [1.54, 57., 0],\n",
    "                  [1.50, 45., 1]\n",
    "                  [1.78, 91., 0],\n",
    "                  [1.72, 67., 1],\n",
    "                  [1.77, 76., 1]])\n",
    "\n",
    "# Pesquise em https://pandas.pydata.org/docs/reference/api/pandas.DataFrame.html,\n",
    "# e veja como podemos transformar essa tabela de dados em um dataframe.\n",
    "\n"
   ]
  }
 ],
 "metadata": {
  "kernelspec": {
   "display_name": "Python [conda env:data_science]",
   "language": "python",
   "name": "conda-env-data_science-py"
  },
  "language_info": {
   "codemirror_mode": {
    "name": "ipython",
    "version": 3
   },
   "file_extension": ".py",
   "mimetype": "text/x-python",
   "name": "python",
   "nbconvert_exporter": "python",
   "pygments_lexer": "ipython3",
   "version": "3.7.2"
  }
 },
 "nbformat": 4,
 "nbformat_minor": 5
}
