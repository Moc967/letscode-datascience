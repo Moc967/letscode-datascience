{
 "cells": [
  {
   "cell_type": "markdown",
   "id": "4f51956c",
   "metadata": {},
   "source": [
    "# Aula 3.2 - Pandas pt1\n",
    "\n",
    "O Pandas é uma das bibliotecas de processamento de dados do Python mais importantes. As estruturas de dados básicas dele são Series e Dataframes, que nos ajudam a expressar dados na forma de tabelas."
   ]
  },
  {
   "cell_type": "markdown",
   "id": "7db9134f",
   "metadata": {},
   "source": [
    "---"
   ]
  },
  {
   "cell_type": "markdown",
   "id": "9d73761c",
   "metadata": {},
   "source": [
    "## Introdução"
   ]
  },
  {
   "cell_type": "code",
   "execution_count": 1,
   "id": "7f10b5d2",
   "metadata": {},
   "outputs": [
    {
     "ename": "ImportError",
     "evalue": "\n\nIMPORTANT: PLEASE READ THIS FOR ADVICE ON HOW TO SOLVE THIS ISSUE!\n\nImporting the numpy C-extensions failed. This error can happen for\nmany reasons, often due to issues with your setup or how NumPy was\ninstalled.\n\nWe have compiled some common reasons and troubleshooting tips at:\n\n    https://numpy.org/devdocs/user/troubleshooting-importerror.html\n\nPlease note and check the following:\n\n  * The Python version is: Python3.10 from \"/usr/local/bin/python3\"\n  * The NumPy version is: \"1.22.3\"\n\nand make sure that they are the versions you expect.\nPlease carefully study the documentation linked above for further help.\n\nOriginal error was: dlopen(/Library/Frameworks/Python.framework/Versions/3.10/lib/python3.10/site-packages/numpy/core/_multiarray_umath.cpython-310-darwin.so, 0x0002): tried: '/Library/Frameworks/Python.framework/Versions/3.10/lib/python3.10/site-packages/numpy/core/_multiarray_umath.cpython-310-darwin.so' (mach-o file, but is an incompatible architecture (have 'arm64', need 'x86_64h'))\n",
     "output_type": "error",
     "traceback": [
      "\u001b[0;31m---------------------------------------------------------------------------\u001b[0m",
      "\u001b[0;31mImportError\u001b[0m                               Traceback (most recent call last)",
      "File \u001b[0;32m/Library/Frameworks/Python.framework/Versions/3.10/lib/python3.10/site-packages/numpy/core/__init__.py:23\u001b[0m, in \u001b[0;36m<module>\u001b[0;34m\u001b[0m\n\u001b[1;32m     <a href='file:///Library/Frameworks/Python.framework/Versions/3.10/lib/python3.10/site-packages/numpy/core/__init__.py?line=21'>22</a>\u001b[0m \u001b[39mtry\u001b[39;00m:\n\u001b[0;32m---> <a href='file:///Library/Frameworks/Python.framework/Versions/3.10/lib/python3.10/site-packages/numpy/core/__init__.py?line=22'>23</a>\u001b[0m     \u001b[39mfrom\u001b[39;00m \u001b[39m.\u001b[39;00m \u001b[39mimport\u001b[39;00m multiarray\n\u001b[1;32m     <a href='file:///Library/Frameworks/Python.framework/Versions/3.10/lib/python3.10/site-packages/numpy/core/__init__.py?line=23'>24</a>\u001b[0m \u001b[39mexcept\u001b[39;00m \u001b[39mImportError\u001b[39;00m \u001b[39mas\u001b[39;00m exc:\n",
      "File \u001b[0;32m/Library/Frameworks/Python.framework/Versions/3.10/lib/python3.10/site-packages/numpy/core/multiarray.py:10\u001b[0m, in \u001b[0;36m<module>\u001b[0;34m\u001b[0m\n\u001b[1;32m      <a href='file:///Library/Frameworks/Python.framework/Versions/3.10/lib/python3.10/site-packages/numpy/core/multiarray.py?line=8'>9</a>\u001b[0m \u001b[39mimport\u001b[39;00m \u001b[39mfunctools\u001b[39;00m\n\u001b[0;32m---> <a href='file:///Library/Frameworks/Python.framework/Versions/3.10/lib/python3.10/site-packages/numpy/core/multiarray.py?line=9'>10</a>\u001b[0m \u001b[39mfrom\u001b[39;00m \u001b[39m.\u001b[39;00m \u001b[39mimport\u001b[39;00m overrides\n\u001b[1;32m     <a href='file:///Library/Frameworks/Python.framework/Versions/3.10/lib/python3.10/site-packages/numpy/core/multiarray.py?line=10'>11</a>\u001b[0m \u001b[39mfrom\u001b[39;00m \u001b[39m.\u001b[39;00m \u001b[39mimport\u001b[39;00m _multiarray_umath\n",
      "File \u001b[0;32m/Library/Frameworks/Python.framework/Versions/3.10/lib/python3.10/site-packages/numpy/core/overrides.py:6\u001b[0m, in \u001b[0;36m<module>\u001b[0;34m\u001b[0m\n\u001b[1;32m      <a href='file:///Library/Frameworks/Python.framework/Versions/3.10/lib/python3.10/site-packages/numpy/core/overrides.py?line=3'>4</a>\u001b[0m \u001b[39mimport\u001b[39;00m \u001b[39mos\u001b[39;00m\n\u001b[0;32m----> <a href='file:///Library/Frameworks/Python.framework/Versions/3.10/lib/python3.10/site-packages/numpy/core/overrides.py?line=5'>6</a>\u001b[0m \u001b[39mfrom\u001b[39;00m \u001b[39mnumpy\u001b[39;00m\u001b[39m.\u001b[39;00m\u001b[39mcore\u001b[39;00m\u001b[39m.\u001b[39;00m\u001b[39m_multiarray_umath\u001b[39;00m \u001b[39mimport\u001b[39;00m (\n\u001b[1;32m      <a href='file:///Library/Frameworks/Python.framework/Versions/3.10/lib/python3.10/site-packages/numpy/core/overrides.py?line=6'>7</a>\u001b[0m     add_docstring, implement_array_function, _get_implementing_args)\n\u001b[1;32m      <a href='file:///Library/Frameworks/Python.framework/Versions/3.10/lib/python3.10/site-packages/numpy/core/overrides.py?line=7'>8</a>\u001b[0m \u001b[39mfrom\u001b[39;00m \u001b[39mnumpy\u001b[39;00m\u001b[39m.\u001b[39;00m\u001b[39mcompat\u001b[39;00m\u001b[39m.\u001b[39;00m\u001b[39m_inspect\u001b[39;00m \u001b[39mimport\u001b[39;00m getargspec\n",
      "\u001b[0;31mImportError\u001b[0m: dlopen(/Library/Frameworks/Python.framework/Versions/3.10/lib/python3.10/site-packages/numpy/core/_multiarray_umath.cpython-310-darwin.so, 0x0002): tried: '/Library/Frameworks/Python.framework/Versions/3.10/lib/python3.10/site-packages/numpy/core/_multiarray_umath.cpython-310-darwin.so' (mach-o file, but is an incompatible architecture (have 'arm64', need 'x86_64h'))",
      "\nDuring handling of the above exception, another exception occurred:\n",
      "\u001b[0;31mImportError\u001b[0m                               Traceback (most recent call last)",
      "\u001b[1;32m/Users/magnovaldo/Documents/Training/lets_code/ds_boticario/boti_pipe/src/Aula_03-2_Pandas pt1.ipynb Cell 4'\u001b[0m in \u001b[0;36m<cell line: 2>\u001b[0;34m()\u001b[0m\n\u001b[1;32m      <a href='vscode-notebook-cell:/Users/magnovaldo/Documents/Training/lets_code/ds_boticario/boti_pipe/src/Aula_03-2_Pandas%20pt1.ipynb#ch0000003?line=0'>1</a>\u001b[0m \u001b[39m# No caso do numpy, sempre usamos a abreviação \"np\".\u001b[39;00m\n\u001b[0;32m----> <a href='vscode-notebook-cell:/Users/magnovaldo/Documents/Training/lets_code/ds_boticario/boti_pipe/src/Aula_03-2_Pandas%20pt1.ipynb#ch0000003?line=1'>2</a>\u001b[0m \u001b[39mimport\u001b[39;00m \u001b[39mnumpy\u001b[39;00m \u001b[39mas\u001b[39;00m \u001b[39mnp\u001b[39;00m\n\u001b[1;32m      <a href='vscode-notebook-cell:/Users/magnovaldo/Documents/Training/lets_code/ds_boticario/boti_pipe/src/Aula_03-2_Pandas%20pt1.ipynb#ch0000003?line=3'>4</a>\u001b[0m \u001b[39m# No caso do pandas, nos sempre usamos a abreviação \"pd\"\u001b[39;00m\n\u001b[1;32m      <a href='vscode-notebook-cell:/Users/magnovaldo/Documents/Training/lets_code/ds_boticario/boti_pipe/src/Aula_03-2_Pandas%20pt1.ipynb#ch0000003?line=4'>5</a>\u001b[0m \u001b[39mimport\u001b[39;00m \u001b[39mpandas\u001b[39;00m \u001b[39mas\u001b[39;00m \u001b[39mpd\u001b[39;00m\n",
      "File \u001b[0;32m/Library/Frameworks/Python.framework/Versions/3.10/lib/python3.10/site-packages/numpy/__init__.py:144\u001b[0m, in \u001b[0;36m<module>\u001b[0;34m\u001b[0m\n\u001b[1;32m    <a href='file:///Library/Frameworks/Python.framework/Versions/3.10/lib/python3.10/site-packages/numpy/__init__.py?line=140'>141</a>\u001b[0m \u001b[39m# Allow distributors to run custom init code\u001b[39;00m\n\u001b[1;32m    <a href='file:///Library/Frameworks/Python.framework/Versions/3.10/lib/python3.10/site-packages/numpy/__init__.py?line=141'>142</a>\u001b[0m \u001b[39mfrom\u001b[39;00m \u001b[39m.\u001b[39;00m \u001b[39mimport\u001b[39;00m _distributor_init\n\u001b[0;32m--> <a href='file:///Library/Frameworks/Python.framework/Versions/3.10/lib/python3.10/site-packages/numpy/__init__.py?line=143'>144</a>\u001b[0m \u001b[39mfrom\u001b[39;00m \u001b[39m.\u001b[39;00m \u001b[39mimport\u001b[39;00m core\n\u001b[1;32m    <a href='file:///Library/Frameworks/Python.framework/Versions/3.10/lib/python3.10/site-packages/numpy/__init__.py?line=144'>145</a>\u001b[0m \u001b[39mfrom\u001b[39;00m \u001b[39m.\u001b[39;00m\u001b[39mcore\u001b[39;00m \u001b[39mimport\u001b[39;00m \u001b[39m*\u001b[39m\n\u001b[1;32m    <a href='file:///Library/Frameworks/Python.framework/Versions/3.10/lib/python3.10/site-packages/numpy/__init__.py?line=145'>146</a>\u001b[0m \u001b[39mfrom\u001b[39;00m \u001b[39m.\u001b[39;00m \u001b[39mimport\u001b[39;00m compat\n",
      "File \u001b[0;32m/Library/Frameworks/Python.framework/Versions/3.10/lib/python3.10/site-packages/numpy/core/__init__.py:49\u001b[0m, in \u001b[0;36m<module>\u001b[0;34m\u001b[0m\n\u001b[1;32m     <a href='file:///Library/Frameworks/Python.framework/Versions/3.10/lib/python3.10/site-packages/numpy/core/__init__.py?line=24'>25</a>\u001b[0m     \u001b[39mimport\u001b[39;00m \u001b[39msys\u001b[39;00m\n\u001b[1;32m     <a href='file:///Library/Frameworks/Python.framework/Versions/3.10/lib/python3.10/site-packages/numpy/core/__init__.py?line=25'>26</a>\u001b[0m     msg \u001b[39m=\u001b[39m \u001b[39m\"\"\"\u001b[39m\n\u001b[1;32m     <a href='file:///Library/Frameworks/Python.framework/Versions/3.10/lib/python3.10/site-packages/numpy/core/__init__.py?line=26'>27</a>\u001b[0m \n\u001b[1;32m     <a href='file:///Library/Frameworks/Python.framework/Versions/3.10/lib/python3.10/site-packages/numpy/core/__init__.py?line=27'>28</a>\u001b[0m \u001b[39mIMPORTANT: PLEASE READ THIS FOR ADVICE ON HOW TO SOLVE THIS ISSUE!\u001b[39m\n\u001b[0;32m   (...)\u001b[0m\n\u001b[1;32m     <a href='file:///Library/Frameworks/Python.framework/Versions/3.10/lib/python3.10/site-packages/numpy/core/__init__.py?line=46'>47</a>\u001b[0m \u001b[39m\"\"\"\u001b[39m \u001b[39m%\u001b[39m (sys\u001b[39m.\u001b[39mversion_info[\u001b[39m0\u001b[39m], sys\u001b[39m.\u001b[39mversion_info[\u001b[39m1\u001b[39m], sys\u001b[39m.\u001b[39mexecutable,\n\u001b[1;32m     <a href='file:///Library/Frameworks/Python.framework/Versions/3.10/lib/python3.10/site-packages/numpy/core/__init__.py?line=47'>48</a>\u001b[0m         __version__, exc)\n\u001b[0;32m---> <a href='file:///Library/Frameworks/Python.framework/Versions/3.10/lib/python3.10/site-packages/numpy/core/__init__.py?line=48'>49</a>\u001b[0m     \u001b[39mraise\u001b[39;00m \u001b[39mImportError\u001b[39;00m(msg)\n\u001b[1;32m     <a href='file:///Library/Frameworks/Python.framework/Versions/3.10/lib/python3.10/site-packages/numpy/core/__init__.py?line=49'>50</a>\u001b[0m \u001b[39mfinally\u001b[39;00m:\n\u001b[1;32m     <a href='file:///Library/Frameworks/Python.framework/Versions/3.10/lib/python3.10/site-packages/numpy/core/__init__.py?line=50'>51</a>\u001b[0m     \u001b[39mfor\u001b[39;00m envkey \u001b[39min\u001b[39;00m env_added:\n",
      "\u001b[0;31mImportError\u001b[0m: \n\nIMPORTANT: PLEASE READ THIS FOR ADVICE ON HOW TO SOLVE THIS ISSUE!\n\nImporting the numpy C-extensions failed. This error can happen for\nmany reasons, often due to issues with your setup or how NumPy was\ninstalled.\n\nWe have compiled some common reasons and troubleshooting tips at:\n\n    https://numpy.org/devdocs/user/troubleshooting-importerror.html\n\nPlease note and check the following:\n\n  * The Python version is: Python3.10 from \"/usr/local/bin/python3\"\n  * The NumPy version is: \"1.22.3\"\n\nand make sure that they are the versions you expect.\nPlease carefully study the documentation linked above for further help.\n\nOriginal error was: dlopen(/Library/Frameworks/Python.framework/Versions/3.10/lib/python3.10/site-packages/numpy/core/_multiarray_umath.cpython-310-darwin.so, 0x0002): tried: '/Library/Frameworks/Python.framework/Versions/3.10/lib/python3.10/site-packages/numpy/core/_multiarray_umath.cpython-310-darwin.so' (mach-o file, but is an incompatible architecture (have 'arm64', need 'x86_64h'))\n"
     ]
    }
   ],
   "source": [
    "# No caso do numpy, sempre usamos a abreviação \"np\".\n",
    "import numpy as np\n",
    "\n",
    "# No caso do pandas, nos sempre usamos a abreviação \"pd\"\n",
    "import pandas as pd"
   ]
  },
  {
   "cell_type": "markdown",
   "id": "bc095962",
   "metadata": {},
   "source": [
    "Antes de discutirmos como funcionam as estruturas de dados básicas do Pandas, vamos tentar fazer algo mais básico: Ler dados externos. \n",
    "\n",
    "Vamos ver como ler arquivos do tipo csv."
   ]
  },
  {
   "cell_type": "code",
   "execution_count": null,
   "id": "b6b3d28f",
   "metadata": {},
   "outputs": [],
   "source": [
    "# A função \"read_csv\" é a função básica para leitura de arquivos do tipo csv.\n",
    "df = pd.read_csv('dados/dados_artificiais.csv')"
   ]
  },
  {
   "cell_type": "code",
   "execution_count": null,
   "id": "2c7481fa",
   "metadata": {},
   "outputs": [],
   "source": [
    "df"
   ]
  },
  {
   "cell_type": "code",
   "execution_count": null,
   "id": "6b5ab47a",
   "metadata": {
    "scrolled": true
   },
   "outputs": [],
   "source": [
    "# A nossa variável \"df\" é chamada um Pandas DataFrame.\n",
    "print(type(df))"
   ]
  },
  {
   "cell_type": "code",
   "execution_count": null,
   "id": "091785c7",
   "metadata": {},
   "outputs": [],
   "source": [
    "# Um dataframe nada mais é do que uma tabela.\n",
    "# Nós podemos também pegar cada coluna da tabela como um Pandas Series.\n",
    "display(df['altura'])\n",
    "print(type(df['altura']))"
   ]
  },
  {
   "cell_type": "markdown",
   "id": "cb884ee1",
   "metadata": {},
   "source": [
    "Existe, porém, um problema. Arquivos csv vem de todas as formas possíveis e imaginárias.\n",
    "\n",
    "É igual o Bob Esponja com uma caixa vazia: A brincadeira não tem limites.\n",
    "\n",
    "Vamos então ter muitas dificuldades em ler alguns arquivos de dados agora, pra não ter mais dificuldade no futuro. Para isso, colocamos no drive uma pasta com dados disponibilizados pelo livro \"Estatística Básica\", dos autores Bussab e Morettin.\n",
    "\n",
    "Tentemos ler todos eles usando a função read_csv.\n",
    "\n",
    "Se precisar de ajuda: https://pandas.pydata.org/docs/reference/api/pandas.read_csv.html"
   ]
  },
  {
   "cell_type": "code",
   "execution_count": null,
   "id": "98ee56c7",
   "metadata": {},
   "outputs": [],
   "source": [
    "# Ler os dados cd_brasil\n"
   ]
  },
  {
   "cell_type": "code",
   "execution_count": null,
   "id": "c6268ef4",
   "metadata": {},
   "outputs": [],
   "source": [
    "# Ler os dados cd_municipios\n"
   ]
  },
  {
   "cell_type": "code",
   "execution_count": null,
   "id": "da543cfb",
   "metadata": {},
   "outputs": [],
   "source": [
    "# Ler os dados cd_notas\n"
   ]
  },
  {
   "cell_type": "code",
   "execution_count": null,
   "id": "cee1da3a",
   "metadata": {},
   "outputs": [],
   "source": [
    "# Ler os dados cd_veiculos\n"
   ]
  },
  {
   "cell_type": "markdown",
   "id": "1e7dafc8",
   "metadata": {},
   "source": [
    "Também é muito comum querermos criar dataframes do zero. Talvez estejamos usando dados simulados, talvez seja o resultado de algum outro pipeline de dados. Existem milhares de motivos. "
   ]
  },
  {
   "cell_type": "code",
   "execution_count": null,
   "id": "1f4e7d30",
   "metadata": {},
   "outputs": [],
   "source": [
    "# Agora temos a tabela de dados abaixo.\n",
    "table = np.array([[1.67, 89., 1],\n",
    "                  [1.79, 85., 0],\n",
    "                  [1.69, 65., 1],\n",
    "                  [1.54, 57., 0],\n",
    "                  [1.50, 45., 1]\n",
    "                  [1.78, 91., 0],\n",
    "                  [1.72, 67., 1],\n",
    "                  [1.77, 76., 1]])\n",
    "\n",
    "# Pesquise em https://pandas.pydata.org/docs/reference/api/pandas.DataFrame.html,\n",
    "# e veja como podemos transformar essa tabela de dados em um dataframe.\n",
    "\n"
   ]
  }
 ],
 "metadata": {
  "interpreter": {
   "hash": "aee8b7b246df8f9039afb4144a1f6fd8d2ca17a180786b69acc140d282b71a49"
  },
  "kernelspec": {
   "display_name": "Python 3.10.4 64-bit",
   "language": "python",
   "name": "python3"
  },
  "language_info": {
   "codemirror_mode": {
    "name": "ipython",
    "version": 3
   },
   "file_extension": ".py",
   "mimetype": "text/x-python",
   "name": "python",
   "nbconvert_exporter": "python",
   "pygments_lexer": "ipython3",
   "version": "3.10.4"
  }
 },
 "nbformat": 4,
 "nbformat_minor": 5
}
