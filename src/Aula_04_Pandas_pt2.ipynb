{
 "cells": [
  {
   "cell_type": "markdown",
   "id": "4f51956c",
   "metadata": {
    "pycharm": {
     "name": "#%% md\n"
    }
   },
   "source": [
    "# Aula 4.1 - Introdução a Pandas, pt2\n",
    "\n",
    "Já discutimos de forma mais básica quais são as estruturas de dados principais do Pandas: DataFrames e Series. Além disso, vimos também como ler um arquivo csv, ou como criar um dataframe a partir de dados no próprio Python.\n",
    "\n",
    "Hoje, vamos aprender a explorar nossas tabelas em pandas. Como ver quantas entradas eu tenho? Quais os tipos de entradas? Como eu deixo meus dados em um formato melhor para minhas análises?"
   ]
  },
  {
   "cell_type": "markdown",
   "id": "7db9134f",
   "metadata": {
    "pycharm": {
     "name": "#%% md\n"
    }
   },
   "source": [
    "---"
   ]
  },
  {
   "cell_type": "markdown",
   "id": "6abe4b06",
   "metadata": {
    "pycharm": {
     "name": "#%% md\n"
    }
   },
   "source": [
    "Vamos usar os dados da última aula, e tentar aproveitar o Pandas para extrair algumas informações. Enquanto mostramos as funcionalidades por aqui, vamos tentar ir reproduzindo o passo a passo com dados do IBGE!\n",
    "\n",
    "O objetivo dessa primeira parte é aprendermos algumas funcionalidades básicas para começarmos a olhar os nossos dados. É sempre importante sabermos qual tipo de dados nós temos, qual a cara deles, se tem algum erro, quantas linhas temos, etc...\n",
    "\n",
    "Isso nos ajuda muito a nos preparar para de fato começar a fazer análises de dados."
   ]
  },
  {
   "cell_type": "markdown",
   "id": "44612acf",
   "metadata": {
    "pycharm": {
     "name": "#%% md\n"
    }
   },
   "source": [
    "## Lendo o arquivo"
   ]
  },
  {
   "cell_type": "code",
   "execution_count": 1,
   "id": "f7370101",
   "metadata": {
    "pycharm": {
     "name": "#%%\n"
    }
   },
   "outputs": [],
   "source": [
    "# Começamos sempre importando nossas bibliotecas.\n",
    "import numpy as np\n",
    "import pandas as pd"
   ]
  },
  {
   "cell_type": "code",
   "execution_count": 5,
   "id": "12a97506",
   "metadata": {
    "pycharm": {
     "name": "#%%\n"
    }
   },
   "outputs": [],
   "source": [
    "# A função \"read_table\" é equivalente à \"read_csv\", só muda que ela é mais geral.\n",
    "# Tente ler abaixo os dados de população para um dataframe, usando pd.read_table\n",
    "df = pd.read_table('/Users/magnovaldo/Documents/Training/lets_code/ds_boticario/boti_pipe/data/dados_parciais.txt',\n",
    "                   sep=';', decimal=',')"
   ]
  },
  {
   "cell_type": "code",
   "execution_count": 6,
   "id": "b9adbc0d",
   "metadata": {
    "scrolled": true,
    "pycharm": {
     "name": "#%%\n"
    }
   },
   "outputs": [
    {
     "name": "stdout",
     "output_type": "stream",
     "text": [
      "<class 'pandas.core.frame.DataFrame'>\n",
      "RangeIndex: 29 entries, 0 to 28\n",
      "Data columns (total 6 columns):\n",
      " #   Column      Non-Null Count  Dtype  \n",
      "---  ------      --------------  -----  \n",
      " 0   regiao      28 non-null     object \n",
      " 1   uf          29 non-null     object \n",
      " 2   superficie  29 non-null     int64  \n",
      " 3   pop_urbana  27 non-null     float64\n",
      " 4   pop_rural   27 non-null     float64\n",
      " 5   total       27 non-null     float64\n",
      "dtypes: float64(3), int64(1), object(2)\n",
      "memory usage: 1.5+ KB\n"
     ]
    }
   ],
   "source": [
    "# Antes de começarmos a processar nossos dados, queremos entender algumas coisas básicas sobre eles.\n",
    "df.info()"
   ]
  },
  {
   "cell_type": "code",
   "execution_count": 7,
   "id": "54d4948e",
   "metadata": {
    "scrolled": true,
    "pycharm": {
     "name": "#%%\n"
    }
   },
   "outputs": [
    {
     "data": {
      "text/plain": "     regiao        uf  superficie  pop_urbana  pop_rural      total\n0     Norte        RO      238513    762864.0   468143.0  1231007.0\n1     Norte        AC      153150    315401.0   168322.0   483726.0\n2     Norte        AM     1577820   1766166.0   623113.0  2389279.0\n3     Norte        RR      225116    174277.0    72854.0   247131.0\n4     Norte        PA     1253165   2949017.0  2561832.0  5510849.0\n5     Norte        AP      143454    330590.0    48869.0   379459.0\n6     Norte        TO      278421    741009.0   307633.0  1048642.0\n7  Nordeste        MA      333366   2711557.0  2511008.0  5222565.0\n8  Nordeste        PI      252379   1556115.0  1117061.0  2673176.0\n9  Nordeste  Litígio*        2977         NaN        NaN        NaN",
      "text/html": "<div>\n<style scoped>\n    .dataframe tbody tr th:only-of-type {\n        vertical-align: middle;\n    }\n\n    .dataframe tbody tr th {\n        vertical-align: top;\n    }\n\n    .dataframe thead th {\n        text-align: right;\n    }\n</style>\n<table border=\"1\" class=\"dataframe\">\n  <thead>\n    <tr style=\"text-align: right;\">\n      <th></th>\n      <th>regiao</th>\n      <th>uf</th>\n      <th>superficie</th>\n      <th>pop_urbana</th>\n      <th>pop_rural</th>\n      <th>total</th>\n    </tr>\n  </thead>\n  <tbody>\n    <tr>\n      <th>0</th>\n      <td>Norte</td>\n      <td>RO</td>\n      <td>238513</td>\n      <td>762864.0</td>\n      <td>468143.0</td>\n      <td>1231007.0</td>\n    </tr>\n    <tr>\n      <th>1</th>\n      <td>Norte</td>\n      <td>AC</td>\n      <td>153150</td>\n      <td>315401.0</td>\n      <td>168322.0</td>\n      <td>483726.0</td>\n    </tr>\n    <tr>\n      <th>2</th>\n      <td>Norte</td>\n      <td>AM</td>\n      <td>1577820</td>\n      <td>1766166.0</td>\n      <td>623113.0</td>\n      <td>2389279.0</td>\n    </tr>\n    <tr>\n      <th>3</th>\n      <td>Norte</td>\n      <td>RR</td>\n      <td>225116</td>\n      <td>174277.0</td>\n      <td>72854.0</td>\n      <td>247131.0</td>\n    </tr>\n    <tr>\n      <th>4</th>\n      <td>Norte</td>\n      <td>PA</td>\n      <td>1253165</td>\n      <td>2949017.0</td>\n      <td>2561832.0</td>\n      <td>5510849.0</td>\n    </tr>\n    <tr>\n      <th>5</th>\n      <td>Norte</td>\n      <td>AP</td>\n      <td>143454</td>\n      <td>330590.0</td>\n      <td>48869.0</td>\n      <td>379459.0</td>\n    </tr>\n    <tr>\n      <th>6</th>\n      <td>Norte</td>\n      <td>TO</td>\n      <td>278421</td>\n      <td>741009.0</td>\n      <td>307633.0</td>\n      <td>1048642.0</td>\n    </tr>\n    <tr>\n      <th>7</th>\n      <td>Nordeste</td>\n      <td>MA</td>\n      <td>333366</td>\n      <td>2711557.0</td>\n      <td>2511008.0</td>\n      <td>5222565.0</td>\n    </tr>\n    <tr>\n      <th>8</th>\n      <td>Nordeste</td>\n      <td>PI</td>\n      <td>252379</td>\n      <td>1556115.0</td>\n      <td>1117061.0</td>\n      <td>2673176.0</td>\n    </tr>\n    <tr>\n      <th>9</th>\n      <td>Nordeste</td>\n      <td>Litígio*</td>\n      <td>2977</td>\n      <td>NaN</td>\n      <td>NaN</td>\n      <td>NaN</td>\n    </tr>\n  </tbody>\n</table>\n</div>"
     },
     "execution_count": 7,
     "metadata": {},
     "output_type": "execute_result"
    }
   ],
   "source": [
    "df.head(10)"
   ]
  },
  {
   "cell_type": "code",
   "execution_count": 8,
   "id": "d57b090a",
   "metadata": {
    "pycharm": {
     "name": "#%%\n"
    }
   },
   "outputs": [
    {
     "data": {
      "text/plain": "(29, 6)"
     },
     "execution_count": 8,
     "metadata": {},
     "output_type": "execute_result"
    }
   ],
   "source": [
    "df.shape"
   ]
  },
  {
   "cell_type": "code",
   "execution_count": 9,
   "id": "4aa0e010",
   "metadata": {
    "pycharm": {
     "name": "#%%\n"
    }
   },
   "outputs": [
    {
     "data": {
      "text/plain": "regiao        28\nuf            29\nsuperficie    29\npop_urbana    27\npop_rural     27\ntotal         27\ndtype: int64"
     },
     "execution_count": 9,
     "metadata": {},
     "output_type": "execute_result"
    }
   ],
   "source": [
    "df.count()"
   ]
  },
  {
   "cell_type": "code",
   "execution_count": 10,
   "id": "8c2d0d52",
   "metadata": {
    "pycharm": {
     "name": "#%%\n"
    }
   },
   "outputs": [
    {
     "data": {
      "text/plain": "Index(['regiao', 'uf', 'superficie', 'pop_urbana', 'pop_rural', 'total'], dtype='object')"
     },
     "execution_count": 10,
     "metadata": {},
     "output_type": "execute_result"
    }
   ],
   "source": [
    "df.columns"
   ]
  },
  {
   "cell_type": "code",
   "execution_count": 11,
   "id": "6516f87c",
   "metadata": {
    "pycharm": {
     "name": "#%%\n"
    }
   },
   "outputs": [],
   "source": [
    "df.columns = ['regiao', 'estado', 'area', 'pop_urb', 'pop_rur', 'total']"
   ]
  },
  {
   "cell_type": "code",
   "execution_count": 12,
   "id": "ce7fb2b7",
   "metadata": {
    "pycharm": {
     "name": "#%%\n"
    }
   },
   "outputs": [
    {
     "data": {
      "text/plain": "     regiao    estado     area    pop_urb    pop_rur      total\n0     Norte        RO   238513   762864.0   468143.0  1231007.0\n1     Norte        AC   153150   315401.0   168322.0   483726.0\n2     Norte        AM  1577820  1766166.0   623113.0  2389279.0\n3     Norte        RR   225116   174277.0    72854.0   247131.0\n4     Norte        PA  1253165  2949017.0  2561832.0  5510849.0\n5     Norte        AP   143454   330590.0    48869.0   379459.0\n6     Norte        TO   278421   741009.0   307633.0  1048642.0\n7  Nordeste        MA   333366  2711557.0  2511008.0  5222565.0\n8  Nordeste        PI   252379  1556115.0  1117061.0  2673176.0\n9  Nordeste  Litígio*     2977        NaN        NaN        NaN",
      "text/html": "<div>\n<style scoped>\n    .dataframe tbody tr th:only-of-type {\n        vertical-align: middle;\n    }\n\n    .dataframe tbody tr th {\n        vertical-align: top;\n    }\n\n    .dataframe thead th {\n        text-align: right;\n    }\n</style>\n<table border=\"1\" class=\"dataframe\">\n  <thead>\n    <tr style=\"text-align: right;\">\n      <th></th>\n      <th>regiao</th>\n      <th>estado</th>\n      <th>area</th>\n      <th>pop_urb</th>\n      <th>pop_rur</th>\n      <th>total</th>\n    </tr>\n  </thead>\n  <tbody>\n    <tr>\n      <th>0</th>\n      <td>Norte</td>\n      <td>RO</td>\n      <td>238513</td>\n      <td>762864.0</td>\n      <td>468143.0</td>\n      <td>1231007.0</td>\n    </tr>\n    <tr>\n      <th>1</th>\n      <td>Norte</td>\n      <td>AC</td>\n      <td>153150</td>\n      <td>315401.0</td>\n      <td>168322.0</td>\n      <td>483726.0</td>\n    </tr>\n    <tr>\n      <th>2</th>\n      <td>Norte</td>\n      <td>AM</td>\n      <td>1577820</td>\n      <td>1766166.0</td>\n      <td>623113.0</td>\n      <td>2389279.0</td>\n    </tr>\n    <tr>\n      <th>3</th>\n      <td>Norte</td>\n      <td>RR</td>\n      <td>225116</td>\n      <td>174277.0</td>\n      <td>72854.0</td>\n      <td>247131.0</td>\n    </tr>\n    <tr>\n      <th>4</th>\n      <td>Norte</td>\n      <td>PA</td>\n      <td>1253165</td>\n      <td>2949017.0</td>\n      <td>2561832.0</td>\n      <td>5510849.0</td>\n    </tr>\n    <tr>\n      <th>5</th>\n      <td>Norte</td>\n      <td>AP</td>\n      <td>143454</td>\n      <td>330590.0</td>\n      <td>48869.0</td>\n      <td>379459.0</td>\n    </tr>\n    <tr>\n      <th>6</th>\n      <td>Norte</td>\n      <td>TO</td>\n      <td>278421</td>\n      <td>741009.0</td>\n      <td>307633.0</td>\n      <td>1048642.0</td>\n    </tr>\n    <tr>\n      <th>7</th>\n      <td>Nordeste</td>\n      <td>MA</td>\n      <td>333366</td>\n      <td>2711557.0</td>\n      <td>2511008.0</td>\n      <td>5222565.0</td>\n    </tr>\n    <tr>\n      <th>8</th>\n      <td>Nordeste</td>\n      <td>PI</td>\n      <td>252379</td>\n      <td>1556115.0</td>\n      <td>1117061.0</td>\n      <td>2673176.0</td>\n    </tr>\n    <tr>\n      <th>9</th>\n      <td>Nordeste</td>\n      <td>Litígio*</td>\n      <td>2977</td>\n      <td>NaN</td>\n      <td>NaN</td>\n      <td>NaN</td>\n    </tr>\n  </tbody>\n</table>\n</div>"
     },
     "execution_count": 12,
     "metadata": {},
     "output_type": "execute_result"
    }
   ],
   "source": [
    "df.head(10)"
   ]
  },
  {
   "cell_type": "code",
   "execution_count": 13,
   "id": "347d6d06",
   "metadata": {
    "pycharm": {
     "name": "#%%\n"
    }
   },
   "outputs": [],
   "source": [
    "# e se eu só quisesse renomear 1 coluna?\n",
    "df = df.rename(columns = {'regiao':'reg'}).copy()"
   ]
  },
  {
   "cell_type": "code",
   "execution_count": null,
   "id": "d6ff4a03",
   "metadata": {
    "pycharm": {
     "name": "#%%\n"
    }
   },
   "outputs": [],
   "source": [
    "# Esse .copy é chato. Dá pra fazer direto, alterar o dataframe nele próprio?\n",
    "# Consigo, embora não seja bom ficar fazendo isso o tempo todo.\n",
    "df.rename(columns = {'estado':'uf'}, inplace=True)"
   ]
  },
  {
   "cell_type": "code",
   "execution_count": null,
   "id": "6785f8ed",
   "metadata": {
    "pycharm": {
     "name": "#%%\n"
    }
   },
   "outputs": [],
   "source": [
    "# Também podemos jogar colunas fora.\n",
    "df.drop(columns=['total'], inplace=True)"
   ]
  },
  {
   "cell_type": "markdown",
   "id": "2b596ee0",
   "metadata": {
    "pycharm": {
     "name": "#%% md\n"
    }
   },
   "source": [
    "## Manipulando meu dataframe"
   ]
  },
  {
   "cell_type": "code",
   "execution_count": null,
   "id": "5a745483",
   "metadata": {
    "pycharm": {
     "name": "#%%\n"
    }
   },
   "outputs": [],
   "source": [
    "# Meu dataframe consiste em:\n",
    "# Um índice\n",
    "# Colunas (que são series)\n",
    "\n",
    "# Para pegar o meu índice.\n",
    "df.index"
   ]
  },
  {
   "cell_type": "code",
   "execution_count": null,
   "id": "4c1af198",
   "metadata": {
    "pycharm": {
     "name": "#%%\n"
    }
   },
   "outputs": [],
   "source": [
    "# A primeira coisa que queremos aprender é como acessar os elementos do meu dataframe.\n",
    "# Existem diversas formas de fazer isso.\n",
    "\n",
    "# Vamos tentar acessar elementos da quinta linha do meu dataframe.\n",
    "quinta_linha = df.iloc[5]"
   ]
  },
  {
   "cell_type": "code",
   "execution_count": null,
   "id": "c444478c",
   "metadata": {
    "pycharm": {
     "name": "#%%\n"
    }
   },
   "outputs": [],
   "source": [
    "quinta_linha"
   ]
  },
  {
   "cell_type": "code",
   "execution_count": null,
   "id": "8e6711fa",
   "metadata": {
    "pycharm": {
     "name": "#%%\n"
    }
   },
   "outputs": [],
   "source": [
    "# Essa quinta linha vai ser um Pandas Series!\n",
    "print(type(quinta_linha))"
   ]
  },
  {
   "cell_type": "code",
   "execution_count": null,
   "id": "b5c6fa60",
   "metadata": {
    "pycharm": {
     "name": "#%%\n"
    }
   },
   "outputs": [],
   "source": [
    "# Podemos então pegar um elemento da quinta linha pela posição, ou pelo nome do index.\n",
    "quinta_linha.iloc[1]"
   ]
  },
  {
   "cell_type": "code",
   "execution_count": null,
   "id": "3db92391",
   "metadata": {
    "pycharm": {
     "name": "#%%\n"
    }
   },
   "outputs": [],
   "source": [
    "quinta_linha.loc['uf']"
   ]
  },
  {
   "cell_type": "code",
   "execution_count": null,
   "id": "6a9ecbd8",
   "metadata": {
    "pycharm": {
     "name": "#%%\n"
    }
   },
   "outputs": [],
   "source": [
    "quinta_linha['uf']"
   ]
  },
  {
   "cell_type": "code",
   "execution_count": null,
   "id": "76a218d0",
   "metadata": {
    "pycharm": {
     "name": "#%%\n"
    }
   },
   "outputs": [],
   "source": [
    "# O mesmo pode ser feito diretamente com o DataFrame\n",
    "df.loc[5, 'uf']"
   ]
  },
  {
   "cell_type": "code",
   "execution_count": null,
   "id": "61c1618d",
   "metadata": {
    "pycharm": {
     "name": "#%%\n"
    }
   },
   "outputs": [],
   "source": [
    "df.iloc[5, 1]"
   ]
  },
  {
   "cell_type": "code",
   "execution_count": null,
   "id": "def08653",
   "metadata": {
    "pycharm": {
     "name": "#%%\n"
    }
   },
   "outputs": [],
   "source": [
    "df.iat[5, 1]"
   ]
  },
  {
   "cell_type": "code",
   "execution_count": null,
   "id": "63fcc5f4",
   "metadata": {
    "pycharm": {
     "name": "#%%\n"
    }
   },
   "outputs": [],
   "source": [
    "df.at[5, 'uf']"
   ]
  },
  {
   "cell_type": "code",
   "execution_count": null,
   "id": "a173bc3c",
   "metadata": {
    "pycharm": {
     "name": "#%%\n"
    }
   },
   "outputs": [],
   "source": [
    "# Também podemos pegar subconjuntos de linhas através de slicing\n",
    "df.loc[:5, 'uf']"
   ]
  },
  {
   "cell_type": "code",
   "execution_count": null,
   "id": "e96e78ce",
   "metadata": {
    "pycharm": {
     "name": "#%%\n"
    }
   },
   "outputs": [],
   "source": [
    "# Ou através de uma máscara booleana\n",
    "df.loc[df['regiao']=='Centro-Oeste']"
   ]
  },
  {
   "cell_type": "code",
   "execution_count": null,
   "id": "b93a0bbd",
   "metadata": {
    "pycharm": {
     "name": "#%%\n"
    }
   },
   "outputs": [],
   "source": [
    "# Pode ser também que queiramos trabalhar com colunas.\n",
    "regioes = df['regiao']"
   ]
  },
  {
   "cell_type": "code",
   "execution_count": null,
   "id": "a0d42134",
   "metadata": {
    "pycharm": {
     "name": "#%%\n"
    }
   },
   "outputs": [],
   "source": [
    "print(type(regioes))"
   ]
  },
  {
   "cell_type": "code",
   "execution_count": null,
   "id": "25984358",
   "metadata": {
    "pycharm": {
     "name": "#%%\n"
    }
   },
   "outputs": [],
   "source": [
    "# Se o nome da coluna não tiver espaço, também podemos pegar os seus valores usando ponto.\n",
    "df.regiao"
   ]
  },
  {
   "cell_type": "code",
   "execution_count": null,
   "id": "4ca6bcc7",
   "metadata": {
    "pycharm": {
     "name": "#%%\n"
    }
   },
   "outputs": [],
   "source": [
    "# Ok, até agora, que diferença fez eu ter Pandas Series?\n",
    "df.regiao.value_counts() # Eu posso pegar quantos estados tenho em cada região."
   ]
  },
  {
   "cell_type": "code",
   "execution_count": null,
   "id": "bccc539d",
   "metadata": {
    "pycharm": {
     "name": "#%%\n"
    }
   },
   "outputs": [],
   "source": [
    "# Quantos estados têm população acima de 1 milhão de habitantes?\n",
    "series = df.total > 1000000"
   ]
  },
  {
   "cell_type": "code",
   "execution_count": null,
   "id": "5e7a4987",
   "metadata": {
    "pycharm": {
     "name": "#%%\n"
    }
   },
   "outputs": [],
   "source": [
    "series.head(10)"
   ]
  },
  {
   "cell_type": "code",
   "execution_count": null,
   "id": "10abe048",
   "metadata": {
    "scrolled": true,
    "pycharm": {
     "name": "#%%\n"
    }
   },
   "outputs": [],
   "source": [
    "series.value_counts()"
   ]
  },
  {
   "cell_type": "code",
   "execution_count": null,
   "id": "4ef1d99f",
   "metadata": {
    "pycharm": {
     "name": "#%%\n"
    }
   },
   "outputs": [],
   "source": [
    "# Também podemos tentar ver quais são os elementos únicos de uma pandas series.\n",
    "regioes = df.regiao"
   ]
  },
  {
   "cell_type": "code",
   "execution_count": null,
   "id": "d02d209c",
   "metadata": {
    "pycharm": {
     "name": "#%%\n"
    }
   },
   "outputs": [],
   "source": [
    "regioes.unique()"
   ]
  },
  {
   "cell_type": "code",
   "execution_count": null,
   "id": "153229b6",
   "metadata": {
    "pycharm": {
     "name": "#%%\n"
    }
   },
   "outputs": [],
   "source": [
    "regioes.nunique()"
   ]
  },
  {
   "cell_type": "markdown",
   "id": "ec7f6d3e",
   "metadata": {
    "pycharm": {
     "name": "#%% md\n"
    }
   },
   "source": [
    "Podemos também fazer alterações no dataframe, de forma que nos ajude a ter mais informações."
   ]
  },
  {
   "cell_type": "code",
   "execution_count": null,
   "id": "5b1f780a",
   "metadata": {
    "pycharm": {
     "name": "#%%\n"
    }
   },
   "outputs": [],
   "source": [
    "# Eu posso reorganizar o meu dataframe de acordo com qualquer coluna.\n",
    "sorted_values = df.sort_values(by='total', ascending=False).copy()"
   ]
  },
  {
   "cell_type": "code",
   "execution_count": null,
   "id": "48e4681c",
   "metadata": {
    "pycharm": {
     "name": "#%%\n"
    }
   },
   "outputs": [],
   "source": [
    "sorted_values.head(10)"
   ]
  },
  {
   "cell_type": "code",
   "execution_count": null,
   "id": "ffc37bea",
   "metadata": {
    "pycharm": {
     "name": "#%%\n"
    }
   },
   "outputs": [],
   "source": [
    "# Quais estados com menos habitantes?\n",
    "sorted_values.tail(10)"
   ]
  },
  {
   "cell_type": "code",
   "execution_count": null,
   "outputs": [],
   "source": [],
   "metadata": {
    "collapsed": false,
    "pycharm": {
     "name": "#%%\n"
    }
   }
  },
  {
   "cell_type": "code",
   "execution_count": 15,
   "outputs": [],
   "source": [
    "# A função \"read_table\" é equivalente à \"read_csv\", só muda que ela é mais geral.\n",
    "# Tente ler abaixo os dados de população para um dataframe, usando pd.read_table\n",
    "df = pd.read_table('/Users/magnovaldo/Documents/Training/lets_code/ds_boticario/boti_pipe/data/dados_parciais.txt',\n",
    "                   sep=';', decimal=',')"
   ],
   "metadata": {
    "collapsed": false,
    "pycharm": {
     "name": "#%%\n"
    }
   }
  },
  {
   "cell_type": "code",
   "execution_count": 17,
   "outputs": [
    {
     "data": {
      "text/plain": "     regiao        uf  superficie  pop_urbana  pop_rural      total\n0     Norte        RO      238513    762864.0   468143.0  1231007.0\n1     Norte        AC      153150    315401.0   168322.0   483726.0\n2     Norte        AM     1577820   1766166.0   623113.0  2389279.0\n3     Norte        RR      225116    174277.0    72854.0   247131.0\n4     Norte        PA     1253165   2949017.0  2561832.0  5510849.0\n5     Norte        AP      143454    330590.0    48869.0   379459.0\n6     Norte        TO      278421    741009.0   307633.0  1048642.0\n7  Nordeste        MA      333366   2711557.0  2511008.0  5222565.0\n8  Nordeste        PI      252379   1556115.0  1117061.0  2673176.0\n9  Nordeste  Litígio*        2977         NaN        NaN        NaN",
      "text/html": "<div>\n<style scoped>\n    .dataframe tbody tr th:only-of-type {\n        vertical-align: middle;\n    }\n\n    .dataframe tbody tr th {\n        vertical-align: top;\n    }\n\n    .dataframe thead th {\n        text-align: right;\n    }\n</style>\n<table border=\"1\" class=\"dataframe\">\n  <thead>\n    <tr style=\"text-align: right;\">\n      <th></th>\n      <th>regiao</th>\n      <th>uf</th>\n      <th>superficie</th>\n      <th>pop_urbana</th>\n      <th>pop_rural</th>\n      <th>total</th>\n    </tr>\n  </thead>\n  <tbody>\n    <tr>\n      <th>0</th>\n      <td>Norte</td>\n      <td>RO</td>\n      <td>238513</td>\n      <td>762864.0</td>\n      <td>468143.0</td>\n      <td>1231007.0</td>\n    </tr>\n    <tr>\n      <th>1</th>\n      <td>Norte</td>\n      <td>AC</td>\n      <td>153150</td>\n      <td>315401.0</td>\n      <td>168322.0</td>\n      <td>483726.0</td>\n    </tr>\n    <tr>\n      <th>2</th>\n      <td>Norte</td>\n      <td>AM</td>\n      <td>1577820</td>\n      <td>1766166.0</td>\n      <td>623113.0</td>\n      <td>2389279.0</td>\n    </tr>\n    <tr>\n      <th>3</th>\n      <td>Norte</td>\n      <td>RR</td>\n      <td>225116</td>\n      <td>174277.0</td>\n      <td>72854.0</td>\n      <td>247131.0</td>\n    </tr>\n    <tr>\n      <th>4</th>\n      <td>Norte</td>\n      <td>PA</td>\n      <td>1253165</td>\n      <td>2949017.0</td>\n      <td>2561832.0</td>\n      <td>5510849.0</td>\n    </tr>\n    <tr>\n      <th>5</th>\n      <td>Norte</td>\n      <td>AP</td>\n      <td>143454</td>\n      <td>330590.0</td>\n      <td>48869.0</td>\n      <td>379459.0</td>\n    </tr>\n    <tr>\n      <th>6</th>\n      <td>Norte</td>\n      <td>TO</td>\n      <td>278421</td>\n      <td>741009.0</td>\n      <td>307633.0</td>\n      <td>1048642.0</td>\n    </tr>\n    <tr>\n      <th>7</th>\n      <td>Nordeste</td>\n      <td>MA</td>\n      <td>333366</td>\n      <td>2711557.0</td>\n      <td>2511008.0</td>\n      <td>5222565.0</td>\n    </tr>\n    <tr>\n      <th>8</th>\n      <td>Nordeste</td>\n      <td>PI</td>\n      <td>252379</td>\n      <td>1556115.0</td>\n      <td>1117061.0</td>\n      <td>2673176.0</td>\n    </tr>\n    <tr>\n      <th>9</th>\n      <td>Nordeste</td>\n      <td>Litígio*</td>\n      <td>2977</td>\n      <td>NaN</td>\n      <td>NaN</td>\n      <td>NaN</td>\n    </tr>\n  </tbody>\n</table>\n</div>"
     },
     "execution_count": 17,
     "metadata": {},
     "output_type": "execute_result"
    }
   ],
   "source": [
    "df.head(10)"
   ],
   "metadata": {
    "collapsed": false,
    "pycharm": {
     "name": "#%%\n"
    }
   }
  },
  {
   "cell_type": "code",
   "execution_count": 18,
   "outputs": [],
   "source": [
    "total = df['total']"
   ],
   "metadata": {
    "collapsed": false,
    "pycharm": {
     "name": "#%%\n"
    }
   }
  },
  {
   "cell_type": "code",
   "execution_count": 19,
   "outputs": [],
   "source": [
    "superficie = df['superficie']"
   ],
   "metadata": {
    "collapsed": false,
    "pycharm": {
     "name": "#%%\n"
    }
   }
  },
  {
   "cell_type": "code",
   "execution_count": 20,
   "outputs": [],
   "source": [
    "densidade = total / superficie"
   ],
   "metadata": {
    "collapsed": false,
    "pycharm": {
     "name": "#%%\n"
    }
   }
  },
  {
   "cell_type": "code",
   "execution_count": 21,
   "outputs": [
    {
     "data": {
      "text/plain": "     regiao        uf  superficie  pop_urbana  pop_rural      total  densidade\n0     Norte        RO      238513    762864.0   468143.0  1231007.0   5.161174\n1     Norte        AC      153150    315401.0   168322.0   483726.0   3.158511\n2     Norte        AM     1577820   1766166.0   623113.0  2389279.0   1.514291\n3     Norte        RR      225116    174277.0    72854.0   247131.0   1.097794\n4     Norte        PA     1253165   2949017.0  2561832.0  5510849.0   4.397545\n5     Norte        AP      143454    330590.0    48869.0   379459.0   2.645162\n6     Norte        TO      278421    741009.0   307633.0  1048642.0   3.766390\n7  Nordeste        MA      333366   2711557.0  2511008.0  5222565.0  15.666160\n8  Nordeste        PI      252379   1556115.0  1117061.0  2673176.0  10.591911\n9  Nordeste  Litígio*        2977         NaN        NaN        NaN        NaN",
      "text/html": "<div>\n<style scoped>\n    .dataframe tbody tr th:only-of-type {\n        vertical-align: middle;\n    }\n\n    .dataframe tbody tr th {\n        vertical-align: top;\n    }\n\n    .dataframe thead th {\n        text-align: right;\n    }\n</style>\n<table border=\"1\" class=\"dataframe\">\n  <thead>\n    <tr style=\"text-align: right;\">\n      <th></th>\n      <th>regiao</th>\n      <th>uf</th>\n      <th>superficie</th>\n      <th>pop_urbana</th>\n      <th>pop_rural</th>\n      <th>total</th>\n      <th>densidade</th>\n    </tr>\n  </thead>\n  <tbody>\n    <tr>\n      <th>0</th>\n      <td>Norte</td>\n      <td>RO</td>\n      <td>238513</td>\n      <td>762864.0</td>\n      <td>468143.0</td>\n      <td>1231007.0</td>\n      <td>5.161174</td>\n    </tr>\n    <tr>\n      <th>1</th>\n      <td>Norte</td>\n      <td>AC</td>\n      <td>153150</td>\n      <td>315401.0</td>\n      <td>168322.0</td>\n      <td>483726.0</td>\n      <td>3.158511</td>\n    </tr>\n    <tr>\n      <th>2</th>\n      <td>Norte</td>\n      <td>AM</td>\n      <td>1577820</td>\n      <td>1766166.0</td>\n      <td>623113.0</td>\n      <td>2389279.0</td>\n      <td>1.514291</td>\n    </tr>\n    <tr>\n      <th>3</th>\n      <td>Norte</td>\n      <td>RR</td>\n      <td>225116</td>\n      <td>174277.0</td>\n      <td>72854.0</td>\n      <td>247131.0</td>\n      <td>1.097794</td>\n    </tr>\n    <tr>\n      <th>4</th>\n      <td>Norte</td>\n      <td>PA</td>\n      <td>1253165</td>\n      <td>2949017.0</td>\n      <td>2561832.0</td>\n      <td>5510849.0</td>\n      <td>4.397545</td>\n    </tr>\n    <tr>\n      <th>5</th>\n      <td>Norte</td>\n      <td>AP</td>\n      <td>143454</td>\n      <td>330590.0</td>\n      <td>48869.0</td>\n      <td>379459.0</td>\n      <td>2.645162</td>\n    </tr>\n    <tr>\n      <th>6</th>\n      <td>Norte</td>\n      <td>TO</td>\n      <td>278421</td>\n      <td>741009.0</td>\n      <td>307633.0</td>\n      <td>1048642.0</td>\n      <td>3.766390</td>\n    </tr>\n    <tr>\n      <th>7</th>\n      <td>Nordeste</td>\n      <td>MA</td>\n      <td>333366</td>\n      <td>2711557.0</td>\n      <td>2511008.0</td>\n      <td>5222565.0</td>\n      <td>15.666160</td>\n    </tr>\n    <tr>\n      <th>8</th>\n      <td>Nordeste</td>\n      <td>PI</td>\n      <td>252379</td>\n      <td>1556115.0</td>\n      <td>1117061.0</td>\n      <td>2673176.0</td>\n      <td>10.591911</td>\n    </tr>\n    <tr>\n      <th>9</th>\n      <td>Nordeste</td>\n      <td>Litígio*</td>\n      <td>2977</td>\n      <td>NaN</td>\n      <td>NaN</td>\n      <td>NaN</td>\n      <td>NaN</td>\n    </tr>\n  </tbody>\n</table>\n</div>"
     },
     "execution_count": 21,
     "metadata": {},
     "output_type": "execute_result"
    }
   ],
   "source": [
    "df['densidade'] = densidade\n",
    "df.head(10)"
   ],
   "metadata": {
    "collapsed": false,
    "pycharm": {
     "name": "#%%\n"
    }
   }
  },
  {
   "cell_type": "code",
   "execution_count": 27,
   "outputs": [],
   "source": [
    "df['perc_rural'] = round(df['pop_rural'] / df['total']*100,2)"
   ],
   "metadata": {
    "collapsed": false,
    "pycharm": {
     "name": "#%%\n"
    }
   }
  },
  {
   "cell_type": "code",
   "execution_count": 28,
   "outputs": [
    {
     "data": {
      "text/plain": "  regiao  uf  superficie  pop_urbana  pop_rural      total  densidade  \\\n0  Norte  RO      238513    762864.0   468143.0  1231007.0   5.161174   \n1  Norte  AC      153150    315401.0   168322.0   483726.0   3.158511   \n2  Norte  AM     1577820   1766166.0   623113.0  2389279.0   1.514291   \n3  Norte  RR      225116    174277.0    72854.0   247131.0   1.097794   \n4  Norte  PA     1253165   2949017.0  2561832.0  5510849.0   4.397545   \n\n   perc_rural  \n0       38.03  \n1       34.80  \n2       26.08  \n3       29.48  \n4       46.49  ",
      "text/html": "<div>\n<style scoped>\n    .dataframe tbody tr th:only-of-type {\n        vertical-align: middle;\n    }\n\n    .dataframe tbody tr th {\n        vertical-align: top;\n    }\n\n    .dataframe thead th {\n        text-align: right;\n    }\n</style>\n<table border=\"1\" class=\"dataframe\">\n  <thead>\n    <tr style=\"text-align: right;\">\n      <th></th>\n      <th>regiao</th>\n      <th>uf</th>\n      <th>superficie</th>\n      <th>pop_urbana</th>\n      <th>pop_rural</th>\n      <th>total</th>\n      <th>densidade</th>\n      <th>perc_rural</th>\n    </tr>\n  </thead>\n  <tbody>\n    <tr>\n      <th>0</th>\n      <td>Norte</td>\n      <td>RO</td>\n      <td>238513</td>\n      <td>762864.0</td>\n      <td>468143.0</td>\n      <td>1231007.0</td>\n      <td>5.161174</td>\n      <td>38.03</td>\n    </tr>\n    <tr>\n      <th>1</th>\n      <td>Norte</td>\n      <td>AC</td>\n      <td>153150</td>\n      <td>315401.0</td>\n      <td>168322.0</td>\n      <td>483726.0</td>\n      <td>3.158511</td>\n      <td>34.80</td>\n    </tr>\n    <tr>\n      <th>2</th>\n      <td>Norte</td>\n      <td>AM</td>\n      <td>1577820</td>\n      <td>1766166.0</td>\n      <td>623113.0</td>\n      <td>2389279.0</td>\n      <td>1.514291</td>\n      <td>26.08</td>\n    </tr>\n    <tr>\n      <th>3</th>\n      <td>Norte</td>\n      <td>RR</td>\n      <td>225116</td>\n      <td>174277.0</td>\n      <td>72854.0</td>\n      <td>247131.0</td>\n      <td>1.097794</td>\n      <td>29.48</td>\n    </tr>\n    <tr>\n      <th>4</th>\n      <td>Norte</td>\n      <td>PA</td>\n      <td>1253165</td>\n      <td>2949017.0</td>\n      <td>2561832.0</td>\n      <td>5510849.0</td>\n      <td>4.397545</td>\n      <td>46.49</td>\n    </tr>\n  </tbody>\n</table>\n</div>"
     },
     "execution_count": 28,
     "metadata": {},
     "output_type": "execute_result"
    }
   ],
   "source": [
    "df.head()"
   ],
   "metadata": {
    "collapsed": false,
    "pycharm": {
     "name": "#%%\n"
    }
   }
  },
  {
   "cell_type": "code",
   "execution_count": null,
   "outputs": [],
   "source": [],
   "metadata": {
    "collapsed": false,
    "pycharm": {
     "name": "#%%\n"
    }
   }
  }
 ],
 "metadata": {
  "kernelspec": {
   "name": "python3",
   "language": "python",
   "display_name": "Python 3 (ipykernel)"
  },
  "language_info": {
   "codemirror_mode": {
    "name": "ipython",
    "version": 3
   },
   "file_extension": ".py",
   "mimetype": "text/x-python",
   "name": "python",
   "nbconvert_exporter": "python",
   "pygments_lexer": "ipython3",
   "version": "3.7.2"
  }
 },
 "nbformat": 4,
 "nbformat_minor": 5
}