{
 "cells": [
  {
   "cell_type": "markdown",
   "id": "b63823cb",
   "metadata": {
    "pycharm": {
     "name": "#%% md\n"
    }
   },
   "source": [
    "# Aula 3.1 - Numpy pt2\n",
    "\n",
    "Na última aula, vimos o básico da biblioteca NumPy, utilizada para computação científica. Hoje, vamos tentar sedimentar nosso conhecimento com uma rápida revisão, e depois conversar um pouco sobre maiores detalhes da biblioteca. "
   ]
  },
  {
   "cell_type": "markdown",
   "id": "f6d42e0e",
   "metadata": {
    "pycharm": {
     "name": "#%% md\n"
    }
   },
   "source": [
    "---"
   ]
  },
  {
   "cell_type": "markdown",
   "id": "6cb31112",
   "metadata": {
    "pycharm": {
     "name": "#%% md\n"
    }
   },
   "source": [
    "## Revisão"
   ]
  },
  {
   "cell_type": "code",
   "execution_count": 2,
   "id": "55d1ce62",
   "metadata": {
    "pycharm": {
     "is_executing": true,
     "name": "#%%\n"
    }
   },
   "outputs": [],
   "source": [
    "# Lembrando do import do numpy como \"np\"\n",
    "import numpy as np"
   ]
  },
  {
   "cell_type": "code",
   "execution_count": null,
   "id": "a264200a",
   "metadata": {
    "pycharm": {
     "name": "#%%\n"
    }
   },
   "outputs": [],
   "source": [
    "# A estrutura de dados básica do numpy é o \"ndarray\"\n",
    "var = np.array([[[1, 2, 3],\n",
    "                 [4, 5, 6],\n",
    "                 [7, 8, 9]],\n",
    "                [[-1, 0, 0],\n",
    "                 [0, -1, 0],\n",
    "                 [0,  0, 1]],])\n",
    "\n",
    "# Ela possui atributos básicos de dimensão, formato, número de elementos,\n",
    "# e tipo dos elementos\n",
    "print(\"Dimensões:\",var.ndim)\n",
    "print(\"Formato:\",var.shape)\n",
    "print(\"Número de elementos:\",var.size)\n",
    "print(\"Tipo dos elementos:\",var.dtype)"
   ]
  },
  {
   "cell_type": "code",
   "execution_count": null,
   "id": "751652cc",
   "metadata": {
    "pycharm": {
     "name": "#%%\n"
    }
   },
   "outputs": [],
   "source": [
    "# Nós também podemos criar alguns arrays específicos com métodos pré-definidos\n",
    "print(\"Array de zeros\")\n",
    "arr_zero = np.zeros((2,3,2))\n",
    "print(arr_zero) # Criar um array de zeros\n",
    "print('-----')\n",
    "print(\"Array de uns\")\n",
    "arr_uns = np.ones((4, 5))\n",
    "print(arr_uns) # Criar um array de zeros\n",
    "print('-----')\n",
    "\n",
    "# O numpy tem muitos mais métodos do que os que vimos. \n",
    "# É bom sempre olharmos na documentação ou na internet se precisarmos de algum específico\n",
    "# que não sabemos se existe.\n",
    "print(\"Array com todos os elementos 29.123\")\n",
    "arr_float = np.full((4, 5), fill_value=29.123, dtype=np.float64)\n",
    "print(arr_float)"
   ]
  },
  {
   "cell_type": "code",
   "execution_count": null,
   "id": "4eeddc7c",
   "metadata": {
    "pycharm": {
     "name": "#%%\n"
    }
   },
   "outputs": [],
   "source": [
    "# Também aprendemos sobre indexação (indexing) e fatiamento (slicing)\n",
    "print(var[0,:,1])\n",
    "print(var[0,::-1,1])\n",
    "print(var[0,1,:])\n",
    "print(var[:,1,1])\n",
    "print(var[[0, 0, 1, 1],[0, 1, 0, 1],[0, 1, 0, 1]]) #Podemos também usar indexação por listas"
   ]
  },
  {
   "cell_type": "code",
   "execution_count": null,
   "id": "53882a9a",
   "metadata": {
    "pycharm": {
     "name": "#%%\n"
    }
   },
   "outputs": [],
   "source": [
    "# Podemos passar máscaras booleanas para o nosso array\n",
    "print(var[var > 0])"
   ]
  },
  {
   "cell_type": "code",
   "execution_count": null,
   "id": "f6409aa4",
   "metadata": {
    "pycharm": {
     "name": "#%%\n"
    }
   },
   "outputs": [],
   "source": [
    "# Por fim, temos também as operações matemáticas básicas\n",
    "vec1 = np.array([1, 2, 0])\n",
    "vec2 = np.array([0, 1, 1])\n",
    "matriz = np.array([[-1, 0, 0],\n",
    "                   [0, -1, 0],\n",
    "                   [0, 0, 1]])\n",
    "\n",
    "print(vec1 + vec2) # Soma é elemento a elemento\n",
    "print(vec1 - vec2) # Subtração também\n",
    "print(vec1 * vec2) # Multiplicação também\n",
    "print(vec1 / vec2) # Divisão também\n",
    "\n",
    "print(vec2 @ vec1) # Produto matricial e produto interno\n",
    "print((matriz @ vec1) @ vec1) # Produto matricial e produto interno"
   ]
  },
  {
   "cell_type": "markdown",
   "id": "2bc36591",
   "metadata": {
    "pycharm": {
     "name": "#%% md\n"
    }
   },
   "source": [
    "## Mais detalhes\n",
    "\n",
    "Vamos agora ver alguns detalhes extras da biblioteca que nos ajudam bastante a usá-la em momentos não triviais."
   ]
  },
  {
   "cell_type": "markdown",
   "id": "dc23b2b0",
   "metadata": {
    "pycharm": {
     "name": "#%% md\n"
    }
   },
   "source": [
    "### Manipulação de arrays"
   ]
  },
  {
   "cell_type": "code",
   "execution_count": 3,
   "id": "8a38e1ac",
   "metadata": {
    "pycharm": {
     "name": "#%%\n"
    }
   },
   "outputs": [],
   "source": [
    "# Transforme o vetor abaixo em uma matriz 3x3\n",
    "x = np.array([0.1, 0.4, 1.0, 0.2, 0.7, 1.2, 1.1, 1.0, 0.9])"
   ]
  },
  {
   "cell_type": "code",
   "execution_count": 7,
   "id": "6978f54f",
   "metadata": {
    "pycharm": {
     "name": "#%%\n"
    }
   },
   "outputs": [
    {
     "name": "stdout",
     "output_type": "stream",
     "text": [
      "[[0.1 0.4 1. ]\n",
      " [0.2 0.7 1.2]\n",
      " [1.1 1.  0.9]]\n"
     ]
    }
   ],
   "source": [
    "new_x = np.reshape(x,(3,3))\n",
    "print(new_x)"
   ]
  },
  {
   "cell_type": "code",
   "execution_count": 12,
   "id": "c171f87d",
   "metadata": {
    "pycharm": {
     "name": "#%%\n"
    }
   },
   "outputs": [],
   "source": [
    "# Transforme a matriz abaixo em uma lista de valores crescentes\n",
    "x = np.array([[1, 2, 3],\n",
    "              [4, 5, 6],\n",
    "              [7, 8, 9]])"
   ]
  },
  {
   "cell_type": "code",
   "execution_count": 13,
   "id": "208611d3",
   "metadata": {
    "pycharm": {
     "name": "#%%\n"
    }
   },
   "outputs": [
    {
     "data": {
      "text/plain": [
       "array([1, 2, 3, 4, 5, 6, 7, 8, 9])"
      ]
     },
     "execution_count": 13,
     "metadata": {},
     "output_type": "execute_result"
    }
   ],
   "source": [
    "x.flatten()"
   ]
  },
  {
   "cell_type": "code",
   "execution_count": 14,
   "id": "2b58f641",
   "metadata": {},
   "outputs": [
    {
     "data": {
      "text/plain": [
       "array([1, 2, 3, 4, 5, 6, 7, 8, 9])"
      ]
     },
     "execution_count": 14,
     "metadata": {},
     "output_type": "execute_result"
    }
   ],
   "source": [
    "np.reshape(x,-1)"
   ]
  },
  {
   "cell_type": "code",
   "execution_count": 15,
   "id": "5f134a8d",
   "metadata": {
    "pycharm": {
     "name": "#%%\n"
    }
   },
   "outputs": [],
   "source": [
    "# Faça a transposta da matriz abaixo. Ou seja, troque os valores \n",
    "# com relação à diagonal. \n",
    "# O elemento na posição (1,2) vai para a posição (2,1), e vice versa.\n",
    "x = np.array([[0, 1, 1],\n",
    "              [2, 0, 1],\n",
    "              [2, 2, 0]])"
   ]
  },
  {
   "cell_type": "code",
   "execution_count": 16,
   "id": "9ae3d605",
   "metadata": {
    "pycharm": {
     "name": "#%%\n"
    }
   },
   "outputs": [
    {
     "data": {
      "text/plain": [
       "array([[0, 2, 2],\n",
       "       [1, 0, 2],\n",
       "       [1, 1, 0]])"
      ]
     },
     "execution_count": 16,
     "metadata": {},
     "output_type": "execute_result"
    }
   ],
   "source": [
    "x.T"
   ]
  },
  {
   "cell_type": "code",
   "execution_count": 17,
   "id": "9914367e",
   "metadata": {},
   "outputs": [
    {
     "data": {
      "text/plain": [
       "array([[0, 2, 2],\n",
       "       [1, 0, 2],\n",
       "       [1, 1, 0]])"
      ]
     },
     "execution_count": 17,
     "metadata": {},
     "output_type": "execute_result"
    }
   ],
   "source": [
    "np.transpose(x)"
   ]
  },
  {
   "cell_type": "code",
   "execution_count": 18,
   "id": "10d547f8",
   "metadata": {},
   "outputs": [
    {
     "data": {
      "text/plain": [
       "array([[0, 2, 2],\n",
       "       [1, 0, 2],\n",
       "       [1, 1, 0]])"
      ]
     },
     "execution_count": 18,
     "metadata": {},
     "output_type": "execute_result"
    }
   ],
   "source": [
    "x.transpose()"
   ]
  },
  {
   "cell_type": "code",
   "execution_count": 19,
   "id": "43c6f453",
   "metadata": {
    "pycharm": {
     "name": "#%%\n"
    }
   },
   "outputs": [],
   "source": [
    "# Também podemos combinar arrays diferentes.\n",
    "# Imagina que temos duas features, altura e peso de pessoas físicas.\n",
    "x1 = np.array([[1.67, 89.],\n",
    "               [1.79, 85.],\n",
    "               [1.69, 65.],\n",
    "               [1.54, 57.],\n",
    "               [1.50, 45.]])\n",
    "\n",
    "# Porém, nós queremos testar agora adicionar uma terceira feature, se a pessoa é homem ou mulher.\n",
    "# 1 é mulher, 0 é homem\n",
    "x2 = np.array([1, 0, 1, 0, 1])\n",
    "\n",
    "# Como podemos fazer?"
   ]
  },
  {
   "cell_type": "code",
   "execution_count": 23,
   "id": "3c0b1e51",
   "metadata": {
    "pycharm": {
     "name": "#%%\n"
    }
   },
   "outputs": [
    {
     "data": {
      "text/plain": [
       "array([[ 1.67, 89.  ,  1.  ],\n",
       "       [ 1.79, 85.  ,  0.  ],\n",
       "       [ 1.69, 65.  ,  1.  ],\n",
       "       [ 1.54, 57.  ,  0.  ],\n",
       "       [ 1.5 , 45.  ,  1.  ]])"
      ]
     },
     "execution_count": 23,
     "metadata": {},
     "output_type": "execute_result"
    }
   ],
   "source": [
    "np.concatenate((x1, x2.reshape(-1,1)), axis=1)"
   ]
  },
  {
   "cell_type": "code",
   "execution_count": 22,
   "id": "9ba61fca",
   "metadata": {},
   "outputs": [
    {
     "data": {
      "text/plain": [
       "array([[ 1.67, 89.  ,  1.  ],\n",
       "       [ 1.79, 85.  ,  0.  ],\n",
       "       [ 1.69, 65.  ,  1.  ],\n",
       "       [ 1.54, 57.  ,  0.  ],\n",
       "       [ 1.5 , 45.  ,  1.  ]])"
      ]
     },
     "execution_count": 22,
     "metadata": {},
     "output_type": "execute_result"
    }
   ],
   "source": [
    "np.column_stack([x1, x2])"
   ]
  },
  {
   "cell_type": "code",
   "execution_count": 24,
   "id": "5cf59fb6",
   "metadata": {},
   "outputs": [
    {
     "data": {
      "text/plain": [
       "array([[ 1.67,  1.  , 89.  ],\n",
       "       [ 1.79,  0.  , 85.  ],\n",
       "       [ 1.69,  1.  , 65.  ],\n",
       "       [ 1.54,  0.  , 57.  ],\n",
       "       [ 1.5 ,  1.  , 45.  ]])"
      ]
     },
     "execution_count": 24,
     "metadata": {},
     "output_type": "execute_result"
    }
   ],
   "source": [
    "np.insert(x1, 1, x2, axis=1)"
   ]
  },
  {
   "cell_type": "code",
   "execution_count": 26,
   "id": "cab1bff4",
   "metadata": {},
   "outputs": [
    {
     "ename": "TypeError",
     "evalue": "'CClass' object is not callable",
     "output_type": "error",
     "traceback": [
      "\u001b[0;31m---------------------------------------------------------------------------\u001b[0m",
      "\u001b[0;31mTypeError\u001b[0m                                 Traceback (most recent call last)",
      "\u001b[0;32m/var/folders/bb/fw10kpq94778xr97pn87n8jnddvh42/T/ipykernel_23100/1840925129.py\u001b[0m in \u001b[0;36m<module>\u001b[0;34m\u001b[0m\n\u001b[0;32m----> 1\u001b[0;31m \u001b[0mnp\u001b[0m\u001b[0;34m.\u001b[0m\u001b[0mc_\u001b[0m\u001b[0;34m(\u001b[0m\u001b[0;34m[\u001b[0m\u001b[0mx1\u001b[0m\u001b[0;34m,\u001b[0m \u001b[0mx2\u001b[0m\u001b[0;34m]\u001b[0m\u001b[0;34m)\u001b[0m\u001b[0;34m\u001b[0m\u001b[0;34m\u001b[0m\u001b[0m\n\u001b[0m",
      "\u001b[0;31mTypeError\u001b[0m: 'CClass' object is not callable"
     ]
    }
   ],
   "source": [
    "np.c_([x1, x2])"
   ]
  },
  {
   "cell_type": "code",
   "execution_count": 27,
   "id": "1eed91de",
   "metadata": {
    "pycharm": {
     "name": "#%%\n"
    }
   },
   "outputs": [],
   "source": [
    "# Agora temos a tabela de dados abaixo.\n",
    "table = np.array([[1.67, 89., 1],\n",
    "                  [1.79, 85., 0],\n",
    "                  [1.69, 65., 1],\n",
    "                  [1.54, 57., 0],\n",
    "                  [1.50, 45., 1]])\n",
    "\n",
    "# Mas tinhamos esquecido de outras 3 pessoas!\n",
    "new_table = np.array([[1.78, 91, 0],\n",
    "                      [1.72, 67, 1],\n",
    "                      [1.77, 76, 1]])\n",
    "\n",
    "# Como podemos juntar as tabelas?"
   ]
  },
  {
   "cell_type": "code",
   "execution_count": null,
   "id": "6a34382b",
   "metadata": {},
   "outputs": [],
   "source": []
  },
  {
   "cell_type": "markdown",
   "id": "44dfd808",
   "metadata": {
    "pycharm": {
     "name": "#%% md\n"
    }
   },
   "source": [
    "### Funções matemáticas"
   ]
  },
  {
   "cell_type": "code",
   "execution_count": 28,
   "id": "cbc68bc1",
   "metadata": {
    "pycharm": {
     "name": "#%%\n"
    }
   },
   "outputs": [],
   "source": [
    "# NÃO VAMOS FALAR DE VISUALIZAÇÃO DE DADOS AINDA!\n",
    "# Porém, vou importar aqui uma biblioteca de visualização por questões pedagógicas,\n",
    "# para vermos visualmente os resultados de algumas operações\n",
    "import matplotlib.pyplot as plt"
   ]
  },
  {
   "cell_type": "code",
   "execution_count": 32,
   "id": "1e6c84fb",
   "metadata": {
    "pycharm": {
     "name": "#%%\n"
    }
   },
   "outputs": [],
   "source": [
    "# Como podemos desenhar a função coseno entre x=-6.3 e x=6.3?\n",
    "# Faça uma variável x com os pontos entre -2 e 2 que você escolher.\n",
    "# Faça uma variável y com o valor do coseno nesses pontos.\n",
    "x = np.linspace(-6.3, 6.3, 100)\n",
    "y = np.cos(x)"
   ]
  },
  {
   "cell_type": "code",
   "execution_count": 33,
   "id": "beb1bdc3",
   "metadata": {
    "pycharm": {
     "name": "#%%\n"
    }
   },
   "outputs": [
    {
     "data": {
      "image/png": "[encoded data removed]",
      "text/plain": [
       "<Figure size 432x288 with 1 Axes>"
      ]
     },
     "metadata": {
      "needs_background": "light"
     },
     "output_type": "display_data"
    }
   ],
   "source": [
    "# Agora rode o código abaixo.\n",
    "plt.plot(x, y)\n",
    "plt.show()"
   ]
  },
  {
   "cell_type": "code",
   "execution_count": 40,
   "id": "9b97d5fc",
   "metadata": {
    "pycharm": {
     "name": "#%%\n"
    }
   },
   "outputs": [],
   "source": [
    "# Faça o mesmo de antes, mas agora a função é:\n",
    "# exp(-|x|)\n",
    "# Pesquisa pela função \"abs\" no numpy\n",
    "x = np.linspace(-10, 10, 1000)\n",
    "y = np.exp(-abs(x))"
   ]
  },
  {
   "cell_type": "code",
   "execution_count": 41,
   "id": "6528c6b9",
   "metadata": {
    "pycharm": {
     "name": "#%%\n"
    }
   },
   "outputs": [
    {
     "data": {
      "image/png": "[encoded data removed]",
      "text/plain": [
       "<Figure size 432x288 with 1 Axes>"
      ]
     },
     "metadata": {
      "needs_background": "light"
     },
     "output_type": "display_data"
    }
   ],
   "source": [
    "# Agora rode o código abaixo.\n",
    "plt.plot(x, y)\n",
    "plt.show()"
   ]
  },
  {
   "cell_type": "markdown",
   "id": "2dd270f9",
   "metadata": {
    "pycharm": {
     "name": "#%% md\n"
    }
   },
   "source": [
    "Vamos fazer uma visualização legal, usando como referência \n",
    "[o blog do John D Cook](johndcook.com/blog/2017/10/07/exponential-sums-make-pretty-pictures).\n",
    "\n",
    "\n",
    "A ideía é que as soma parciais de \"exponenciais complexas\",\n",
    "$$ \\sum_{n=0}^{N} \\exp{\\left(2\\cdot\\pi\\cdot j \\cdot \\left(\\frac{n}{m} + \\frac{n^2}{d} + \\frac{n^3}{y}\\right)\\right)} $$\n",
    "\n",
    "para diferentes valores de $m$, $y$ e $d$, dão gráficos muito bonitos.\n",
    "\n",
    "![teste](https://www.johndcook.com/expsum01.png)"
   ]
  },
  {
   "cell_type": "code",
   "execution_count": 45,
   "id": "2d2b2a20",
   "metadata": {
    "pycharm": {
     "name": "#%%\n"
    }
   },
   "outputs": [],
   "source": [
    "# Como ficaria a lógica do código no numpy?\n",
    "y = 22\n",
    "m = 12\n",
    "d = 2\n",
    "\n",
    "N = 2000 # Número de somas parciais\n",
    "\n",
    "# Para fazer a operação acima com números complexos, faça o seguinte:\n",
    "# Onde você faria a conta que está dentro da exponencial, faça tudo esquecendo o j.\n",
    "# Aí, ainda dentro da exponencial, você multiplica tudo por \"1j\".\n",
    "\n",
    "# Para obter somas parciais, pesquise \"cumsum\" dentro do numpy.\n",
    "\n",
    "# Salve o resultado em uma variável \"soma_acumulada\"\n",
    "n = np.arange(0, N+1)\n",
    "soma_acumulada = np.cumsum(np.exp(2.0 * np.pi * ((n/m) + ((n**2)/d) + ((n**3)/y))*1j), axis=0)"
   ]
  },
  {
   "cell_type": "code",
   "execution_count": 47,
   "id": "1d57e2ac",
   "metadata": {},
   "outputs": [
    {
     "data": {
      "text/plain": [
       "577.6388721914988"
      ]
     },
     "execution_count": 47,
     "metadata": {},
     "output_type": "execute_result"
    }
   ],
   "source": [
    "np.mean(n)\n",
    "np.std(n)"
   ]
  },
  {
   "cell_type": "code",
   "execution_count": 46,
   "id": "bacc3081",
   "metadata": {
    "pycharm": {
     "name": "#%%\n"
    }
   },
   "outputs": [
    {
     "data": {
      "image/png": "[encoded data removed]",
      "text/plain": [
       "<Figure size 432x288 with 1 Axes>"
      ]
     },
     "metadata": {
      "needs_background": "light"
     },
     "output_type": "display_data"
    }
   ],
   "source": [
    "# Com a sua soma acumulada, rode o código abaixo.\n",
    "plt.plot(np.real(soma_acumulada), np.imag(soma_acumulada))\n",
    "plt.show()"
   ]
  },
  {
   "cell_type": "code",
   "execution_count": 50,
   "id": "1b1993c5",
   "metadata": {
    "pycharm": {
     "name": "#%%\n"
    }
   },
   "outputs": [
    {
     "data": {
      "text/plain": [
       "(-0.148736542916, 0.8421443172490778)"
      ]
     },
     "execution_count": 50,
     "metadata": {},
     "output_type": "execute_result"
    }
   ],
   "source": [
    "# Arrays do numpy também têm alguns métodos já salvos neles, para alguns tipos de operações matemáticas.\n",
    "\n",
    "# Encontre a média e o desvio padrão do array abaixo.\n",
    "data = [-3.99639747e-01,  1.17716084e-03,  7.57112282e-01, -1.38651800e+00,\n",
    "         7.67865914e-01, -1.07935805e+00,  2.57581851e-01, -8.42067558e-01,\n",
    "         1.22636135e+00, -7.89880632e-01]\n",
    "\n",
    "np.mean(data), np.std(data)"
   ]
  },
  {
   "cell_type": "code",
   "execution_count": 49,
   "id": "f2b28c8e",
   "metadata": {
    "pycharm": {
     "name": "#%%\n"
    }
   },
   "outputs": [
    {
     "data": {
      "text/plain": [
       "79003"
      ]
     },
     "execution_count": 49,
     "metadata": {},
     "output_type": "execute_result"
    }
   ],
   "source": [
    "# Encontre a soma do array abaixo, sem usar fórmulas fechadas.\n",
    "x = np.arange(0, 398, 1)\n",
    "\n",
    "np.sum(x)"
   ]
  },
  {
   "cell_type": "markdown",
   "id": "647f47d0",
   "metadata": {
    "pycharm": {
     "name": "#%% md\n"
    }
   },
   "source": [
    "### Tipos de dados"
   ]
  },
  {
   "cell_type": "markdown",
   "id": "c7fadc82",
   "metadata": {
    "pycharm": {
     "name": "#%% md\n"
    }
   },
   "source": [
    "Primeiro vamos falar do infinito (e além).\n",
    "\n",
    "Quando fazemos operações de ponto flutuante no computador, existe um padrão técnico (definido pela IEEE, o Instituto de Engenheiros Eletro-eletrônicos) que define algumas coisas que uma biblioteca tem que ter.\n",
    "\n",
    "Especificamente, aqui vamos falar de duas coisas:\n",
    "- Not a Number (NAN)\n",
    "- Infinito"
   ]
  },
  {
   "cell_type": "code",
   "execution_count": 51,
   "id": "032870fe",
   "metadata": {
    "pycharm": {
     "name": "#%%\n"
    }
   },
   "outputs": [
    {
     "ename": "ZeroDivisionError",
     "evalue": "division by zero",
     "output_type": "error",
     "traceback": [
      "\u001b[0;31m---------------------------------------------------------------------------\u001b[0m",
      "\u001b[0;31mZeroDivisionError\u001b[0m                         Traceback (most recent call last)",
      "\u001b[0;32m/var/folders/bb/fw10kpq94778xr97pn87n8jnddvh42/T/ipykernel_23100/2267467693.py\u001b[0m in \u001b[0;36m<module>\u001b[0;34m\u001b[0m\n\u001b[1;32m      1\u001b[0m \u001b[0;31m# Not a Number é o resultado de operações inválidas.\u001b[0m\u001b[0;34m\u001b[0m\u001b[0;34m\u001b[0m\u001b[0m\n\u001b[1;32m      2\u001b[0m \u001b[0;31m# Embora ele exista no Python, operações inválidas tendem a levantar um erro.\u001b[0m\u001b[0;34m\u001b[0m\u001b[0;34m\u001b[0m\u001b[0m\n\u001b[0;32m----> 3\u001b[0;31m \u001b[0;36m0\u001b[0m\u001b[0;34m/\u001b[0m\u001b[0;36m0\u001b[0m\u001b[0;34m\u001b[0m\u001b[0;34m\u001b[0m\u001b[0m\n\u001b[0m",
      "\u001b[0;31mZeroDivisionError\u001b[0m: division by zero"
     ]
    }
   ],
   "source": [
    "# Not a Number é o resultado de operações inválidas.\n",
    "# Embora ele exista no Python, operações inválidas tendem a levantar um erro.\n",
    "0/0\n"
   ]
  },
  {
   "cell_type": "code",
   "execution_count": null,
   "id": "7fb7f81a",
   "metadata": {
    "pycharm": {
     "name": "#%%\n"
    }
   },
   "outputs": [],
   "source": [
    "# Para usá-lo no python, temos que converter string para float.\n",
    "float('NaN')"
   ]
  },
  {
   "cell_type": "code",
   "execution_count": null,
   "id": "70d63552",
   "metadata": {
    "pycharm": {
     "name": "#%%\n"
    }
   },
   "outputs": [],
   "source": [
    "# No numpy, temos o objeto nan.\n",
    "print(np.nan)\n",
    "print(type(np.nan))"
   ]
  },
  {
   "cell_type": "code",
   "execution_count": 52,
   "id": "74b50191",
   "metadata": {
    "pycharm": {
     "name": "#%%\n"
    }
   },
   "outputs": [
    {
     "name": "stdout",
     "output_type": "stream",
     "text": [
      "[0.5 0.  0.5 nan]\n"
     ]
    },
    {
     "name": "stderr",
     "output_type": "stream",
     "text": [
      "/var/folders/bb/fw10kpq94778xr97pn87n8jnddvh42/T/ipykernel_23100/1370221415.py:5: RuntimeWarning: invalid value encountered in true_divide\n",
      "  print(x1 / x2)\n"
     ]
    }
   ],
   "source": [
    "# Já no numpy, operações inválidas retornam NaN mesmo.\n",
    "x1 = np.array([1, 0, 1, 0])\n",
    "x2 = np.array([2, 1, 2, 0])\n",
    "\n",
    "print(x1 / x2)"
   ]
  },
  {
   "cell_type": "code",
   "execution_count": 53,
   "id": "466ce8f9",
   "metadata": {
    "pycharm": {
     "name": "#%%\n"
    }
   },
   "outputs": [
    {
     "ename": "ZeroDivisionError",
     "evalue": "division by zero",
     "output_type": "error",
     "traceback": [
      "\u001b[0;31m---------------------------------------------------------------------------\u001b[0m",
      "\u001b[0;31mZeroDivisionError\u001b[0m                         Traceback (most recent call last)",
      "\u001b[0;32m/var/folders/bb/fw10kpq94778xr97pn87n8jnddvh42/T/ipykernel_23100/1896654093.py\u001b[0m in \u001b[0;36m<module>\u001b[0;34m\u001b[0m\n\u001b[1;32m      1\u001b[0m \u001b[0;31m# \"Infinito\", no padrão, pode ser pensado como um número que é maior que qualquer outro número.\u001b[0m\u001b[0;34m\u001b[0m\u001b[0;34m\u001b[0m\u001b[0m\n\u001b[1;32m      2\u001b[0m \u001b[0;31m# No caso de \"-infinito\", temos um número que é menor que qualquer outro número.\u001b[0m\u001b[0;34m\u001b[0m\u001b[0;34m\u001b[0m\u001b[0m\n\u001b[0;32m----> 3\u001b[0;31m \u001b[0;36m1\u001b[0m\u001b[0;34m/\u001b[0m\u001b[0;36m0\u001b[0m\u001b[0;34m\u001b[0m\u001b[0;34m\u001b[0m\u001b[0m\n\u001b[0m",
      "\u001b[0;31mZeroDivisionError\u001b[0m: division by zero"
     ]
    }
   ],
   "source": [
    "# \"Infinito\", no padrão, pode ser pensado como um número que é maior que qualquer outro número.\n",
    "# No caso de \"-infinito\", temos um número que é menor que qualquer outro número.\n",
    "1/0"
   ]
  },
  {
   "cell_type": "code",
   "execution_count": 54,
   "id": "0ace9a0a",
   "metadata": {
    "pycharm": {
     "name": "#%%\n"
    }
   },
   "outputs": [
    {
     "name": "stdout",
     "output_type": "stream",
     "text": [
      "inf\n",
      "True\n",
      "True\n"
     ]
    }
   ],
   "source": [
    "print(float('inf'))\n",
    "print(float('inf') > 293818943824723984.928)\n",
    "print(-float('inf') < -293818943824723984.928)"
   ]
  },
  {
   "cell_type": "code",
   "execution_count": 55,
   "id": "15e4e912",
   "metadata": {
    "pycharm": {
     "name": "#%%\n"
    }
   },
   "outputs": [
    {
     "name": "stdout",
     "output_type": "stream",
     "text": [
      "inf\n",
      "True\n",
      "True\n",
      "<class 'float'>\n"
     ]
    }
   ],
   "source": [
    "# No Numpy, não seria diferente.\n",
    "print(np.inf)\n",
    "print(np.inf > 293818943824723984.928)\n",
    "print(-np.inf < -293818943824723984.928)\n",
    "print(type(np.inf))"
   ]
  },
  {
   "cell_type": "code",
   "execution_count": 56,
   "id": "038542fa",
   "metadata": {
    "pycharm": {
     "name": "#%%\n"
    }
   },
   "outputs": [
    {
     "name": "stdout",
     "output_type": "stream",
     "text": [
      "[ 2. inf  2. nan]\n"
     ]
    },
    {
     "name": "stderr",
     "output_type": "stream",
     "text": [
      "/var/folders/bb/fw10kpq94778xr97pn87n8jnddvh42/T/ipykernel_23100/1137161946.py:5: RuntimeWarning: divide by zero encountered in true_divide\n",
      "  print(x2 / x1)\n",
      "/var/folders/bb/fw10kpq94778xr97pn87n8jnddvh42/T/ipykernel_23100/1137161946.py:5: RuntimeWarning: invalid value encountered in true_divide\n",
      "  print(x2 / x1)\n"
     ]
    }
   ],
   "source": [
    "# No numpy, algumas operações podem gerar infinitos.\n",
    "x1 = np.array([1, 0, 1, 0])\n",
    "x2 = np.array([2, 1, 2, 0])\n",
    "\n",
    "print(x2 / x1)"
   ]
  },
  {
   "cell_type": "markdown",
   "id": "8be43a5f",
   "metadata": {
    "pycharm": {
     "name": "#%% md\n"
    }
   },
   "source": [
    "Notou que tanto infinito quanto NaN são do tipo \"float\"? Não são float64, nem float32, nem anda assim.\n",
    "\n",
    "Isso é devido à hierarquia de dtypes do numpy.\n",
    "\n",
    "![hierarchy](https://numpy.org/doc/stable/_images/dtype-hierarchy.png)"
   ]
  },
  {
   "cell_type": "code",
   "execution_count": 57,
   "id": "6f9458e3",
   "metadata": {
    "pycharm": {
     "name": "#%%\n"
    }
   },
   "outputs": [
    {
     "data": {
      "text/plain": [
       "False"
      ]
     },
     "execution_count": 57,
     "metadata": {},
     "output_type": "execute_result"
    }
   ],
   "source": [
    "# No numpy, nós temos implementados tipos com maior ou menor acurácia.\n",
    "# Por exemplo, temos float16, float32, e float64, cada um com maior acurácia que o anterior.\n",
    "f16 = np.float16(\"0.1\")\n",
    "f32 = np.float32(\"0.1\")\n",
    "f64 = np.float64(\"0.1\")\n",
    "f16 == f32 == f64"
   ]
  },
  {
   "cell_type": "markdown",
   "id": "0976f33e",
   "metadata": {
    "pycharm": {
     "name": "#%% md\n"
    }
   },
   "source": [
    "Mas todos os três são diferentes!\n",
    "\n",
    "Para saber mais:\n",
    "\n",
    "https://numpy.org/doc/stable/reference/arrays.scalars.html"
   ]
  },
  {
   "cell_type": "code",
   "execution_count": 58,
   "id": "7db69d93",
   "metadata": {
    "pycharm": {
     "name": "#%%\n"
    }
   },
   "outputs": [
    {
     "name": "stdout",
     "output_type": "stream",
     "text": [
      "int64\n"
     ]
    }
   ],
   "source": [
    "# Nós também podemos converter o dtype de um array!\n",
    "print(x1.dtype)"
   ]
  },
  {
   "cell_type": "code",
   "execution_count": 59,
   "id": "746b34a5",
   "metadata": {
    "pycharm": {
     "name": "#%%\n"
    }
   },
   "outputs": [
    {
     "name": "stdout",
     "output_type": "stream",
     "text": [
      "float32\n"
     ]
    }
   ],
   "source": [
    "print(x1.astype(np.float32).dtype)"
   ]
  },
  {
   "cell_type": "markdown",
   "id": "1ab174b9",
   "metadata": {
    "pycharm": {
     "name": "#%% md\n"
    }
   },
   "source": [
    "### Broadcasting\n",
    "\n",
    "https://numpy.org/doc/stable/user/basics.broadcasting.html"
   ]
  },
  {
   "cell_type": "code",
   "execution_count": 60,
   "id": "7e527e35",
   "metadata": {
    "pycharm": {
     "name": "#%%\n"
    }
   },
   "outputs": [],
   "source": [
    "# No numpy, nós conseguimos multiplicar arrays de tamanhos diferentes, \n",
    "# desde que faça sentido pensar no array menor \"caminhando\" pelo maior.\n",
    "\n",
    "# Pode pensar como se fosse o menor sendo duplicado, triplicado, etc...,\n",
    "# até os dois arrays terem mesmo tamanho."
   ]
  },
  {
   "cell_type": "markdown",
   "id": "0ee9dbd1",
   "metadata": {
    "pycharm": {
     "name": "#%% md\n"
    }
   },
   "source": [
    "![broadcasting_ok](https://numpy.org/doc/stable/_images/broadcasting_2.png)"
   ]
  },
  {
   "cell_type": "markdown",
   "id": "34352fe0",
   "metadata": {
    "pycharm": {
     "name": "#%% md\n"
    }
   },
   "source": [
    "![broadcasting_nok](https://numpy.org/doc/stable/_images/broadcasting_3.png)"
   ]
  },
  {
   "cell_type": "code",
   "execution_count": 61,
   "id": "a4b9c417",
   "metadata": {
    "pycharm": {
     "name": "#%%\n"
    }
   },
   "outputs": [],
   "source": [
    "a = np.array([[0,0,0],\n",
    "              [10, 10, 10],\n",
    "              [20, 20, 20],\n",
    "              [30, 30, 30]])\n",
    "\n",
    "b = np.array([1, 2, 3])\n",
    "c = np.array([1, 2, 3, 4])"
   ]
  },
  {
   "cell_type": "code",
   "execution_count": 62,
   "id": "4be7ace9",
   "metadata": {
    "pycharm": {
     "name": "#%%\n"
    }
   },
   "outputs": [
    {
     "data": {
      "text/plain": [
       "array([[ 0,  0,  0],\n",
       "       [10, 20, 30],\n",
       "       [20, 40, 60],\n",
       "       [30, 60, 90]])"
      ]
     },
     "execution_count": 62,
     "metadata": {},
     "output_type": "execute_result"
    }
   ],
   "source": [
    "a * b"
   ]
  },
  {
   "cell_type": "code",
   "execution_count": 63,
   "id": "2b02bb05",
   "metadata": {
    "pycharm": {
     "name": "#%%\n"
    }
   },
   "outputs": [
    {
     "ename": "ValueError",
     "evalue": "operands could not be broadcast together with shapes (4,3) (4,) ",
     "output_type": "error",
     "traceback": [
      "\u001b[0;31m---------------------------------------------------------------------------\u001b[0m",
      "\u001b[0;31mValueError\u001b[0m                                Traceback (most recent call last)",
      "\u001b[0;32m/var/folders/bb/fw10kpq94778xr97pn87n8jnddvh42/T/ipykernel_23100/2570290981.py\u001b[0m in \u001b[0;36m<module>\u001b[0;34m\u001b[0m\n\u001b[0;32m----> 1\u001b[0;31m \u001b[0ma\u001b[0m \u001b[0;34m*\u001b[0m \u001b[0mc\u001b[0m\u001b[0;34m\u001b[0m\u001b[0;34m\u001b[0m\u001b[0m\n\u001b[0m",
      "\u001b[0;31mValueError\u001b[0m: operands could not be broadcast together with shapes (4,3) (4,) "
     ]
    }
   ],
   "source": [
    "a * c"
   ]
  },
  {
   "cell_type": "code",
   "execution_count": null,
   "id": "e20e0959",
   "metadata": {},
   "outputs": [],
   "source": []
  }
 ],
 "metadata": {
  "kernelspec": {
   "display_name": "Python 3 (ipykernel)",
   "language": "python",
   "name": "python3"
  },
  "language_info": {
   "codemirror_mode": {
    "name": "ipython",
    "version": 3
   },
   "file_extension": ".py",
   "mimetype": "text/x-python",
   "name": "python",
   "nbconvert_exporter": "python",
   "pygments_lexer": "ipython3",
   "version": "3.9.7"
  }
 },
 "nbformat": 4,
 "nbformat_minor": 5
}
