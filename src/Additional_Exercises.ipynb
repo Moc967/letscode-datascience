{
 "cells": [
  {
   "cell_type": "markdown",
   "source": [],
   "metadata": {
    "collapsed": false,
    "pycharm": {
     "name": "#%% md\n"
    }
   }
  },
  {
   "cell_type": "markdown",
   "source": [
    "# Informações úteis sobre pull-request no Github\n",
    "\n",
    "<p> O processo de criação e atualização de projetos via pull-requests para quem nunca o fez requer alguns cuidados. Desta forma, o link que segue pode ser usado como referência para executar esta tarefa.</p>\n",
    "\n",
    "### [Pull-request tips](https://docs.github.com/pt/pull-requests/collaborating-with-pull-requests/proposing-changes-to-your-work-with-pull-requests/about-pull-requests)"
   ],
   "metadata": {
    "collapsed": false,
    "pycharm": {
     "name": "#%% md\n"
    }
   },
   "outputs": []
  },
  {
   "cell_type": "markdown",
   "source": [
    "\n",
    "# [Exercícios adicionais de Numpy](https://github.com/rougier/numpy-100)\n",
    "\n",
    "# [Exercícios adicionais de Pandas](https://github.com/ajcr/100-pandas-puzzles)\n",
    "\n"
   ],
   "metadata": {
    "collapsed": false,
    "pycharm": {
     "name": "#%% md\n"
    }
   }
  },
  {
   "cell_type": "code",
   "execution_count": null,
   "outputs": [],
   "source": [
    "# 100 numpy exercises\n",
    "\n",
    "This is a collection of exercises that have been collected in the numpy mailing list, on stack\n",
    "overflow and in the numpy documentation. The goal of this collection is to offer a quick reference for both old\n",
    "and new users but also to provide a set of exercises for those who teach.\n",
    "\n",
    "\n",
    "If you find an error or think you've a better way to solve some of them, feel\n",
    "free to open an issue at <https://github.com/rougier/numpy-100>.\n",
    "\n",
    "File automatically generated. See the documentation to update questions/answers/hints programmatically.\n",
    "\n",
    "#### 1. Import the numpy package under the name `np` (★☆☆)\n",
    "\n",
    "#### 2. Print the numpy version and the configuration (★☆☆)\n",
    "\n",
    "#### 3. Create a null vector of size 10 (★☆☆)\n",
    "\n",
    "#### 4. How to find the memory size of any array (★☆☆)\n",
    "\n",
    "#### 5. How to get the documentation of the numpy add function from the command line? (★☆☆)\n",
    "\n",
    "#### 6. Create a null vector of size 10 but the fifth value which is 1 (★☆☆)\n",
    "\n",
    "#### 7. Create a vector with values ranging from 10 to 49 (★☆☆)\n",
    "\n",
    "#### 8. Reverse a vector (first element becomes last) (★☆☆)\n",
    "\n",
    "#### 9. Create a 3x3 matrix with values ranging from 0 to 8 (★☆☆)\n",
    "\n",
    "#### 10. Find indices of non-zero elements from [1,2,0,0,4,0] (★☆☆)\n",
    "\n",
    "#### 11. Create a 3x3 identity matrix (★☆☆)\n",
    "\n",
    "#### 12. Create a 3x3x3 array with random values (★☆☆)\n",
    "\n",
    "#### 13. Create a 10x10 array with random values and find the minimum and maximum values (★☆☆)\n",
    "\n",
    "#### 14. Create a random vector of size 30 and find the mean value (★☆☆)\n",
    "\n",
    "#### 15. Create a 2d array with 1 on the border and 0 inside (★☆☆)\n",
    "\n",
    "#### 16. How to add a border (filled with 0's) around an existing array? (★☆☆)\n",
    "\n",
    "#### 17. What is the result of the following expression? (★☆☆)\n",
    "```python\n",
    "0 * np.nan\n",
    "np.nan == np.nan\n",
    "np.inf > np.nan\n",
    "np.nan - np.nan\n",
    "np.nan in set([np.nan])\n",
    "0.3 == 3 * 0.1\n",
    "```\n",
    "\n",
    "#### 18. Create a 5x5 matrix with values 1,2,3,4 just below the diagonal (★☆☆)\n"
   ],
   "metadata": {
    "collapsed": false,
    "pycharm": {
     "name": "#%%\n"
    }
   }
  },
  {
   "cell_type": "markdown",
   "source": [
    "# 19. Create a 8x8 matrix and fill it with a checkerboard pattern (★☆☆)"
   ],
   "metadata": {
    "collapsed": false,
    "pycharm": {
     "name": "#%% md\n"
    }
   }
  },
  {
   "cell_type": "code",
   "execution_count": null,
   "outputs": [],
   "source": [],
   "metadata": {
    "collapsed": false,
    "pycharm": {
     "name": "#%%\n"
    }
   }
  },
  {
   "cell_type": "code",
   "execution_count": null,
   "outputs": [],
   "source": [
    "\n",
    "#### 20. Consider a (6,7,8) shape array, what is the index (x,y,z) of the 100th element? (★☆☆)"
   ],
   "metadata": {
    "collapsed": false,
    "pycharm": {
     "name": "#%%\n"
    }
   }
  },
  {
   "cell_type": "code",
   "execution_count": null,
   "outputs": [],
   "source": [
    "\n",
    "#### 21. Create a checkerboard 8x8 matrix using the tile function (★☆☆)"
   ],
   "metadata": {
    "collapsed": false,
    "pycharm": {
     "name": "#%%\n"
    }
   }
  },
  {
   "cell_type": "code",
   "execution_count": null,
   "outputs": [],
   "source": [
    "\n",
    "#### 22. Normalize a 5x5 random matrix (★☆☆)"
   ],
   "metadata": {
    "collapsed": false,
    "pycharm": {
     "name": "#%%\n"
    }
   }
  },
  {
   "cell_type": "code",
   "execution_count": null,
   "outputs": [],
   "source": [
    "\n",
    "#### 23. Create a custom dtype that describes a color as four unsigned bytes (RGBA) (★☆☆)"
   ],
   "metadata": {
    "collapsed": false,
    "pycharm": {
     "name": "#%%\n"
    }
   }
  },
  {
   "cell_type": "code",
   "execution_count": null,
   "outputs": [],
   "source": [
    "\n",
    "#### 24. Multiply a 5x3 matrix by a 3x2 matrix (real matrix product) (★☆☆)"
   ],
   "metadata": {
    "collapsed": false,
    "pycharm": {
     "name": "#%%\n"
    }
   }
  },
  {
   "cell_type": "code",
   "execution_count": null,
   "outputs": [],
   "source": [
    "#### 25. Given a 1D array, negate all elements which are between 3 and 8, in place. (★☆☆)"
   ],
   "metadata": {
    "collapsed": false,
    "pycharm": {
     "name": "#%%\n"
    }
   }
  },
  {
   "cell_type": "code",
   "execution_count": null,
   "outputs": [],
   "source": [
    "\n",
    "#### 26. What is the output of the following script? (★☆☆)\n",
    "```python\n",
    "# Author: Jake VanderPlas\n",
    "\n",
    "print(sum(range(5),-1))\n",
    "from numpy import *\n",
    "print(sum(range(5),-1))\n",
    "```"
   ],
   "metadata": {
    "collapsed": false,
    "pycharm": {
     "name": "#%%\n"
    }
   }
  },
  {
   "cell_type": "code",
   "execution_count": null,
   "outputs": [],
   "source": [
    "\n",
    "#### 27. Consider an integer vector Z, which of these expressions are legal? (★☆☆)\n",
    "```python\n",
    "Z**Z\n",
    "2 << Z >> 2\n",
    "Z <- Z\n",
    "1j*Z\n",
    "Z/1/1\n",
    "Z<Z>Z\n",
    "```"
   ],
   "metadata": {
    "collapsed": false,
    "pycharm": {
     "name": "#%%\n"
    }
   }
  },
  {
   "cell_type": "markdown",
   "source": [
    "\n",
    "#### 28. What are the result of the following expressions? (★☆☆)"
   ],
   "metadata": {
    "collapsed": false,
    "pycharm": {
     "name": "#%% md\n"
    }
   }
  },
  {
   "cell_type": "markdown",
   "source": [
    "```python\n",
    "np.array(0) / np.array(0)\n",
    "np.array(0) // np.array(0)\n",
    "np.array([np.nan]).astype(int).astype(float)\n",
    "```"
   ],
   "metadata": {
    "collapsed": false,
    "pycharm": {
     "name": "#%% md\n"
    }
   }
  },
  {
   "cell_type": "code",
   "execution_count": null,
   "outputs": [],
   "source": [],
   "metadata": {
    "collapsed": false,
    "pycharm": {
     "name": "#%%\n"
    }
   }
  },
  {
   "cell_type": "markdown",
   "source": [
    "\n",
    "### 29. How to round away from zero a float array ? (★☆☆)"
   ],
   "metadata": {
    "collapsed": false,
    "pycharm": {
     "name": "#%% md\n"
    }
   }
  },
  {
   "cell_type": "code",
   "execution_count": null,
   "outputs": [],
   "source": [],
   "metadata": {
    "collapsed": false,
    "pycharm": {
     "name": "#%%\n"
    }
   }
  },
  {
   "cell_type": "markdown",
   "source": [
    "\n",
    "#### 30. How to find common values between two arrays? (★☆☆)"
   ],
   "metadata": {
    "collapsed": false,
    "pycharm": {
     "name": "#%% md\n"
    }
   }
  },
  {
   "cell_type": "code",
   "execution_count": null,
   "outputs": [],
   "source": [
    "\n",
    "#### 31. How to ignore all numpy warnings (not recommended)? (★☆☆)"
   ],
   "metadata": {
    "collapsed": false,
    "pycharm": {
     "name": "#%%\n"
    }
   }
  },
  {
   "cell_type": "code",
   "execution_count": null,
   "outputs": [],
   "source": [
    "\n",
    "#### 32. Is the following expressions true? (★☆☆)\n",
    "```python\n",
    "np.sqrt(-1) == np.emath.sqrt(-1)\n",
    "```"
   ],
   "metadata": {
    "collapsed": false,
    "pycharm": {
     "name": "#%%\n"
    }
   }
  },
  {
   "cell_type": "code",
   "execution_count": null,
   "outputs": [],
   "source": [
    "\n",
    "#### 33. How to get the dates of yesterday, today and tomorrow? (★☆☆)"
   ],
   "metadata": {
    "collapsed": false,
    "pycharm": {
     "name": "#%%\n"
    }
   }
  },
  {
   "cell_type": "code",
   "execution_count": null,
   "outputs": [],
   "source": [
    "\n",
    "#### 34. How to get all the dates corresponding to the month of July 2016? (★★☆)"
   ],
   "metadata": {
    "collapsed": false,
    "pycharm": {
     "name": "#%%\n"
    }
   }
  },
  {
   "cell_type": "code",
   "execution_count": null,
   "outputs": [],
   "source": [
    "\n",
    "#### 35. How to compute ((A+B)*(-A/2)) in place (without copy)? (★★☆)"
   ],
   "metadata": {
    "collapsed": false,
    "pycharm": {
     "name": "#%%\n"
    }
   }
  },
  {
   "cell_type": "code",
   "execution_count": null,
   "outputs": [],
   "source": [
    "\n",
    "#### 36. Extract the integer part of a random array of positive numbers using 4 different methods (★★☆)"
   ],
   "metadata": {
    "collapsed": false,
    "pycharm": {
     "name": "#%%\n"
    }
   }
  },
  {
   "cell_type": "code",
   "execution_count": null,
   "outputs": [],
   "source": [
    "\n",
    "#### 37. Create a 5x5 matrix with row values ranging from 0 to 4 (★★☆)"
   ],
   "metadata": {
    "collapsed": false,
    "pycharm": {
     "name": "#%%\n"
    }
   }
  },
  {
   "cell_type": "code",
   "execution_count": null,
   "outputs": [],
   "source": [
    "\n",
    "#### 38. Consider a generator function that generates 10 integers and use it to build an array (★☆☆)"
   ],
   "metadata": {
    "collapsed": false,
    "pycharm": {
     "name": "#%%\n"
    }
   }
  },
  {
   "cell_type": "code",
   "execution_count": null,
   "outputs": [],
   "source": [
    "\n",
    "#### 39. Create a vector of size 10 with values ranging from 0 to 1, both excluded (★★☆)"
   ],
   "metadata": {
    "collapsed": false,
    "pycharm": {
     "name": "#%%\n"
    }
   }
  },
  {
   "cell_type": "code",
   "execution_count": null,
   "outputs": [],
   "source": [
    "\n",
    "#### 40. Create a random vector of size 10 and sort it (★★☆)\n",
    "\n",
    "#### 41. How to sum a small array faster than np.sum? (★★☆)\n",
    "\n",
    "#### 42. Consider two random array A and B, check if they are equal (★★☆)\n",
    "\n",
    "#### 43. Make an array immutable (read-only) (★★☆)\n",
    "\n",
    "#### 44. Consider a random 10x2 matrix representing cartesian coordinates, convert them to polar coordinates (★★☆)\n",
    "\n",
    "#### 45. Create random vector of size 10 and replace the maximum value by 0 (★★☆)\n",
    "\n",
    "#### 46. Create a structured array with `x` and `y` coordinates covering the [0,1]x[0,1] area (★★☆)\n",
    "\n",
    "#### 47. Given two arrays, X and Y, construct the Cauchy matrix C (Cij =1/(xi - yj)) (★★☆)\n",
    "\n",
    "#### 48. Print the minimum and maximum representable value for each numpy scalar type (★★☆)\n",
    "\n",
    "#### 49. How to print all the values of an array? (★★☆)\n",
    "\n",
    "#### 50. How to find the closest value (to a given scalar) in a vector? (★★☆)\n",
    "\n",
    "#### 51. Create a structured array representing a position (x,y) and a color (r,g,b) (★★☆)\n",
    "\n",
    "#### 52. Consider a random vector with shape (100,2) representing coordinates, find point by point distances (★★☆)\n",
    "\n",
    "#### 53. How to convert a float (32 bits) array into an integer (32 bits) in place?\n",
    "\n",
    "#### 54. How to read the following file? (★★☆)\n",
    "```\n",
    "1, 2, 3, 4, 5\n",
    "6,  ,  , 7, 8\n",
    " ,  , 9,10,11\n",
    "```\n",
    "\n",
    "#### 55. What is the equivalent of enumerate for numpy arrays? (★★☆)\n",
    "\n",
    "#### 56. Generate a generic 2D Gaussian-like array (★★☆)\n",
    "\n",
    "#### 57. How to randomly place p elements in a 2D array? (★★☆)\n",
    "\n",
    "#### 58. Subtract the mean of each row of a matrix (★★☆)\n",
    "\n",
    "#### 59. How to sort an array by the nth column? (★★☆)\n",
    "\n",
    "#### 60. How to tell if a given 2D array has null columns? (★★☆)\n",
    "\n",
    "#### 61. Find the nearest value from a given value in an array (★★☆)\n",
    "\n",
    "#### 62. Considering two arrays with shape (1,3) and (3,1), how to compute their sum using an iterator? (★★☆)\n",
    "\n",
    "#### 63. Create an array class that has a name attribute (★★☆)\n",
    "\n",
    "#### 64. Consider a given vector, how to add 1 to each element indexed by a second vector (be careful with repeated indices)? (★★★)\n",
    "\n",
    "#### 65. How to accumulate elements of a vector (X) to an array (F) based on an index list (I)? (★★★)\n",
    "\n",
    "#### 66. Considering a (w,h,3) image of (dtype=ubyte), compute the number of unique colors (★★☆)\n",
    "\n",
    "#### 67. Considering a four dimensions array, how to get sum over the last two axis at once? (★★★)\n",
    "\n",
    "#### 68. Considering a one-dimensional vector D, how to compute means of subsets of D using a vector S of same size describing subset  indices? (★★★)\n",
    "\n",
    "#### 69. How to get the diagonal of a dot product? (★★★)\n",
    "\n",
    "#### 70. Consider the vector [1, 2, 3, 4, 5], how to build a new vector with 3 consecutive zeros interleaved between each value? (★★★)\n",
    "\n",
    "#### 71. Consider an array of dimension (5,5,3), how to mulitply it by an array with dimensions (5,5)? (★★★)\n",
    "\n",
    "#### 72. How to swap two rows of an array? (★★★)\n",
    "\n",
    "#### 73. Consider a set of 10 triplets describing 10 triangles (with shared vertices), find the set of unique line segments composing all the  triangles (★★★)\n",
    "\n",
    "#### 74. Given a sorted array C that corresponds to a bincount, how to produce an array A such that np.bincount(A) == C? (★★★)\n",
    "\n",
    "#### 75. How to compute averages using a sliding window over an array? (★★★)\n",
    "\n",
    "#### 76. Consider a one-dimensional array Z, build a two-dimensional array whose first row is (Z[0],Z[1],Z[2]) and each subsequent row is  shifted by 1 (last row should be (Z[-3],Z[-2],Z[-1]) (★★★)\n",
    "\n",
    "#### 77. How to negate a boolean, or to change the sign of a float inplace? (★★★)\n",
    "\n",
    "#### 78. Consider 2 sets of points P0,P1 describing lines (2d) and a point p, how to compute distance from p to each line i (P0[i],P1[i])? (★★★)\n",
    "\n",
    "#### 79. Consider 2 sets of points P0,P1 describing lines (2d) and a set of points P, how to compute distance from each point j (P[j]) to each line i (P0[i],P1[i])? (★★★)\n",
    "\n",
    "#### 80. Consider an arbitrary array, write a function that extract a subpart with a fixed shape and centered on a given element (pad with a `fill` value when necessary) (★★★)\n",
    "\n",
    "#### 81. Consider an array Z = [1,2,3,4,5,6,7,8,9,10,11,12,13,14], how to generate an array R = [[1,2,3,4], [2,3,4,5], [3,4,5,6], ..., [11,12,13,14]]? (★★★)\n",
    "\n",
    "#### 82. Compute a matrix rank (★★★)\n",
    "\n",
    "#### 83. How to find the most frequent value in an array?\n",
    "\n",
    "#### 84. Extract all the contiguous 3x3 blocks from a random 10x10 matrix (★★★)\n",
    "\n",
    "#### 85. Create a 2D array subclass such that Z[i,j] == Z[j,i] (★★★)\n",
    "\n",
    "#### 86. Consider a set of p matrices wich shape (n,n) and a set of p vectors with shape (n,1). How to compute the sum of of the p matrix products at once? (result has shape (n,1)) (★★★)\n",
    "\n",
    "#### 87. Consider a 16x16 array, how to get the block-sum (block size is 4x4)? (★★★)\n",
    "\n",
    "#### 88. How to implement the Game of Life using numpy arrays? (★★★)\n",
    "\n",
    "#### 89. How to get the n largest values of an array (★★★)\n",
    "\n",
    "#### 90. Given an arbitrary number of vectors, build the cartesian product (every combinations of every item) (★★★)\n",
    "\n",
    "#### 91. How to create a record array from a regular array? (★★★)\n",
    "\n",
    "#### 92. Consider a large vector Z, compute Z to the power of 3 using 3 different methods (★★★)\n",
    "\n",
    "#### 93. Consider two arrays A and B of shape (8,3) and (2,2). How to find rows of A that contain elements of each row of B regardless of the order of the elements in B? (★★★)\n",
    "\n",
    "#### 94. Considering a 10x3 matrix, extract rows with unequal values (e.g. [2,2,3]) (★★★)\n",
    "\n",
    "#### 95. Convert a vector of ints into a matrix binary representation (★★★)\n",
    "\n",
    "#### 96. Given a two dimensional array, how to extract unique rows? (★★★)\n",
    "\n",
    "#### 97. Considering 2 vectors A & B, write the einsum equivalent of inner, outer, sum, and mul function (★★★)\n",
    "\n",
    "#### 98. Considering a path described by two vectors (X,Y), how to sample it using equidistant samples (★★★)?\n",
    "\n",
    "#### 99. Given an integer n and a 2D array X, select from X the rows which can be interpreted as draws from a multinomial distribution with n degrees, i.e., the rows which only contain integers and which sum to n. (★★★)\n",
    "\n",
    "#### 100. Compute bootstrapped 95% confidence intervals for the mean of a 1D array X (i.e., resample the elements of an array with replacement N times, compute the mean of each sample, and then compute percentiles over the means). (★★★)"
   ],
   "metadata": {
    "collapsed": false,
    "pycharm": {
     "name": "#%%\n"
    }
   }
  }
 ],
 "metadata": {
  "kernelspec": {
   "display_name": "Python 3",
   "language": "python",
   "name": "python3"
  },
  "language_info": {
   "codemirror_mode": {
    "name": "ipython",
    "version": 2
   },
   "file_extension": ".py",
   "mimetype": "text/x-python",
   "name": "python",
   "nbconvert_exporter": "python",
   "pygments_lexer": "ipython2",
   "version": "2.7.6"
  }
 },
 "nbformat": 4,
 "nbformat_minor": 0
}